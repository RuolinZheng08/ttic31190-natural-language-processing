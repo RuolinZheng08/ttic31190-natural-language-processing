{
 "cells": [
  {
   "cell_type": "markdown",
   "metadata": {},
   "source": [
    "# Experiments\n",
    "\n",
    "TODO: Use 5-fold cross validation.\n",
    "\n",
    "## Dataset\n",
    "- `dev` only\n",
    "- `dev` and part of `devtest` using `train_test_split`\n",
    "- use same model for `normal` and `hard`, i.e. concat `dev` and `dev-hard`\n",
    "\n",
    "## Text cleaning\n",
    "- just `word_tokenize`\n",
    "- remove punctuations\n",
    "- remove stop words\n",
    "- use Porter stemmer\n",
    "\n",
    "## Feature engineering\n",
    "\n",
    "- number of unique overlapping unigrams\n",
    "- number of overlapping unigrams (probably not much difference)\n",
    "\n",
    "Always use edit distance\n",
    "\n",
    "### Misc\n",
    "- Compute feature correlation\n",
    "- Visualize feature distribution as well as a scatter plot of the 2D features."
   ]
  },
  {
   "cell_type": "code",
   "execution_count": 57,
   "metadata": {},
   "outputs": [],
   "source": [
    "import pickle\n",
    "\n",
    "import string\n",
    "import editdistance\n",
    "\n",
    "import numpy as np\n",
    "import pandas as pd\n",
    "import matplotlib.pyplot as plt\n",
    "import seaborn as sns\n",
    "\n",
    "import nltk\n",
    "from nltk.tokenize import word_tokenize\n",
    "\n",
    "from sklearn.model_selection import train_test_split\n",
    "from sklearn.neural_network import MLPClassifier\n",
    "from sklearn.metrics import confusion_matrix, accuracy_score"
   ]
  },
  {
   "cell_type": "code",
   "execution_count": 2,
   "metadata": {},
   "outputs": [],
   "source": [
    "punctuations = set(string.punctuation)\n",
    "stopwords = set(nltk.corpus.stopwords.words('english'))\n",
    "ps = nltk.PorterStemmer()"
   ]
  },
  {
   "cell_type": "code",
   "execution_count": 3,
   "metadata": {},
   "outputs": [],
   "source": [
    "def load_file(path, skip_id=False, has_label=True):\n",
    "    \"\"\"\n",
    "    has_label: also return label column if True\n",
    "    return [['hello world', 'hi'], ['hi World', 'hello']]\n",
    "    \"\"\"\n",
    "    first_lines = []\n",
    "    second_lines = []\n",
    "    if has_label:\n",
    "        labels = []\n",
    "    if skip_id:\n",
    "        start_col_idx = 1\n",
    "    else:\n",
    "        start_col_idx = 0\n",
    "    with open(path, 'rt') as f:\n",
    "        for line in f:\n",
    "            chunks = line.strip().split('\\t')\n",
    "            first = chunks[start_col_idx]\n",
    "            second = chunks[start_col_idx + 1]\n",
    "            first_lines.append(first)\n",
    "            second_lines.append(second)\n",
    "            \n",
    "            if has_label:\n",
    "                label = int(chunks[start_col_idx + 2])\n",
    "                labels.append(label)\n",
    "    if has_label:\n",
    "        ret = pd.DataFrame({\n",
    "            'line1': first_lines, \n",
    "            'line2': second_lines, \n",
    "            'is_paraphrase': labels\n",
    "        })\n",
    "    else:\n",
    "        ret = pd.DataFrame({\n",
    "            'line1': first_lines, \n",
    "            'line2': second_lines\n",
    "        })\n",
    "    return ret"
   ]
  },
  {
   "cell_type": "code",
   "execution_count": 41,
   "metadata": {},
   "outputs": [],
   "source": [
    "def clean_text(text, remove_punkt=False, remove_stopwords=False, stem=False):\n",
    "    tokens = word_tokenize(text.lower())\n",
    "    if remove_punkt:\n",
    "        tokens = [tok for tok in tokens if not tok in punctuations]\n",
    "    if remove_stopwords:\n",
    "        tokens = [tok for tok in tokens if not tok in stopwords]\n",
    "    if stem:\n",
    "        tokens = [ps.stem(tok) for tok in tokens]\n",
    "    return tokens"
   ]
  },
  {
   "cell_type": "code",
   "execution_count": 5,
   "metadata": {},
   "outputs": [],
   "source": [
    "def construct_features(first_lines, second_lines):\n",
    "    # number of unique overlapping unigrams, edit distance\n",
    "    features = np.empty((len(first_lines), 2))\n",
    "    for idx, tup in enumerate(zip(first_lines, second_lines)):\n",
    "        first, second = tup\n",
    "        num_unigrams = len(set(first).intersection(second))\n",
    "        edit_dist = editdistance.eval(first, second)\n",
    "        features[idx, 0] = num_unigrams\n",
    "        features[idx, 1] = edit_dist\n",
    "    return features"
   ]
  },
  {
   "cell_type": "code",
   "execution_count": 6,
   "metadata": {},
   "outputs": [],
   "source": [
    "def model_pipeline(X, y, X_val, y_val):\n",
    "    \"\"\"\n",
    "    X, y: train; X_val, y_val: validation\n",
    "    \"\"\"\n",
    "    model = MLPClassifier(max_iter=1000, random_state=0)\n",
    "    model.fit(X, y)\n",
    "    y_pred = model.predict(X)\n",
    "    train_accu = accuracy_score(y, y_pred)\n",
    "    print('Train accuray: {:4f}'.format(train_accu))\n",
    "    y_val_pred = model.predict(X_val)\n",
    "    val_accu = accuracy_score(y_val, y_val_pred)\n",
    "    print('Validation accuracy: {:4f}'.format(val_accu))\n",
    "    # construct confusion matrix on validation set\n",
    "    conf_mat = confusion_matrix(y_val, y_val_pred)\n",
    "    ax = sns.heatmap(conf_mat, annot=True, fmt='d', cmap='Blues')\n",
    "    ax.set_xlabel('Prediction')\n",
    "    ax.set_ylabel('True labels')\n",
    "    \n",
    "    ret = {\n",
    "        'model': model,\n",
    "        'train_accu': train_accu,\n",
    "        'val_accu': val_accu,\n",
    "        'conf_mat': ax\n",
    "    }\n",
    "    return ret"
   ]
  },
  {
   "cell_type": "code",
   "execution_count": 39,
   "metadata": {},
   "outputs": [],
   "source": [
    "def run_experiment(train_df, val_df, call_clean_text=True, clean_text_kws=None):\n",
    "    if call_clean_text:\n",
    "        X = construct_features(train_df.line1.apply(clean_text, **clean_text_kws), \n",
    "                               train_df.line2.apply(clean_text, **clean_text_kws))\n",
    "        X_val = construct_features(val_df.line1.apply(clean_text, **clean_text_kws),\n",
    "                                   val_df.line2.apply(clean_text, **clean_text_kws))\n",
    "    else:\n",
    "        X = construct_features(train_df.line1, train_df.line2)\n",
    "        X_val = construct_features(val_df.line1, val_df.line2)\n",
    "        \n",
    "    y = train_df.is_paraphrase\n",
    "    y_val = val_df.is_paraphrase\n",
    "    ret = model_pipeline(X, y, X_val, y_val)\n",
    "    return ret"
   ]
  },
  {
   "cell_type": "markdown",
   "metadata": {},
   "source": [
    "# Load data"
   ]
  },
  {
   "cell_type": "code",
   "execution_count": 8,
   "metadata": {},
   "outputs": [],
   "source": [
    "dev = load_file('data/dev+devtest/dev.tsv')\n",
    "devtest = load_file('data/dev+devtest/devtest.tsv')\n",
    "test = load_file('data/test_no_labels.tsv', skip_id=True, has_label=False)\n",
    "dev_hard = load_file('data/heldout-hard/dev.hard.tsv')\n",
    "devtest_hard = load_file('data/heldout-hard/devtest.hard.tsv')\n",
    "test_hard = load_file('data/heldout-hard/test.hard.tsv', has_label=False)"
   ]
  },
  {
   "cell_type": "code",
   "execution_count": 9,
   "metadata": {},
   "outputs": [
    {
     "data": {
      "text/html": [
       "<div>\n",
       "<style scoped>\n",
       "    .dataframe tbody tr th:only-of-type {\n",
       "        vertical-align: middle;\n",
       "    }\n",
       "\n",
       "    .dataframe tbody tr th {\n",
       "        vertical-align: top;\n",
       "    }\n",
       "\n",
       "    .dataframe thead th {\n",
       "        text-align: right;\n",
       "    }\n",
       "</style>\n",
       "<table border=\"1\" class=\"dataframe\">\n",
       "  <thead>\n",
       "    <tr style=\"text-align: right;\">\n",
       "      <th></th>\n",
       "      <th>line1</th>\n",
       "      <th>line2</th>\n",
       "      <th>is_paraphrase</th>\n",
       "    </tr>\n",
       "  </thead>\n",
       "  <tbody>\n",
       "    <tr>\n",
       "      <th>0</th>\n",
       "      <td>I don't know what you're sayin'.</td>\n",
       "      <td>I don't know what you're talking about.</td>\n",
       "      <td>1</td>\n",
       "    </tr>\n",
       "    <tr>\n",
       "      <th>1</th>\n",
       "      <td>They're on the next flight home.</td>\n",
       "      <td>he's going home next flight.</td>\n",
       "      <td>1</td>\n",
       "    </tr>\n",
       "    <tr>\n",
       "      <th>2</th>\n",
       "      <td>Such stories.</td>\n",
       "      <td>the stories.</td>\n",
       "      <td>1</td>\n",
       "    </tr>\n",
       "    <tr>\n",
       "      <th>3</th>\n",
       "      <td>On your left!</td>\n",
       "      <td>in the left!</td>\n",
       "      <td>1</td>\n",
       "    </tr>\n",
       "    <tr>\n",
       "      <th>4</th>\n",
       "      <td>I don't think it's actually a good idea...</td>\n",
       "      <td>I don't think it's a good idea.</td>\n",
       "      <td>1</td>\n",
       "    </tr>\n",
       "  </tbody>\n",
       "</table>\n",
       "</div>"
      ],
      "text/plain": [
       "                                        line1  \\\n",
       "0            I don't know what you're sayin'.   \n",
       "1            They're on the next flight home.   \n",
       "2                               Such stories.   \n",
       "3                               On your left!   \n",
       "4  I don't think it's actually a good idea...   \n",
       "\n",
       "                                     line2  is_paraphrase  \n",
       "0  I don't know what you're talking about.              1  \n",
       "1             he's going home next flight.              1  \n",
       "2                             the stories.              1  \n",
       "3                             in the left!              1  \n",
       "4          I don't think it's a good idea.              1  "
      ]
     },
     "execution_count": 9,
     "metadata": {},
     "output_type": "execute_result"
    }
   ],
   "source": [
    "dev.head()"
   ]
  },
  {
   "cell_type": "code",
   "execution_count": 12,
   "metadata": {},
   "outputs": [],
   "source": [
    "experiments = {}"
   ]
  },
  {
   "cell_type": "markdown",
   "metadata": {},
   "source": [
    "# Baseline\n",
    "- Use dev only, train different models for normal and hard\n",
    "- Test on devtest\n",
    "- No text cleaning, which means the string are parsed character by character"
   ]
  },
  {
   "cell_type": "code",
   "execution_count": 13,
   "metadata": {},
   "outputs": [
    {
     "name": "stdout",
     "output_type": "stream",
     "text": [
      "Train accuray: 0.841076\n",
      "Validation accuracy: 0.813665\n"
     ]
    },
    {
     "data": {
      "image/png": "[encoded data removed]",
      "text/plain": [
       "<Figure size 432x288 with 2 Axes>"
      ]
     },
     "metadata": {
      "needs_background": "light"
     },
     "output_type": "display_data"
    }
   ],
   "source": [
    "# normal\n",
    "ret = run_experiment(dev, devtest, call_clean_text=False)\n",
    "experiments['baseline'] = ret"
   ]
  },
  {
   "cell_type": "code",
   "execution_count": 14,
   "metadata": {
    "scrolled": true
   },
   "outputs": [
    {
     "name": "stdout",
     "output_type": "stream",
     "text": [
      "Train accuray: 0.725000\n",
      "Validation accuracy: 0.700000\n"
     ]
    },
    {
     "data": {
      "image/png": "[encoded data removed]",
      "text/plain": [
       "<Figure size 432x288 with 2 Axes>"
      ]
     },
     "metadata": {
      "needs_background": "light"
     },
     "output_type": "display_data"
    }
   ],
   "source": [
    "# hard\n",
    "ret = run_experiment(dev_hard, devtest_hard, call_clean_text=False)\n",
    "experiments['baseline_hard'] = ret"
   ]
  },
  {
   "cell_type": "markdown",
   "metadata": {},
   "source": [
    "# With tokenization"
   ]
  },
  {
   "cell_type": "code",
   "execution_count": 15,
   "metadata": {},
   "outputs": [
    {
     "name": "stdout",
     "output_type": "stream",
     "text": [
      "Train accuray: 0.844743\n",
      "Validation accuracy: 0.829814\n"
     ]
    },
    {
     "data": {
      "image/png": "[encoded data removed]",
      "text/plain": [
       "<Figure size 432x288 with 2 Axes>"
      ]
     },
     "metadata": {
      "needs_background": "light"
     },
     "output_type": "display_data"
    }
   ],
   "source": [
    "# normal\n",
    "ret = run_experiment(dev, devtest, call_clean_text=True)\n",
    "experiments['tokenized'] = ret"
   ]
  },
  {
   "cell_type": "code",
   "execution_count": 16,
   "metadata": {},
   "outputs": [
    {
     "name": "stdout",
     "output_type": "stream",
     "text": [
      "Train accuray: 0.689000\n",
      "Validation accuracy: 0.668000\n"
     ]
    },
    {
     "data": {
      "image/png": "[encoded data removed]",
      "text/plain": [
       "<Figure size 432x288 with 2 Axes>"
      ]
     },
     "metadata": {
      "needs_background": "light"
     },
     "output_type": "display_data"
    }
   ],
   "source": [
    "# hard\n",
    "ret = run_experiment(dev_hard, devtest_hard, call_clean_text=True)\n",
    "experiments['tokenized_hard'] = ret"
   ]
  },
  {
   "cell_type": "markdown",
   "metadata": {},
   "source": [
    "Concat and `train_test_split` dev and devtest for more training data. From the result it looks like bigger datasets are better."
   ]
  },
  {
   "cell_type": "code",
   "execution_count": 18,
   "metadata": {},
   "outputs": [],
   "source": [
    "normal = pd.concat([dev, devtest])\n",
    "hard = pd.concat([dev_hard, devtest_hard])\n",
    "dev_big, devtest_small = train_test_split(normal, random_state=0)\n",
    "dev_hard_big, devtest_hard_small = train_test_split(hard, random_state=0)"
   ]
  },
  {
   "cell_type": "code",
   "execution_count": 19,
   "metadata": {},
   "outputs": [
    {
     "name": "stdout",
     "output_type": "stream",
     "text": [
      "1000 1500\n"
     ]
    },
    {
     "data": {
      "text/html": [
       "<div>\n",
       "<style scoped>\n",
       "    .dataframe tbody tr th:only-of-type {\n",
       "        vertical-align: middle;\n",
       "    }\n",
       "\n",
       "    .dataframe tbody tr th {\n",
       "        vertical-align: top;\n",
       "    }\n",
       "\n",
       "    .dataframe thead th {\n",
       "        text-align: right;\n",
       "    }\n",
       "</style>\n",
       "<table border=\"1\" class=\"dataframe\">\n",
       "  <thead>\n",
       "    <tr style=\"text-align: right;\">\n",
       "      <th></th>\n",
       "      <th>line1</th>\n",
       "      <th>line2</th>\n",
       "      <th>is_paraphrase</th>\n",
       "    </tr>\n",
       "  </thead>\n",
       "  <tbody>\n",
       "    <tr>\n",
       "      <th>45</th>\n",
       "      <td>A proposed Mahadayi River ( Mandovi River ) wa...</td>\n",
       "      <td>A proposed Mahadayi River ( Mandovi River ) wa...</td>\n",
       "      <td>1</td>\n",
       "    </tr>\n",
       "    <tr>\n",
       "      <th>937</th>\n",
       "      <td>Rıza Maksut İşman ( 1915 in Istanbul -- Decemb...</td>\n",
       "      <td>Rıza Maksut İşman ( 1915 in İzmir -- December ...</td>\n",
       "      <td>0</td>\n",
       "    </tr>\n",
       "    <tr>\n",
       "      <th>658</th>\n",
       "      <td>A Peri whose power is in her hair appears in E...</td>\n",
       "      <td>A Peri whose force appears in her hair is in E...</td>\n",
       "      <td>0</td>\n",
       "    </tr>\n",
       "    <tr>\n",
       "      <th>529</th>\n",
       "      <td>This made him the first 994nd grader to play f...</td>\n",
       "      <td>This made him the 994th first grader to play f...</td>\n",
       "      <td>0</td>\n",
       "    </tr>\n",
       "    <tr>\n",
       "      <th>895</th>\n",
       "      <td>The first or `` narrow '' system consists of r...</td>\n",
       "      <td>The first or `` red '' system consists of narr...</td>\n",
       "      <td>0</td>\n",
       "    </tr>\n",
       "  </tbody>\n",
       "</table>\n",
       "</div>"
      ],
      "text/plain": [
       "                                                 line1  \\\n",
       "45   A proposed Mahadayi River ( Mandovi River ) wa...   \n",
       "937  Rıza Maksut İşman ( 1915 in Istanbul -- Decemb...   \n",
       "658  A Peri whose power is in her hair appears in E...   \n",
       "529  This made him the first 994nd grader to play f...   \n",
       "895  The first or `` narrow '' system consists of r...   \n",
       "\n",
       "                                                 line2  is_paraphrase  \n",
       "45   A proposed Mahadayi River ( Mandovi River ) wa...              1  \n",
       "937  Rıza Maksut İşman ( 1915 in İzmir -- December ...              0  \n",
       "658  A Peri whose force appears in her hair is in E...              0  \n",
       "529  This made him the 994th first grader to play f...              0  \n",
       "895  The first or `` red '' system consists of narr...              0  "
      ]
     },
     "execution_count": 19,
     "metadata": {},
     "output_type": "execute_result"
    }
   ],
   "source": [
    "print(len(dev_hard), len(dev_hard_big))\n",
    "dev_hard_big.head()"
   ]
  },
  {
   "cell_type": "code",
   "execution_count": 21,
   "metadata": {},
   "outputs": [
    {
     "name": "stdout",
     "output_type": "stream",
     "text": [
      "Train accuray: 0.842235\n",
      "Validation accuracy: 0.837438\n"
     ]
    },
    {
     "data": {
      "image/png": "[encoded data removed]",
      "text/plain": [
       "<Figure size 432x288 with 2 Axes>"
      ]
     },
     "metadata": {
      "needs_background": "light"
     },
     "output_type": "display_data"
    }
   ],
   "source": [
    "# normal\n",
    "ret = run_experiment(dev_big, devtest_small, call_clean_text=True)\n",
    "experiments['big'] = ret"
   ]
  },
  {
   "cell_type": "code",
   "execution_count": 23,
   "metadata": {},
   "outputs": [
    {
     "name": "stdout",
     "output_type": "stream",
     "text": [
      "Train accuray: 0.681333\n",
      "Validation accuracy: 0.686000\n"
     ]
    },
    {
     "data": {
      "image/png": "[encoded data removed]",
      "text/plain": [
       "<Figure size 432x288 with 2 Axes>"
      ]
     },
     "metadata": {
      "needs_background": "light"
     },
     "output_type": "display_data"
    }
   ],
   "source": [
    "# hard\n",
    "ret = run_experiment(dev_hard_big, devtest_hard_small, call_clean_text=True)\n",
    "experiments['big_hard'] = ret"
   ]
  },
  {
   "cell_type": "markdown",
   "metadata": {},
   "source": [
    "Train a single model for both normal and hard by concatenating all data. The results were actually worse, which might mean that the normal and hard version are very different."
   ]
  },
  {
   "cell_type": "code",
   "execution_count": 24,
   "metadata": {},
   "outputs": [
    {
     "name": "stdout",
     "output_type": "stream",
     "text": [
      "Train accuray: 0.690099\n",
      "Validation accuracy: 0.667770\n"
     ]
    },
    {
     "data": {
      "image/png": "[encoded data removed]",
      "text/plain": [
       "<Figure size 432x288 with 2 Axes>"
      ]
     },
     "metadata": {
      "needs_background": "light"
     },
     "output_type": "display_data"
    }
   ],
   "source": [
    "ret = run_experiment(\n",
    "    pd.concat([dev_big, dev_hard_big]), \n",
    "    pd.concat([devtest_small, devtest_hard_small]), \n",
    "    call_clean_text=True)\n",
    "experiments['combined'] = ret"
   ]
  },
  {
   "cell_type": "code",
   "execution_count": 30,
   "metadata": {},
   "outputs": [
    {
     "name": "stdout",
     "output_type": "stream",
     "text": [
      "Train accuray: 0.690099\n",
      "Validation accuracy: 0.812808\n"
     ]
    },
    {
     "data": {
      "image/png": "[encoded data removed]",
      "text/plain": [
       "<Figure size 432x288 with 2 Axes>"
      ]
     },
     "metadata": {
      "needs_background": "light"
     },
     "output_type": "display_data"
    }
   ],
   "source": [
    "# evaluate performance separately\n",
    "# the model has never seen devtest_small or devtest_hard_small\n",
    "# okay to call run_experiment here since I set training to be deterministic\n",
    "ret = run_experiment(\n",
    "    pd.concat([dev_big, dev_hard_big]), \n",
    "    devtest_small,\n",
    "    call_clean_text=True)\n",
    "experiments['combined_normal'] = ret"
   ]
  },
  {
   "cell_type": "code",
   "execution_count": 31,
   "metadata": {},
   "outputs": [
    {
     "name": "stdout",
     "output_type": "stream",
     "text": [
      "Train accuray: 0.690099\n",
      "Validation accuracy: 0.550000\n"
     ]
    },
    {
     "data": {
      "image/png": "[encoded data removed]",
      "text/plain": [
       "<Figure size 432x288 with 2 Axes>"
      ]
     },
     "metadata": {
      "needs_background": "light"
     },
     "output_type": "display_data"
    }
   ],
   "source": [
    "ret = run_experiment(\n",
    "    pd.concat([dev_big, dev_hard_big]), \n",
    "    devtest_hard_small,\n",
    "    call_clean_text=True)\n",
    "experiments['combined_hard'] = ret"
   ]
  },
  {
   "cell_type": "markdown",
   "metadata": {},
   "source": [
    "# Text cleaning\n",
    "- Remove punctuations\n",
    "- Remove stopwords\n",
    "- Stem\n",
    "\n",
    "Use the bigger sets."
   ]
  },
  {
   "cell_type": "code",
   "execution_count": 42,
   "metadata": {},
   "outputs": [
    {
     "name": "stdout",
     "output_type": "stream",
     "text": [
      "Train accuray: 0.823336\n",
      "Validation accuracy: 0.852217\n"
     ]
    },
    {
     "data": {
      "image/png": "[encoded data removed]",
      "text/plain": [
       "<Figure size 432x288 with 2 Axes>"
      ]
     },
     "metadata": {
      "needs_background": "light"
     },
     "output_type": "display_data"
    }
   ],
   "source": [
    "# normal\n",
    "ret = run_experiment(dev_big, devtest_small, call_clean_text=True, \n",
    "                    clean_text_kws={'remove_punkt': True})\n",
    "experiments['no_punkt'] = ret"
   ]
  },
  {
   "cell_type": "code",
   "execution_count": 43,
   "metadata": {},
   "outputs": [
    {
     "name": "stdout",
     "output_type": "stream",
     "text": [
      "Train accuray: 0.693333\n",
      "Validation accuracy: 0.706000\n"
     ]
    },
    {
     "data": {
      "image/png": "[encoded data removed]",
      "text/plain": [
       "<Figure size 432x288 with 2 Axes>"
      ]
     },
     "metadata": {
      "needs_background": "light"
     },
     "output_type": "display_data"
    }
   ],
   "source": [
    "# hard\n",
    "ret = run_experiment(dev_hard_big, devtest_hard_small, call_clean_text=True, \n",
    "                    clean_text_kws={'remove_punkt': True})\n",
    "experiments['no_punkt_hard'] = ret"
   ]
  },
  {
   "cell_type": "code",
   "execution_count": 44,
   "metadata": {
    "scrolled": true
   },
   "outputs": [
    {
     "name": "stdout",
     "output_type": "stream",
     "text": [
      "Train accuray: 0.775678\n",
      "Validation accuracy: 0.812808\n"
     ]
    },
    {
     "data": {
      "image/png": "[encoded data removed]",
      "text/plain": [
       "<Figure size 432x288 with 2 Axes>"
      ]
     },
     "metadata": {
      "needs_background": "light"
     },
     "output_type": "display_data"
    }
   ],
   "source": [
    "# normal\n",
    "ret = run_experiment(dev_big, devtest_small, call_clean_text=True, \n",
    "                    clean_text_kws={'remove_punkt': True, \n",
    "                                    'remove_stopwords': True})\n",
    "experiments['no_punkt_stopwords'] = ret"
   ]
  },
  {
   "cell_type": "code",
   "execution_count": 46,
   "metadata": {
    "scrolled": true
   },
   "outputs": [
    {
     "name": "stdout",
     "output_type": "stream",
     "text": [
      "Train accuray: 0.712667\n",
      "Validation accuracy: 0.742000\n"
     ]
    },
    {
     "data": {
      "image/png": "[encoded data removed]",
      "text/plain": [
       "<Figure size 432x288 with 2 Axes>"
      ]
     },
     "metadata": {
      "needs_background": "light"
     },
     "output_type": "display_data"
    }
   ],
   "source": [
    "# hard\n",
    "ret = run_experiment(dev_hard_big, devtest_hard_small, call_clean_text=True, \n",
    "                    clean_text_kws={'remove_punkt': True, \n",
    "                                    'remove_stopwords': True})\n",
    "experiments['no_punkt_stopwords_hard'] = ret"
   ]
  },
  {
   "cell_type": "code",
   "execution_count": 49,
   "metadata": {},
   "outputs": [
    {
     "name": "stdout",
     "output_type": "stream",
     "text": [
      "Train accuray: 0.833196\n",
      "Validation accuracy: 0.859606\n"
     ]
    },
    {
     "data": {
      "image/png": "[encoded data removed]",
      "text/plain": [
       "<Figure size 432x288 with 2 Axes>"
      ]
     },
     "metadata": {
      "needs_background": "light"
     },
     "output_type": "display_data"
    }
   ],
   "source": [
    "# normal\n",
    "ret = run_experiment(dev_big, devtest_small, call_clean_text=True, \n",
    "                    clean_text_kws={'remove_punkt': True, \n",
    "                                    'stem': True})\n",
    "experiments['no_punkt_stem'] = ret"
   ]
  },
  {
   "cell_type": "code",
   "execution_count": 56,
   "metadata": {},
   "outputs": [
    {
     "name": "stdout",
     "output_type": "stream",
     "text": [
      "Train accuray: 0.698000\n",
      "Validation accuracy: 0.710000\n"
     ]
    },
    {
     "data": {
      "image/png": "[encoded data removed]",
      "text/plain": [
       "<Figure size 432x288 with 2 Axes>"
      ]
     },
     "metadata": {
      "needs_background": "light"
     },
     "output_type": "display_data"
    }
   ],
   "source": [
    "# hard\n",
    "ret = run_experiment(dev_hard_big, devtest_hard_small, call_clean_text=True, \n",
    "                    clean_text_kws={'remove_punkt': True, \n",
    "                                    'stem': True})\n",
    "experiments['no_punkt_stem_hard'] = ret"
   ]
  },
  {
   "cell_type": "code",
   "execution_count": 52,
   "metadata": {},
   "outputs": [
    {
     "name": "stdout",
     "output_type": "stream",
     "text": [
      "Train accuray: 0.794577\n",
      "Validation accuracy: 0.817734\n"
     ]
    },
    {
     "data": {
      "image/png": "[encoded data removed]",
      "text/plain": [
       "<Figure size 432x288 with 2 Axes>"
      ]
     },
     "metadata": {
      "needs_background": "light"
     },
     "output_type": "display_data"
    }
   ],
   "source": [
    "# normal\n",
    "ret = run_experiment(dev_big, devtest_small, call_clean_text=True, \n",
    "                    clean_text_kws={'remove_punkt': True, \n",
    "                                    'remove_stopwords': True,\n",
    "                                    'stem': True\n",
    "                                   })\n",
    "experiments['no_punkt_stopwords_stem'] = ret"
   ]
  },
  {
   "cell_type": "code",
   "execution_count": 53,
   "metadata": {
    "scrolled": true
   },
   "outputs": [
    {
     "name": "stdout",
     "output_type": "stream",
     "text": [
      "Train accuray: 0.712000\n",
      "Validation accuracy: 0.742000\n"
     ]
    },
    {
     "data": {
      "image/png": "[encoded data removed]",
      "text/plain": [
       "<Figure size 432x288 with 2 Axes>"
      ]
     },
     "metadata": {
      "needs_background": "light"
     },
     "output_type": "display_data"
    }
   ],
   "source": [
    "# hard\n",
    "ret = run_experiment(dev_hard_big, devtest_hard_small, call_clean_text=True, \n",
    "                    clean_text_kws={'remove_punkt': True, \n",
    "                                    'remove_stopwords': True,\n",
    "                                    'stem': True\n",
    "                                   })\n",
    "experiments['no_punkt_stopwords_stem_hard'] = ret"
   ]
  },
  {
   "cell_type": "code",
   "execution_count": 54,
   "metadata": {},
   "outputs": [
    {
     "data": {
      "text/plain": [
       "dict_keys(['baseline', 'baseline_hard', 'tokenized', 'tokenized_hard', 'big', 'big_hard', 'combined', 'combined_normal', 'combined_hard', 'no_punkt', 'no_punkt_hard', 'no_punkt_stopwords', 'no_punkt_stopwords_hard', 'stem_hard', 'no_punkt_stem', 'no_punkt_stopwords_stem', 'no_punkt_stopwords_stem_hard'])"
      ]
     },
     "execution_count": 54,
     "metadata": {},
     "output_type": "execute_result"
    }
   ],
   "source": [
    "experiments.keys()"
   ]
  },
  {
   "cell_type": "code",
   "execution_count": 59,
   "metadata": {},
   "outputs": [],
   "source": [
    "# with open('output/experiments.pkl', 'wb') as f:\n",
    "#     pickle.dump(experiments, f)"
   ]
  },
  {
   "cell_type": "markdown",
   "metadata": {},
   "source": [
    "# Find best model"
   ]
  },
  {
   "cell_type": "code",
   "execution_count": 71,
   "metadata": {},
   "outputs": [],
   "source": [
    "train_accus = []\n",
    "val_accus = []\n",
    "configs = []\n",
    "datasets = []\n",
    "for config in experiments:\n",
    "    res = experiments[config]\n",
    "    train_accus.append(res['train_accu'])\n",
    "    val_accus.append(res['val_accu'])\n",
    "    configs.append(config)\n",
    "    if 'hard' in config:\n",
    "        datasets.append('hard')\n",
    "    else:\n",
    "        datasets.append('normal')\n",
    "result = pd.DataFrame({\n",
    "    'config': configs,\n",
    "    'dataset': datasets,\n",
    "    'train_accu': train_accus,\n",
    "    'val_accu': val_accus\n",
    "})"
   ]
  },
  {
   "cell_type": "code",
   "execution_count": 72,
   "metadata": {},
   "outputs": [],
   "source": [
    "# result.to_csv('output/mlp-results.csv', index=False)"
   ]
  },
  {
   "cell_type": "code",
   "execution_count": 73,
   "metadata": {},
   "outputs": [
    {
     "data": {
      "text/html": [
       "<div>\n",
       "<style scoped>\n",
       "    .dataframe tbody tr th:only-of-type {\n",
       "        vertical-align: middle;\n",
       "    }\n",
       "\n",
       "    .dataframe tbody tr th {\n",
       "        vertical-align: top;\n",
       "    }\n",
       "\n",
       "    .dataframe thead th {\n",
       "        text-align: right;\n",
       "    }\n",
       "</style>\n",
       "<table border=\"1\" class=\"dataframe\">\n",
       "  <thead>\n",
       "    <tr style=\"text-align: right;\">\n",
       "      <th></th>\n",
       "      <th>config</th>\n",
       "      <th>dataset</th>\n",
       "      <th>train_accu</th>\n",
       "      <th>val_accu</th>\n",
       "    </tr>\n",
       "  </thead>\n",
       "  <tbody>\n",
       "    <tr>\n",
       "      <th>0</th>\n",
       "      <td>baseline</td>\n",
       "      <td>normal</td>\n",
       "      <td>0.841076</td>\n",
       "      <td>0.813665</td>\n",
       "    </tr>\n",
       "    <tr>\n",
       "      <th>1</th>\n",
       "      <td>baseline_hard</td>\n",
       "      <td>hard</td>\n",
       "      <td>0.725000</td>\n",
       "      <td>0.700000</td>\n",
       "    </tr>\n",
       "    <tr>\n",
       "      <th>2</th>\n",
       "      <td>tokenized</td>\n",
       "      <td>normal</td>\n",
       "      <td>0.844743</td>\n",
       "      <td>0.829814</td>\n",
       "    </tr>\n",
       "    <tr>\n",
       "      <th>3</th>\n",
       "      <td>tokenized_hard</td>\n",
       "      <td>hard</td>\n",
       "      <td>0.689000</td>\n",
       "      <td>0.668000</td>\n",
       "    </tr>\n",
       "    <tr>\n",
       "      <th>4</th>\n",
       "      <td>big</td>\n",
       "      <td>normal</td>\n",
       "      <td>0.842235</td>\n",
       "      <td>0.837438</td>\n",
       "    </tr>\n",
       "    <tr>\n",
       "      <th>5</th>\n",
       "      <td>big_hard</td>\n",
       "      <td>hard</td>\n",
       "      <td>0.681333</td>\n",
       "      <td>0.686000</td>\n",
       "    </tr>\n",
       "    <tr>\n",
       "      <th>6</th>\n",
       "      <td>combined</td>\n",
       "      <td>normal</td>\n",
       "      <td>0.690099</td>\n",
       "      <td>0.667770</td>\n",
       "    </tr>\n",
       "    <tr>\n",
       "      <th>7</th>\n",
       "      <td>combined_normal</td>\n",
       "      <td>normal</td>\n",
       "      <td>0.690099</td>\n",
       "      <td>0.812808</td>\n",
       "    </tr>\n",
       "    <tr>\n",
       "      <th>8</th>\n",
       "      <td>combined_hard</td>\n",
       "      <td>hard</td>\n",
       "      <td>0.690099</td>\n",
       "      <td>0.550000</td>\n",
       "    </tr>\n",
       "    <tr>\n",
       "      <th>9</th>\n",
       "      <td>no_punkt</td>\n",
       "      <td>normal</td>\n",
       "      <td>0.823336</td>\n",
       "      <td>0.852217</td>\n",
       "    </tr>\n",
       "    <tr>\n",
       "      <th>10</th>\n",
       "      <td>no_punkt_hard</td>\n",
       "      <td>hard</td>\n",
       "      <td>0.693333</td>\n",
       "      <td>0.706000</td>\n",
       "    </tr>\n",
       "    <tr>\n",
       "      <th>11</th>\n",
       "      <td>no_punkt_stopwords</td>\n",
       "      <td>normal</td>\n",
       "      <td>0.775678</td>\n",
       "      <td>0.812808</td>\n",
       "    </tr>\n",
       "    <tr>\n",
       "      <th>12</th>\n",
       "      <td>no_punkt_stopwords_hard</td>\n",
       "      <td>hard</td>\n",
       "      <td>0.712667</td>\n",
       "      <td>0.742000</td>\n",
       "    </tr>\n",
       "    <tr>\n",
       "      <th>13</th>\n",
       "      <td>no_punkt_stem</td>\n",
       "      <td>normal</td>\n",
       "      <td>0.833196</td>\n",
       "      <td>0.859606</td>\n",
       "    </tr>\n",
       "    <tr>\n",
       "      <th>14</th>\n",
       "      <td>no_punkt_stopwords_stem</td>\n",
       "      <td>normal</td>\n",
       "      <td>0.794577</td>\n",
       "      <td>0.817734</td>\n",
       "    </tr>\n",
       "    <tr>\n",
       "      <th>15</th>\n",
       "      <td>no_punkt_stopwords_stem_hard</td>\n",
       "      <td>hard</td>\n",
       "      <td>0.712000</td>\n",
       "      <td>0.742000</td>\n",
       "    </tr>\n",
       "    <tr>\n",
       "      <th>16</th>\n",
       "      <td>no_punkt_stem_hard</td>\n",
       "      <td>hard</td>\n",
       "      <td>0.698000</td>\n",
       "      <td>0.710000</td>\n",
       "    </tr>\n",
       "  </tbody>\n",
       "</table>\n",
       "</div>"
      ],
      "text/plain": [
       "                          config dataset  train_accu  val_accu\n",
       "0                       baseline  normal    0.841076  0.813665\n",
       "1                  baseline_hard    hard    0.725000  0.700000\n",
       "2                      tokenized  normal    0.844743  0.829814\n",
       "3                 tokenized_hard    hard    0.689000  0.668000\n",
       "4                            big  normal    0.842235  0.837438\n",
       "5                       big_hard    hard    0.681333  0.686000\n",
       "6                       combined  normal    0.690099  0.667770\n",
       "7                combined_normal  normal    0.690099  0.812808\n",
       "8                  combined_hard    hard    0.690099  0.550000\n",
       "9                       no_punkt  normal    0.823336  0.852217\n",
       "10                 no_punkt_hard    hard    0.693333  0.706000\n",
       "11            no_punkt_stopwords  normal    0.775678  0.812808\n",
       "12       no_punkt_stopwords_hard    hard    0.712667  0.742000\n",
       "13                 no_punkt_stem  normal    0.833196  0.859606\n",
       "14       no_punkt_stopwords_stem  normal    0.794577  0.817734\n",
       "15  no_punkt_stopwords_stem_hard    hard    0.712000  0.742000\n",
       "16            no_punkt_stem_hard    hard    0.698000  0.710000"
      ]
     },
     "execution_count": 73,
     "metadata": {},
     "output_type": "execute_result"
    }
   ],
   "source": [
    "result"
   ]
  },
  {
   "cell_type": "code",
   "execution_count": 83,
   "metadata": {},
   "outputs": [
    {
     "data": {
      "text/html": [
       "<div>\n",
       "<style scoped>\n",
       "    .dataframe tbody tr th:only-of-type {\n",
       "        vertical-align: middle;\n",
       "    }\n",
       "\n",
       "    .dataframe tbody tr th {\n",
       "        vertical-align: top;\n",
       "    }\n",
       "\n",
       "    .dataframe thead th {\n",
       "        text-align: right;\n",
       "    }\n",
       "</style>\n",
       "<table border=\"1\" class=\"dataframe\">\n",
       "  <thead>\n",
       "    <tr style=\"text-align: right;\">\n",
       "      <th></th>\n",
       "      <th>config</th>\n",
       "      <th>dataset</th>\n",
       "      <th>train_accu</th>\n",
       "      <th>val_accu</th>\n",
       "    </tr>\n",
       "  </thead>\n",
       "  <tbody>\n",
       "    <tr>\n",
       "      <th>13</th>\n",
       "      <td>no_punkt_stem</td>\n",
       "      <td>normal</td>\n",
       "      <td>0.833196</td>\n",
       "      <td>0.859606</td>\n",
       "    </tr>\n",
       "  </tbody>\n",
       "</table>\n",
       "</div>"
      ],
      "text/plain": [
       "           config dataset  train_accu  val_accu\n",
       "13  no_punkt_stem  normal    0.833196  0.859606"
      ]
     },
     "metadata": {},
     "output_type": "display_data"
    },
    {
     "data": {
      "text/html": [
       "<div>\n",
       "<style scoped>\n",
       "    .dataframe tbody tr th:only-of-type {\n",
       "        vertical-align: middle;\n",
       "    }\n",
       "\n",
       "    .dataframe tbody tr th {\n",
       "        vertical-align: top;\n",
       "    }\n",
       "\n",
       "    .dataframe thead th {\n",
       "        text-align: right;\n",
       "    }\n",
       "</style>\n",
       "<table border=\"1\" class=\"dataframe\">\n",
       "  <thead>\n",
       "    <tr style=\"text-align: right;\">\n",
       "      <th></th>\n",
       "      <th>config</th>\n",
       "      <th>dataset</th>\n",
       "      <th>train_accu</th>\n",
       "      <th>val_accu</th>\n",
       "    </tr>\n",
       "  </thead>\n",
       "  <tbody>\n",
       "    <tr>\n",
       "      <th>12</th>\n",
       "      <td>no_punkt_stopwords_hard</td>\n",
       "      <td>hard</td>\n",
       "      <td>0.712667</td>\n",
       "      <td>0.742</td>\n",
       "    </tr>\n",
       "  </tbody>\n",
       "</table>\n",
       "</div>"
      ],
      "text/plain": [
       "                     config dataset  train_accu  val_accu\n",
       "12  no_punkt_stopwords_hard    hard    0.712667     0.742"
      ]
     },
     "metadata": {},
     "output_type": "display_data"
    }
   ],
   "source": [
    "display(result.loc[[result.groupby('dataset').val_accu.idxmax().normal]])\n",
    "display(result.loc[[result.groupby('dataset').val_accu.idxmax().hard]])"
   ]
  },
  {
   "cell_type": "markdown",
   "metadata": {},
   "source": [
    "# Submission"
   ]
  },
  {
   "cell_type": "code",
   "execution_count": 160,
   "metadata": {},
   "outputs": [],
   "source": [
    "# normal\n",
    "best_model = experiments['no_punkt_stem']['model']\n",
    "kws = {'remove_punkt': True, 'stem': True}\n",
    "X = construct_features(test.line1.apply(clean_text, **kws), \n",
    "                       test.line2.apply(clean_text, **kws))\n",
    "y_pred = best_model.predict(X)"
   ]
  },
  {
   "cell_type": "code",
   "execution_count": 161,
   "metadata": {},
   "outputs": [],
   "source": [
    "submission = pd.DataFrame({\n",
    "    'id': range(len(y_pred)),\n",
    "    'Category': y_pred\n",
    "})"
   ]
  },
  {
   "cell_type": "code",
   "execution_count": 162,
   "metadata": {},
   "outputs": [
    {
     "data": {
      "text/plain": [
       "1    1707\n",
       "0    1293\n",
       "Name: Category, dtype: int64"
      ]
     },
     "execution_count": 162,
     "metadata": {},
     "output_type": "execute_result"
    }
   ],
   "source": [
    "submission.Category.value_counts()"
   ]
  },
  {
   "cell_type": "code",
   "execution_count": 163,
   "metadata": {},
   "outputs": [],
   "source": [
    "#submission.to_csv('output/submission.csv', index=False)"
   ]
  },
  {
   "cell_type": "code",
   "execution_count": 164,
   "metadata": {},
   "outputs": [
    {
     "data": {
      "text/plain": [
       "0    2046\n",
       "1     954\n",
       "Name: Category, dtype: int64"
      ]
     },
     "execution_count": 164,
     "metadata": {},
     "output_type": "execute_result"
    }
   ],
   "source": [
    "# hard\n",
    "best_model = experiments['no_punkt_stopwords_stem_hard']['model']\n",
    "kws = {'remove_punkt': True, 'remove_stopwords': True, 'stem': True}\n",
    "X = construct_features(test_hard.line1.apply(clean_text, **kws), \n",
    "                       test_hard.line2.apply(clean_text, **kws))\n",
    "y_pred = best_model.predict(X)\n",
    "submission = pd.DataFrame({\n",
    "    'id': range(len(y_pred)),\n",
    "    'Category': y_pred\n",
    "})\n",
    "submission.Category.value_counts()"
   ]
  },
  {
   "cell_type": "code",
   "execution_count": 165,
   "metadata": {},
   "outputs": [],
   "source": [
    "#submission.to_csv('output/submission-hard.csv', index=False)"
   ]
  },
  {
   "cell_type": "code",
   "execution_count": null,
   "metadata": {},
   "outputs": [],
   "source": []
  },
  {
   "cell_type": "markdown",
   "metadata": {},
   "source": [
    "# Error Analysis"
   ]
  },
  {
   "cell_type": "code",
   "execution_count": 129,
   "metadata": {},
   "outputs": [],
   "source": [
    "model = experiments['big']['model']\n",
    "kws = None\n",
    "X = construct_features(devtest_small.line1.apply(clean_text, kws), \n",
    "                       devtest_small.line2.apply(clean_text, kws))\n",
    "y_pred = model.predict(X)\n",
    "mask_big = (devtest_small.is_paraphrase != y_pred)"
   ]
  },
  {
   "cell_type": "code",
   "execution_count": 138,
   "metadata": {},
   "outputs": [],
   "source": [
    "model = experiments['no_punkt']['model']\n",
    "kws = {'remove_punkt': True}\n",
    "X = construct_features(devtest_small.line1.apply(clean_text, kws), \n",
    "                       devtest_small.line2.apply(clean_text, kws))\n",
    "y_pred = model.predict(X)\n",
    "mask_no_punkt = (devtest_small.is_paraphrase != y_pred)"
   ]
  },
  {
   "cell_type": "code",
   "execution_count": 139,
   "metadata": {},
   "outputs": [
    {
     "data": {
      "text/plain": [
       "(66, 79)"
      ]
     },
     "execution_count": 139,
     "metadata": {},
     "output_type": "execute_result"
    }
   ],
   "source": [
    "err_big = devtest_small[mask_big]\n",
    "err_no_punkt = devtest_small[mask_no_punkt]\n",
    "len(err_big), len(err_no_punkt)"
   ]
  },
  {
   "cell_type": "code",
   "execution_count": 140,
   "metadata": {},
   "outputs": [
    {
     "data": {
      "text/html": [
       "<div>\n",
       "<style scoped>\n",
       "    .dataframe tbody tr th:only-of-type {\n",
       "        vertical-align: middle;\n",
       "    }\n",
       "\n",
       "    .dataframe tbody tr th {\n",
       "        vertical-align: top;\n",
       "    }\n",
       "\n",
       "    .dataframe thead th {\n",
       "        text-align: right;\n",
       "    }\n",
       "</style>\n",
       "<table border=\"1\" class=\"dataframe\">\n",
       "  <thead>\n",
       "    <tr style=\"text-align: right;\">\n",
       "      <th></th>\n",
       "      <th>line1</th>\n",
       "      <th>line2</th>\n",
       "      <th>is_paraphrase</th>\n",
       "    </tr>\n",
       "  </thead>\n",
       "  <tbody>\n",
       "    <tr>\n",
       "      <th>370</th>\n",
       "      <td>You got your name in the paper</td>\n",
       "      <td>you have your name on paper.</td>\n",
       "      <td>1</td>\n",
       "    </tr>\n",
       "    <tr>\n",
       "      <th>674</th>\n",
       "      <td>What did I say my favorite kind of pizza was?</td>\n",
       "      <td>what's my favorite pizza?</td>\n",
       "      <td>1</td>\n",
       "    </tr>\n",
       "    <tr>\n",
       "      <th>724</th>\n",
       "      <td>On September 22, 2004,</td>\n",
       "      <td>on September 22, 2004, the Ztracenipremier was...</td>\n",
       "      <td>1</td>\n",
       "    </tr>\n",
       "    <tr>\n",
       "      <th>119</th>\n",
       "      <td>She owns the Traders Hotel.</td>\n",
       "      <td>he's the owner of Traders Hotel.</td>\n",
       "      <td>1</td>\n",
       "    </tr>\n",
       "    <tr>\n",
       "      <th>525</th>\n",
       "      <td>The big red button turned it on, therefore... ...</td>\n",
       "      <td>turn on the big red button...... and then........</td>\n",
       "      <td>1</td>\n",
       "    </tr>\n",
       "    <tr>\n",
       "      <th>814</th>\n",
       "      <td>No. Those aren't her eyes.</td>\n",
       "      <td>no, it's not her eyes.</td>\n",
       "      <td>1</td>\n",
       "    </tr>\n",
       "    <tr>\n",
       "      <th>522</th>\n",
       "      <td>Aside from the fact that he is gorgeous, charm...</td>\n",
       "      <td>besides being beautiful, charming, and she can...</td>\n",
       "      <td>1</td>\n",
       "    </tr>\n",
       "    <tr>\n",
       "      <th>178</th>\n",
       "      <td>\"Yvette is a council toady.</td>\n",
       "      <td>\"Yvette is an asswipe of advice.</td>\n",
       "      <td>1</td>\n",
       "    </tr>\n",
       "    <tr>\n",
       "      <th>1</th>\n",
       "      <td>They're on the next flight home.</td>\n",
       "      <td>he's going home next flight.</td>\n",
       "      <td>1</td>\n",
       "    </tr>\n",
       "    <tr>\n",
       "      <th>218</th>\n",
       "      <td>You have a nice night, Connie.</td>\n",
       "      <td>good night, Connie.</td>\n",
       "      <td>1</td>\n",
       "    </tr>\n",
       "  </tbody>\n",
       "</table>\n",
       "</div>"
      ],
      "text/plain": [
       "                                                 line1  \\\n",
       "370                     You got your name in the paper   \n",
       "674      What did I say my favorite kind of pizza was?   \n",
       "724                             On September 22, 2004,   \n",
       "119                        She owns the Traders Hotel.   \n",
       "525  The big red button turned it on, therefore... ...   \n",
       "814                         No. Those aren't her eyes.   \n",
       "522  Aside from the fact that he is gorgeous, charm...   \n",
       "178                        \"Yvette is a council toady.   \n",
       "1                     They're on the next flight home.   \n",
       "218                     You have a nice night, Connie.   \n",
       "\n",
       "                                                 line2  is_paraphrase  \n",
       "370                       you have your name on paper.              1  \n",
       "674                          what's my favorite pizza?              1  \n",
       "724  on September 22, 2004, the Ztracenipremier was...              1  \n",
       "119                   he's the owner of Traders Hotel.              1  \n",
       "525  turn on the big red button...... and then........              1  \n",
       "814                             no, it's not her eyes.              1  \n",
       "522  besides being beautiful, charming, and she can...              1  \n",
       "178                   \"Yvette is an asswipe of advice.              1  \n",
       "1                         he's going home next flight.              1  \n",
       "218                                good night, Connie.              1  "
      ]
     },
     "execution_count": 140,
     "metadata": {},
     "output_type": "execute_result"
    }
   ],
   "source": [
    "# errors that the big model made but punkt didn't make\n",
    "err_big[~err_big.index.isin(err_no_punkt.index)]"
   ]
  },
  {
   "cell_type": "code",
   "execution_count": 147,
   "metadata": {},
   "outputs": [
    {
     "data": {
      "text/html": [
       "<div>\n",
       "<style scoped>\n",
       "    .dataframe tbody tr th:only-of-type {\n",
       "        vertical-align: middle;\n",
       "    }\n",
       "\n",
       "    .dataframe tbody tr th {\n",
       "        vertical-align: top;\n",
       "    }\n",
       "\n",
       "    .dataframe thead th {\n",
       "        text-align: right;\n",
       "    }\n",
       "</style>\n",
       "<table border=\"1\" class=\"dataframe\">\n",
       "  <thead>\n",
       "    <tr style=\"text-align: right;\">\n",
       "      <th></th>\n",
       "      <th>line1</th>\n",
       "      <th>line2</th>\n",
       "      <th>is_paraphrase</th>\n",
       "    </tr>\n",
       "  </thead>\n",
       "  <tbody>\n",
       "    <tr>\n",
       "      <th>152</th>\n",
       "      <td>Can you fix radiators?</td>\n",
       "      <td>can I fix this for you?</td>\n",
       "      <td>0</td>\n",
       "    </tr>\n",
       "    <tr>\n",
       "      <th>561</th>\n",
       "      <td>Hey, kid, you wanna hear a joke?</td>\n",
       "      <td>you wanna hear the truth?</td>\n",
       "      <td>0</td>\n",
       "    </tr>\n",
       "    <tr>\n",
       "      <th>164</th>\n",
       "      <td>Oh, it's a rhetorical question, pal.</td>\n",
       "      <td>not a real question, rhetorical.</td>\n",
       "      <td>0</td>\n",
       "    </tr>\n",
       "    <tr>\n",
       "      <th>708</th>\n",
       "      <td>I'm telling the truth, Doc.</td>\n",
       "      <td>I'm telling you.</td>\n",
       "      <td>0</td>\n",
       "    </tr>\n",
       "    <tr>\n",
       "      <th>112</th>\n",
       "      <td>We can't avoid the future.</td>\n",
       "      <td>that's a thing we can't avoid.</td>\n",
       "      <td>0</td>\n",
       "    </tr>\n",
       "    <tr>\n",
       "      <th>19</th>\n",
       "      <td>I didn't do anything more than that to you or ...</td>\n",
       "      <td>I don't want to be connected to you any more t...</td>\n",
       "      <td>0</td>\n",
       "    </tr>\n",
       "    <tr>\n",
       "      <th>54</th>\n",
       "      <td>What do you think Neal wants?</td>\n",
       "      <td>do you think what I think you think?</td>\n",
       "      <td>0</td>\n",
       "    </tr>\n",
       "    <tr>\n",
       "      <th>9</th>\n",
       "      <td>And I'm fucked here, man.</td>\n",
       "      <td>and I'm fucked!</td>\n",
       "      <td>0</td>\n",
       "    </tr>\n",
       "    <tr>\n",
       "      <th>331</th>\n",
       "      <td>I swear, I killed her.</td>\n",
       "      <td>and, uh... killed... I killed her.</td>\n",
       "      <td>0</td>\n",
       "    </tr>\n",
       "    <tr>\n",
       "      <th>156</th>\n",
       "      <td>I swear it, I will.</td>\n",
       "      <td>I have nothing to swear on, but I swear it.</td>\n",
       "      <td>0</td>\n",
       "    </tr>\n",
       "    <tr>\n",
       "      <th>482</th>\n",
       "      <td>Bitch!</td>\n",
       "      <td>son of a bitch!</td>\n",
       "      <td>1</td>\n",
       "    </tr>\n",
       "    <tr>\n",
       "      <th>402</th>\n",
       "      <td>So, what brings you to town?</td>\n",
       "      <td>what brings you here?</td>\n",
       "      <td>0</td>\n",
       "    </tr>\n",
       "    <tr>\n",
       "      <th>530</th>\n",
       "      <td>\"Pleasanter for you, I am afraid,\" murmured Ha...</td>\n",
       "      <td>\"sorry,\" I murmured.</td>\n",
       "      <td>0</td>\n",
       "    </tr>\n",
       "    <tr>\n",
       "      <th>256</th>\n",
       "      <td>You have seen the Earl?</td>\n",
       "      <td>have you seen this?</td>\n",
       "      <td>0</td>\n",
       "    </tr>\n",
       "    <tr>\n",
       "      <th>85</th>\n",
       "      <td>Babies, come on.</td>\n",
       "      <td>come on, come on. Come on.</td>\n",
       "      <td>0</td>\n",
       "    </tr>\n",
       "    <tr>\n",
       "      <th>17</th>\n",
       "      <td>Eat in the finest restaurants.</td>\n",
       "      <td>the finest touch in Spain.</td>\n",
       "      <td>0</td>\n",
       "    </tr>\n",
       "    <tr>\n",
       "      <th>192</th>\n",
       "      <td>He asked me to give you this.</td>\n",
       "      <td>I asked you to.</td>\n",
       "      <td>0</td>\n",
       "    </tr>\n",
       "    <tr>\n",
       "      <th>436</th>\n",
       "      <td>She'll have to wear a wire.</td>\n",
       "      <td>we have to wear.</td>\n",
       "      <td>0</td>\n",
       "    </tr>\n",
       "    <tr>\n",
       "      <th>621</th>\n",
       "      <td>If you go down this path, you will lose her.</td>\n",
       "      <td>if you lose, you lose.</td>\n",
       "      <td>0</td>\n",
       "    </tr>\n",
       "    <tr>\n",
       "      <th>539</th>\n",
       "      <td>Not the short way, but the long way.</td>\n",
       "      <td>she was, but not long.</td>\n",
       "      <td>0</td>\n",
       "    </tr>\n",
       "    <tr>\n",
       "      <th>96</th>\n",
       "      <td>No, thank you.</td>\n",
       "      <td>\"thank you, thank you.\"</td>\n",
       "      <td>0</td>\n",
       "    </tr>\n",
       "    <tr>\n",
       "      <th>374</th>\n",
       "      <td>But I'm-- I'm not afraid anymore.</td>\n",
       "      <td>I'm not afraid of you.</td>\n",
       "      <td>0</td>\n",
       "    </tr>\n",
       "  </tbody>\n",
       "</table>\n",
       "</div>"
      ],
      "text/plain": [
       "                                                 line1  \\\n",
       "152                             Can you fix radiators?   \n",
       "561                   Hey, kid, you wanna hear a joke?   \n",
       "164               Oh, it's a rhetorical question, pal.   \n",
       "708                        I'm telling the truth, Doc.   \n",
       "112                         We can't avoid the future.   \n",
       "19   I didn't do anything more than that to you or ...   \n",
       "54                       What do you think Neal wants?   \n",
       "9                            And I'm fucked here, man.   \n",
       "331                             I swear, I killed her.   \n",
       "156                                I swear it, I will.   \n",
       "482                                             Bitch!   \n",
       "402                       So, what brings you to town?   \n",
       "530  \"Pleasanter for you, I am afraid,\" murmured Ha...   \n",
       "256                            You have seen the Earl?   \n",
       "85                                    Babies, come on.   \n",
       "17                      Eat in the finest restaurants.   \n",
       "192                      He asked me to give you this.   \n",
       "436                        She'll have to wear a wire.   \n",
       "621       If you go down this path, you will lose her.   \n",
       "539               Not the short way, but the long way.   \n",
       "96                                      No, thank you.   \n",
       "374                  But I'm-- I'm not afraid anymore.   \n",
       "\n",
       "                                                 line2  is_paraphrase  \n",
       "152                            can I fix this for you?              0  \n",
       "561                          you wanna hear the truth?              0  \n",
       "164                   not a real question, rhetorical.              0  \n",
       "708                                   I'm telling you.              0  \n",
       "112                     that's a thing we can't avoid.              0  \n",
       "19   I don't want to be connected to you any more t...              0  \n",
       "54                do you think what I think you think?              0  \n",
       "9                                      and I'm fucked!              0  \n",
       "331                 and, uh... killed... I killed her.              0  \n",
       "156        I have nothing to swear on, but I swear it.              0  \n",
       "482                                    son of a bitch!              1  \n",
       "402                              what brings you here?              0  \n",
       "530                               \"sorry,\" I murmured.              0  \n",
       "256                                have you seen this?              0  \n",
       "85                          come on, come on. Come on.              0  \n",
       "17                          the finest touch in Spain.              0  \n",
       "192                                    I asked you to.              0  \n",
       "436                                   we have to wear.              0  \n",
       "621                             if you lose, you lose.              0  \n",
       "539                             she was, but not long.              0  \n",
       "96                             \"thank you, thank you.\"              0  \n",
       "374                             I'm not afraid of you.              0  "
      ]
     },
     "execution_count": 147,
     "metadata": {},
     "output_type": "execute_result"
    }
   ],
   "source": [
    "# errors that punkt made but big didn't make\n",
    "err_no_punkt[~err_no_punkt.index.isin(err_big.index)]"
   ]
  },
  {
   "cell_type": "code",
   "execution_count": null,
   "metadata": {},
   "outputs": [],
   "source": [
    "# repeat for hard"
   ]
  },
  {
   "cell_type": "code",
   "execution_count": 148,
   "metadata": {},
   "outputs": [],
   "source": [
    "model = experiments['big_hard']['model']\n",
    "kws = None\n",
    "X = construct_features(devtest_hard_small.line1.apply(clean_text, kws), \n",
    "                       devtest_hard_small.line2.apply(clean_text, kws))\n",
    "y_pred = model.predict(X)\n",
    "mask_big = (devtest_hard_small.is_paraphrase != y_pred)"
   ]
  },
  {
   "cell_type": "code",
   "execution_count": 149,
   "metadata": {},
   "outputs": [],
   "source": [
    "model = experiments['no_punkt_stopwords_stem']['model']\n",
    "kws = {'remove_punkt': True, 'remove_stopwords': True, 'stem': True}\n",
    "X = construct_features(devtest_hard_small.line1.apply(clean_text, kws), \n",
    "                       devtest_hard_small.line2.apply(clean_text, kws))\n",
    "y_pred = model.predict(X)\n",
    "mask_no_punkt = (devtest_hard_small.is_paraphrase != y_pred)"
   ]
  },
  {
   "cell_type": "code",
   "execution_count": 150,
   "metadata": {},
   "outputs": [
    {
     "data": {
      "text/plain": [
       "(157, 285)"
      ]
     },
     "execution_count": 150,
     "metadata": {},
     "output_type": "execute_result"
    }
   ],
   "source": [
    "err_big = devtest_hard_small[mask_big]\n",
    "err_no_punkt = devtest_hard_small[mask_no_punkt]\n",
    "len(err_big), len(err_no_punkt)"
   ]
  },
  {
   "cell_type": "code",
   "execution_count": 152,
   "metadata": {},
   "outputs": [
    {
     "data": {
      "text/html": [
       "<div>\n",
       "<style scoped>\n",
       "    .dataframe tbody tr th:only-of-type {\n",
       "        vertical-align: middle;\n",
       "    }\n",
       "\n",
       "    .dataframe tbody tr th {\n",
       "        vertical-align: top;\n",
       "    }\n",
       "\n",
       "    .dataframe thead th {\n",
       "        text-align: right;\n",
       "    }\n",
       "</style>\n",
       "<table border=\"1\" class=\"dataframe\">\n",
       "  <thead>\n",
       "    <tr style=\"text-align: right;\">\n",
       "      <th></th>\n",
       "      <th>line1</th>\n",
       "      <th>line2</th>\n",
       "      <th>is_paraphrase</th>\n",
       "    </tr>\n",
       "  </thead>\n",
       "  <tbody>\n",
       "    <tr>\n",
       "      <th>178</th>\n",
       "      <td>This was recorded in two long inscriptions fro...</td>\n",
       "      <td>This was recorded in two long inscriptions fro...</td>\n",
       "      <td>1</td>\n",
       "    </tr>\n",
       "    <tr>\n",
       "      <th>249</th>\n",
       "      <td>Julio Junqueira was the first to be built in A...</td>\n",
       "      <td>Dr. Julio Junqueira was the first to be built ...</td>\n",
       "      <td>1</td>\n",
       "    </tr>\n",
       "    <tr>\n",
       "      <th>191</th>\n",
       "      <td>That I lost , That I left .</td>\n",
       "      <td>That I have lost that I left .</td>\n",
       "      <td>1</td>\n",
       "    </tr>\n",
       "    <tr>\n",
       "      <th>452</th>\n",
       "      <td>Paula Mohamed Mostafa Shafiq ( born January 3 ...</td>\n",
       "      <td>Paula Mohamed Mostafa Shafiq ( born Nadia Lutf...</td>\n",
       "      <td>1</td>\n",
       "    </tr>\n",
       "    <tr>\n",
       "      <th>205</th>\n",
       "      <td>65 soldiers have been killed during the missio...</td>\n",
       "      <td>During the mission , 65 soldiers were killed :...</td>\n",
       "      <td>1</td>\n",
       "    </tr>\n",
       "    <tr>\n",
       "      <th>...</th>\n",
       "      <td>...</td>\n",
       "      <td>...</td>\n",
       "      <td>...</td>\n",
       "    </tr>\n",
       "    <tr>\n",
       "      <th>347</th>\n",
       "      <td>The tournament was won by Joel Parkinson ( BRA...</td>\n",
       "      <td>The tournament was won by Joel Parkinson ( BRA...</td>\n",
       "      <td>1</td>\n",
       "    </tr>\n",
       "    <tr>\n",
       "      <th>274</th>\n",
       "      <td>Holly was musically influenced by Elton John .</td>\n",
       "      <td>Holly Holly was influenced by Elton John music...</td>\n",
       "      <td>1</td>\n",
       "    </tr>\n",
       "    <tr>\n",
       "      <th>109</th>\n",
       "      <td>A peri , whose power appears in her hair , is ...</td>\n",
       "      <td>A Peri whose force appears in her hair is in E...</td>\n",
       "      <td>1</td>\n",
       "    </tr>\n",
       "    <tr>\n",
       "      <th>415</th>\n",
       "      <td>The song was written and produced by Gala comp...</td>\n",
       "      <td>The song was written and produced by the gala ...</td>\n",
       "      <td>1</td>\n",
       "    </tr>\n",
       "    <tr>\n",
       "      <th>548</th>\n",
       "      <td>He has three sons Cole , Lukas , Owen with his...</td>\n",
       "      <td>He has three sons - Owen , Lukas and Cole -- w...</td>\n",
       "      <td>1</td>\n",
       "    </tr>\n",
       "  </tbody>\n",
       "</table>\n",
       "<p>107 rows × 3 columns</p>\n",
       "</div>"
      ],
      "text/plain": [
       "                                                 line1  \\\n",
       "178  This was recorded in two long inscriptions fro...   \n",
       "249  Julio Junqueira was the first to be built in A...   \n",
       "191                        That I lost , That I left .   \n",
       "452  Paula Mohamed Mostafa Shafiq ( born January 3 ...   \n",
       "205  65 soldiers have been killed during the missio...   \n",
       "..                                                 ...   \n",
       "347  The tournament was won by Joel Parkinson ( BRA...   \n",
       "274     Holly was musically influenced by Elton John .   \n",
       "109  A peri , whose power appears in her hair , is ...   \n",
       "415  The song was written and produced by Gala comp...   \n",
       "548  He has three sons Cole , Lukas , Owen with his...   \n",
       "\n",
       "                                                 line2  is_paraphrase  \n",
       "178  This was recorded in two long inscriptions fro...              1  \n",
       "249  Dr. Julio Junqueira was the first to be built ...              1  \n",
       "191                     That I have lost that I left .              1  \n",
       "452  Paula Mohamed Mostafa Shafiq ( born Nadia Lutf...              1  \n",
       "205  During the mission , 65 soldiers were killed :...              1  \n",
       "..                                                 ...            ...  \n",
       "347  The tournament was won by Joel Parkinson ( BRA...              1  \n",
       "274  Holly Holly was influenced by Elton John music...              1  \n",
       "109  A Peri whose force appears in her hair is in E...              1  \n",
       "415  The song was written and produced by the gala ...              1  \n",
       "548  He has three sons - Owen , Lukas and Cole -- w...              1  \n",
       "\n",
       "[107 rows x 3 columns]"
      ]
     },
     "execution_count": 152,
     "metadata": {},
     "output_type": "execute_result"
    }
   ],
   "source": [
    "# errors that the big model made but punkt didn't make\n",
    "err_big[~err_big.index.isin(err_no_punkt.index)]"
   ]
  },
  {
   "cell_type": "code",
   "execution_count": 153,
   "metadata": {},
   "outputs": [
    {
     "data": {
      "text/html": [
       "<div>\n",
       "<style scoped>\n",
       "    .dataframe tbody tr th:only-of-type {\n",
       "        vertical-align: middle;\n",
       "    }\n",
       "\n",
       "    .dataframe tbody tr th {\n",
       "        vertical-align: top;\n",
       "    }\n",
       "\n",
       "    .dataframe thead th {\n",
       "        text-align: right;\n",
       "    }\n",
       "</style>\n",
       "<table border=\"1\" class=\"dataframe\">\n",
       "  <thead>\n",
       "    <tr style=\"text-align: right;\">\n",
       "      <th></th>\n",
       "      <th>line1</th>\n",
       "      <th>line2</th>\n",
       "      <th>is_paraphrase</th>\n",
       "    </tr>\n",
       "  </thead>\n",
       "  <tbody>\n",
       "    <tr>\n",
       "      <th>132</th>\n",
       "      <td>At the time of his death , David Cardinal Beat...</td>\n",
       "      <td>David Cardinal Beaton was Lord Chancellor of S...</td>\n",
       "      <td>0</td>\n",
       "    </tr>\n",
       "    <tr>\n",
       "      <th>731</th>\n",
       "      <td>Ahmad Yar Khan was born into the Tiwana family...</td>\n",
       "      <td>Sahib Khan was born into the Tiwana family of ...</td>\n",
       "      <td>0</td>\n",
       "    </tr>\n",
       "    <tr>\n",
       "      <th>754</th>\n",
       "      <td>Three brigades ( 11 Battalions ) were raised f...</td>\n",
       "      <td>Three brigades ( 11 battalions ) were trained ...</td>\n",
       "      <td>0</td>\n",
       "    </tr>\n",
       "    <tr>\n",
       "      <th>533</th>\n",
       "      <td>In 1934 , two of them were produced , but no m...</td>\n",
       "      <td>Two were flown in 1934 but no more were produc...</td>\n",
       "      <td>0</td>\n",
       "    </tr>\n",
       "    <tr>\n",
       "      <th>266</th>\n",
       "      <td>The agency has its headquarters in Paris , Fra...</td>\n",
       "      <td>The agency has its headquarters in Arlington ,...</td>\n",
       "      <td>0</td>\n",
       "    </tr>\n",
       "    <tr>\n",
       "      <th>...</th>\n",
       "      <td>...</td>\n",
       "      <td>...</td>\n",
       "      <td>...</td>\n",
       "    </tr>\n",
       "    <tr>\n",
       "      <th>89</th>\n",
       "      <td>The East Coast episode was filmed on site in N...</td>\n",
       "      <td>The Cabot Trail episode was filmed on location...</td>\n",
       "      <td>0</td>\n",
       "    </tr>\n",
       "    <tr>\n",
       "      <th>769</th>\n",
       "      <td>A biblical doom is a negative blessing in its ...</td>\n",
       "      <td>A biblical damnation , in its most negative se...</td>\n",
       "      <td>0</td>\n",
       "    </tr>\n",
       "    <tr>\n",
       "      <th>620</th>\n",
       "      <td>He played Senior Intercounty Football with his...</td>\n",
       "      <td>He played with his local club Adrigole Gaelic ...</td>\n",
       "      <td>0</td>\n",
       "    </tr>\n",
       "    <tr>\n",
       "      <th>936</th>\n",
       "      <td>It is centered on a stretch of the main road ,...</td>\n",
       "      <td>It is centered on a route of Brook Road , roug...</td>\n",
       "      <td>0</td>\n",
       "    </tr>\n",
       "    <tr>\n",
       "      <th>223</th>\n",
       "      <td>Nichols is located at ( 41.479113 , -91.308291...</td>\n",
       "      <td>Nichols is located ( 41.479113 , -91.308291 ) ...</td>\n",
       "      <td>0</td>\n",
       "    </tr>\n",
       "  </tbody>\n",
       "</table>\n",
       "<p>234 rows × 3 columns</p>\n",
       "</div>"
      ],
      "text/plain": [
       "                                                 line1  \\\n",
       "132  At the time of his death , David Cardinal Beat...   \n",
       "731  Ahmad Yar Khan was born into the Tiwana family...   \n",
       "754  Three brigades ( 11 Battalions ) were raised f...   \n",
       "533  In 1934 , two of them were produced , but no m...   \n",
       "266  The agency has its headquarters in Paris , Fra...   \n",
       "..                                                 ...   \n",
       "89   The East Coast episode was filmed on site in N...   \n",
       "769  A biblical doom is a negative blessing in its ...   \n",
       "620  He played Senior Intercounty Football with his...   \n",
       "936  It is centered on a stretch of the main road ,...   \n",
       "223  Nichols is located at ( 41.479113 , -91.308291...   \n",
       "\n",
       "                                                 line2  is_paraphrase  \n",
       "132  David Cardinal Beaton was Lord Chancellor of S...              0  \n",
       "731  Sahib Khan was born into the Tiwana family of ...              0  \n",
       "754  Three brigades ( 11 battalions ) were trained ...              0  \n",
       "533  Two were flown in 1934 but no more were produc...              0  \n",
       "266  The agency has its headquarters in Arlington ,...              0  \n",
       "..                                                 ...            ...  \n",
       "89   The Cabot Trail episode was filmed on location...              0  \n",
       "769  A biblical damnation , in its most negative se...              0  \n",
       "620  He played with his local club Adrigole Gaelic ...              0  \n",
       "936  It is centered on a route of Brook Road , roug...              0  \n",
       "223  Nichols is located ( 41.479113 , -91.308291 ) ...              0  \n",
       "\n",
       "[234 rows x 3 columns]"
      ]
     },
     "execution_count": 153,
     "metadata": {},
     "output_type": "execute_result"
    }
   ],
   "source": [
    "# errors that punkt made but big didn't make\n",
    "err_no_punkt[~err_no_punkt.index.isin(err_big.index)]"
   ]
  },
  {
   "cell_type": "code",
   "execution_count": null,
   "metadata": {},
   "outputs": [],
   "source": []
  }
 ],
 "metadata": {
  "kernelspec": {
   "display_name": "py38",
   "language": "python",
   "name": "py38"
  },
  "language_info": {
   "codemirror_mode": {
    "name": "ipython",
    "version": 3
   },
   "file_extension": ".py",
   "mimetype": "text/x-python",
   "name": "python",
   "nbconvert_exporter": "python",
   "pygments_lexer": "ipython3",
   "version": "3.8.3"
  }
 },
 "nbformat": 4,
 "nbformat_minor": 4
}
