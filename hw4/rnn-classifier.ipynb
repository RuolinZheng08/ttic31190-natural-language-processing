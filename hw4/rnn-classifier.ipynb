{
 "cells": [
  {
   "cell_type": "code",
   "execution_count": 33,
   "metadata": {},
   "outputs": [],
   "source": [
    "import pickle\n",
    "import numpy as np\n",
    "import pandas as pd\n",
    "import matplotlib.pyplot as plt\n",
    "import seaborn as sns\n",
    "\n",
    "from copy import deepcopy\n",
    "from tqdm.auto import tqdm, trange\n",
    "\n",
    "from nltk.tokenize import word_tokenize\n",
    "\n",
    "import torch\n",
    "import torch.optim as optim\n",
    "\n",
    "from sklearn.metrics import confusion_matrix, accuracy_score\n",
    "from sklearn.model_selection import train_test_split"
   ]
  },
  {
   "cell_type": "code",
   "execution_count": 2,
   "metadata": {},
   "outputs": [],
   "source": [
    "UNK = '<unk>'\n",
    "PAD = '<pad>'\n",
    "SOS = '<s>' # start of sentence\n",
    "EOS = '</s>'"
   ]
  },
  {
   "cell_type": "code",
   "execution_count": 3,
   "metadata": {},
   "outputs": [],
   "source": [
    "class GloveVocabulary:\n",
    "    def __init__(self, glove_vocab_path, glove_emb_path):\n",
    "        self.idx_to_str = [PAD, SOS, EOS] # <unk> is in GloVe\n",
    "        self.start_idx = len(self.idx_to_str) # length at which real tokens starts\n",
    "        # load glove into self.idx_to_str and self.str_to_idx\n",
    "        with open(glove_vocab_path, 'rb') as f:\n",
    "            glove_vocab = pickle.load(f)\n",
    "        with open(glove_emb_path, 'rb') as f:\n",
    "            glove_emb = pickle.load(f)\n",
    "        self.idx_to_str += glove_vocab\n",
    "        self.str_to_idx = {s: idx for idx, s in enumerate(self.idx_to_str)}\n",
    "\n",
    "        # TODO: initialize emb for special tokens\n",
    "        # instead of random vector, use the mean of all glove vectors for special tokens\n",
    "        glove_emb = torch.tensor(glove_emb)\n",
    "        mean_vec = glove_emb.mean(dim=0, keepdim=True)\n",
    "        self.embedding = torch.cat(\n",
    "            [mean_vec, mean_vec, mean_vec, glove_emb], dim=0\n",
    "        )\n",
    "\n",
    "    def __len__(self):\n",
    "        return len(self.idx_to_str)\n",
    "\n",
    "    @staticmethod\n",
    "    def tokenize(line):\n",
    "        # TODO: try different tokenizers\n",
    "        return word_tokenize(line.lower())\n",
    "\n",
    "    def numericalize(self, line):\n",
    "        \"\"\"\n",
    "        Call this only after the vocab has been built\n",
    "        \"\"\"\n",
    "        tokens = self.tokenize(line)\n",
    "        ret = [self.str_to_idx[SOS]]\n",
    "        for token in tokens:\n",
    "            if token in self.str_to_idx:\n",
    "                ret.append(self.str_to_idx[token])\n",
    "            else:\n",
    "                ret.append(self.str_to_idx[UNK])\n",
    "        ret.append(self.str_to_idx[EOS])\n",
    "        return torch.LongTensor(ret)\n",
    "\n",
    "    def denumericalize(self, token_indices):\n",
    "        \"\"\"\n",
    "        Invert numericalize, returns a string\n",
    "        \"\"\"\n",
    "        # remove start and end token\n",
    "        ret = []\n",
    "        for idx in token_indices[1 : -1]:\n",
    "            token = self.idx_to_str[idx]\n",
    "            # break early when hitting <pad> token\n",
    "            if token == PAD:\n",
    "                break\n",
    "            else:\n",
    "                ret.append(token)\n",
    "        return ' '.join(ret)"
   ]
  },
  {
   "cell_type": "code",
   "execution_count": 38,
   "metadata": {},
   "outputs": [],
   "source": [
    "def load_file(path, skip_id=False, has_label=True):\n",
    "    \"\"\"\n",
    "    has_label: also return label column if True\n",
    "    return [['hello world', 'hi'], ['hi World', 'hello']]\n",
    "    \"\"\"\n",
    "    first_lines = []\n",
    "    second_lines = []\n",
    "    if has_label:\n",
    "        labels = []\n",
    "    if skip_id:\n",
    "        start_col_idx = 1\n",
    "    else:\n",
    "        start_col_idx = 0\n",
    "    with open(path, 'rt') as f:\n",
    "        for line in f:\n",
    "            chunks = line.strip().split('\\t')\n",
    "            first = chunks[start_col_idx]\n",
    "            second = chunks[start_col_idx + 1]\n",
    "            first_lines.append(first)\n",
    "            second_lines.append(second)\n",
    "            \n",
    "            if has_label:\n",
    "                label = int(chunks[start_col_idx + 2])\n",
    "                labels.append(label)\n",
    "    if has_label:\n",
    "        ret = pd.DataFrame({\n",
    "            'line1': first_lines, \n",
    "            'line2': second_lines, \n",
    "            'is_paraphrase': labels\n",
    "        })\n",
    "    else:\n",
    "        ret = pd.DataFrame({\n",
    "            'line1': first_lines, \n",
    "            'line2': second_lines\n",
    "        })\n",
    "    return ret"
   ]
  },
  {
   "cell_type": "markdown",
   "metadata": {},
   "source": [
    "# Model"
   ]
  },
  {
   "cell_type": "code",
   "execution_count": 5,
   "metadata": {},
   "outputs": [],
   "source": [
    "# %load model.py\n",
    "import torch\n",
    "import torch.nn as nn\n",
    "\n",
    "EMB_DIM = 50\n",
    "\n",
    "class RNNClassifier(nn.Module):\n",
    "    def __init__(self, pretrained_emb=None, freeze_emb=False, vocab_size=None, emb_dim=EMB_DIM):\n",
    "        \"\"\"\n",
    "        vocab_size must be not None if no pretrained_emb is given\n",
    "        \"\"\"\n",
    "        super(RNNClassifier, self).__init__()\n",
    "        if pretrained_emb is None:\n",
    "            self.emb = nn.Embedding(vocab_size, emb_dim)\n",
    "            torch.nn.init.uniform_(self.emb.weight, -0.01, 0.01)\n",
    "        else:\n",
    "            self.emb = nn.Embedding.from_pretrained(pretrained_emb, freeze=freeze_emb)\n",
    "\n",
    "        rnn_input_dim = self.emb.weight.shape[1] # EMB_DIM\n",
    "        rnn_output_dim = 128\n",
    "        # TODO: bidirectional?\n",
    "        self.rnn = nn.GRU(rnn_input_dim, rnn_output_dim, batch_first=False)\n",
    "\n",
    "        # pass the concatenation of two RNN outputs to fully connected layers\n",
    "        fc_input_dim = rnn_output_dim * 2\n",
    "        fc_hidden_dim = 128\n",
    "        self.fc1 = nn.Linear(fc_input_dim, fc_hidden_dim)\n",
    "        self.fc2 = nn.Linear(fc_hidden_dim, 1) # output a scalar for class probability\n",
    "\n",
    "    def forward(self, x1, x2):\n",
    "        \"\"\"\n",
    "        x1: first sentence, x2: second setences\n",
    "        (seq_len, batch_size)\n",
    "        \"\"\"\n",
    "        x1 = self.emb(x1)\n",
    "        x2 = self.emb(x2)\n",
    "        hidden = None\n",
    "        for token in x1:\n",
    "            out1, hidden = self.rnn(token.unsqueeze(0), hidden)\n",
    "        # TODO: is it better to pass hidden=hidden, hidden=output, or hidden=None\n",
    "        # can do truncate or pad\n",
    "        hidden = None\n",
    "        for token in x2:\n",
    "            out2, hidden = self.rnn(token.unsqueeze(0), hidden)\n",
    "        fc_input = torch.cat([out1, out2], dim=-1).squeeze()\n",
    "        out = torch.tanh(self.fc1(fc_input))\n",
    "        # use sigmoid with BCELoss\n",
    "        out = torch.sigmoid(self.fc2(out))\n",
    "        return out\n"
   ]
  },
  {
   "cell_type": "code",
   "execution_count": 6,
   "metadata": {},
   "outputs": [],
   "source": [
    "def train(model, train_df, dev_df, device, n_epochs=30):\n",
    "    loss_func = nn.BCELoss()\n",
    "    optimizer = optim.Adam(model.parameters(), lr=0.001)\n",
    "    # record training stats\n",
    "    best_model = None\n",
    "    best_dev_accu = 0\n",
    "    losses = []\n",
    "    dev_accu_list = []\n",
    "    \n",
    "    pbar = tqdm(total=n_epochs * len(train_df), desc='training', leave=True)\n",
    "    for epoch in range(n_epochs):\n",
    "        epoch_loss = 0\n",
    "        for idx in range(len(train_df)):\n",
    "            pbar.update(1)\n",
    "            first = train_df.line1_num[idx].unsqueeze(1).to(device)\n",
    "            second = train_df.line2_num[idx].unsqueeze(1).to(device)\n",
    "            label = train_df.is_paraphrase[idx]\n",
    "            label = torch.tensor(label, dtype=torch.float).unsqueeze(0).to(device)\n",
    "\n",
    "            out = model(first, second)\n",
    "\n",
    "            optimizer.zero_grad()\n",
    "            loss = loss_func(out, label)\n",
    "            loss.backward()\n",
    "            optimizer.step()\n",
    "        # end of epoch, evaluate on dev\n",
    "        model.eval()\n",
    "        with torch.no_grad():\n",
    "            dev_preds = eval(model, dev_df, device)\n",
    "            dev_accu = accuracy_score(dev_df.is_paraphrase, dev_preds)\n",
    "        model.train()\n",
    "        pbar.set_description(\n",
    "            'Epoch {}: dev_accu: {:4f}'.format(epoch, dev_accu))\n",
    "        pbar.refresh()\n",
    "        # save model\n",
    "        if dev_accu > best_dev_accu:\n",
    "            best_dev_accu = dev_accu\n",
    "            best_model = deepcopy(model)\n",
    "            torch.save(best_model.state_dict(), 'output/best_model.pth')\n",
    "        # record stats\n",
    "        losses.append(epoch_loss)\n",
    "        dev_accu_list.append(dev_accu)\n",
    "    pbar.close()      \n",
    "    loss_accu_df = pd.DataFrame({\n",
    "        'epoch': range(1, n_epochs + 1), \n",
    "        'loss': losses,\n",
    "        'dev_accu': dev_accu_list})\n",
    "    loss_accu_df.to_csv('output/rnn_training.csv', index=False)\n",
    "    \n",
    "    return best_model, loss_accu_df"
   ]
  },
  {
   "cell_type": "code",
   "execution_count": 40,
   "metadata": {},
   "outputs": [],
   "source": [
    "def eval(model, df, device, threshold=0.5):\n",
    "    \"\"\"\n",
    "    threshold: binary probability cutoff\n",
    "    \"\"\"\n",
    "    preds = np.empty(len(df))\n",
    "    for idx in range(len(df)):\n",
    "        first = df.line1_num[idx].unsqueeze(1).to(device)\n",
    "        second = df.line2_num[idx].unsqueeze(1).to(device)\n",
    "        out = model(first, second)\n",
    "        preds[idx] = out.item()\n",
    "        \n",
    "    preds = np.where(preds > threshold, 1, 0)\n",
    "    return preds"
   ]
  },
  {
   "cell_type": "code",
   "execution_count": 8,
   "metadata": {},
   "outputs": [
    {
     "data": {
      "text/plain": [
       "<torch._C.Generator at 0x7fef077cbed0>"
      ]
     },
     "execution_count": 8,
     "metadata": {},
     "output_type": "execute_result"
    }
   ],
   "source": [
    "np.set_printoptions(precision=4)\n",
    "np.random.seed(0)\n",
    "torch.manual_seed(0)"
   ]
  },
  {
   "cell_type": "code",
   "execution_count": 9,
   "metadata": {},
   "outputs": [
    {
     "data": {
      "text/plain": [
       "device(type='cuda', index=0)"
      ]
     },
     "execution_count": 9,
     "metadata": {},
     "output_type": "execute_result"
    }
   ],
   "source": [
    "device = torch.device('cuda:0' if torch.cuda.is_available() else 'cpu')\n",
    "device"
   ]
  },
  {
   "cell_type": "markdown",
   "metadata": {},
   "source": [
    "# Load data\n",
    "- Concatenate all labeled data: DEV, DEVTEST, DEV-HARD, DEVTEST-HARD\n",
    "- `train_test_split` twice into `train`, `dev`, `devtest`\n",
    "- Use `dev` for early stopping\n",
    "- Evaluate and perform error analysis on `devtest`\n",
    "- Predict TEST and TEST-HARD"
   ]
  },
  {
   "cell_type": "code",
   "execution_count": 10,
   "metadata": {},
   "outputs": [],
   "source": [
    "vocab = GloveVocabulary('data/glove_vocab.pkl', 'data/glove_emb.pkl')"
   ]
  },
  {
   "cell_type": "code",
   "execution_count": 11,
   "metadata": {},
   "outputs": [],
   "source": [
    "dev = load_file('data/dev+devtest/dev.tsv')\n",
    "dev_hard = load_file('data/heldout-hard/dev.hard.tsv')\n",
    "devtest = load_file('data/dev+devtest/devtest.tsv')\n",
    "devtest_hard = load_file('data/heldout-hard/devtest.hard.tsv')\n",
    "all_df = pd.concat([dev, devtest, dev_hard, devtest_hard])\n",
    "all_df.reset_index(drop=True, inplace=True)"
   ]
  },
  {
   "cell_type": "code",
   "execution_count": 12,
   "metadata": {},
   "outputs": [],
   "source": [
    "all_df['line1_num'] = all_df.line1.apply(vocab.numericalize)\n",
    "all_df['line2_num'] = all_df.line2.apply(vocab.numericalize)"
   ]
  },
  {
   "cell_type": "code",
   "execution_count": 13,
   "metadata": {},
   "outputs": [],
   "source": [
    "train_df, dev_df = train_test_split(all_df, random_state=0)\n",
    "dev_df, devtest_df = train_test_split(dev_df, random_state=0)\n",
    "train_df.reset_index(drop=True, inplace=True)\n",
    "dev_df.reset_index(drop=True, inplace=True)\n",
    "devtest_df.reset_index(drop=True, inplace=True)"
   ]
  },
  {
   "cell_type": "code",
   "execution_count": 14,
   "metadata": {},
   "outputs": [
    {
     "data": {
      "text/plain": [
       "(3623, 2717, 679, 227)"
      ]
     },
     "execution_count": 14,
     "metadata": {},
     "output_type": "execute_result"
    }
   ],
   "source": [
    "len(all_df), len(train_df), len(dev_df), len(devtest_df)"
   ]
  },
  {
   "cell_type": "code",
   "execution_count": 15,
   "metadata": {},
   "outputs": [
    {
     "data": {
      "text/html": [
       "<div>\n",
       "<style scoped>\n",
       "    .dataframe tbody tr th:only-of-type {\n",
       "        vertical-align: middle;\n",
       "    }\n",
       "\n",
       "    .dataframe tbody tr th {\n",
       "        vertical-align: top;\n",
       "    }\n",
       "\n",
       "    .dataframe thead th {\n",
       "        text-align: right;\n",
       "    }\n",
       "</style>\n",
       "<table border=\"1\" class=\"dataframe\">\n",
       "  <thead>\n",
       "    <tr style=\"text-align: right;\">\n",
       "      <th></th>\n",
       "      <th>line1</th>\n",
       "      <th>line2</th>\n",
       "      <th>is_paraphrase</th>\n",
       "      <th>line1_num</th>\n",
       "      <th>line2_num</th>\n",
       "    </tr>\n",
       "  </thead>\n",
       "  <tbody>\n",
       "    <tr>\n",
       "      <th>0</th>\n",
       "      <td>To protect the Savoy. You made a move on The T...</td>\n",
       "      <td>did you take a step on Tumblewee to protect th...</td>\n",
       "      <td>1</td>\n",
       "      <td>[tensor(1), tensor(7), tensor(1511), tensor(3)...</td>\n",
       "      <td>[tensor(1), tensor(122), tensor(84), tensor(19...</td>\n",
       "    </tr>\n",
       "    <tr>\n",
       "      <th>1</th>\n",
       "      <td>Upstream is the decommissioned Michigan Centra...</td>\n",
       "      <td>Upstream is the decommissioned Michigan Centra...</td>\n",
       "      <td>0</td>\n",
       "      <td>[tensor(1), tensor(14988), tensor(17), tensor(...</td>\n",
       "      <td>[tensor(1), tensor(14988), tensor(17), tensor(...</td>\n",
       "    </tr>\n",
       "    <tr>\n",
       "      <th>2</th>\n",
       "      <td>In 1932 , Cuno joined Wilhelm Keppler to advis...</td>\n",
       "      <td>Wilhelm Keppler joined Cuno in 1932 in order t...</td>\n",
       "      <td>0</td>\n",
       "      <td>[tensor(1), tensor(9), tensor(6188), tensor(4)...</td>\n",
       "      <td>[tensor(1), tensor(11457), tensor(99585), tens...</td>\n",
       "    </tr>\n",
       "    <tr>\n",
       "      <th>3</th>\n",
       "      <td>I'm so, so sorry.</td>\n",
       "      <td>so far, so.</td>\n",
       "      <td>0</td>\n",
       "      <td>[tensor(1), tensor(44), tensor(475), tensor(10...</td>\n",
       "      <td>[tensor(1), tensor(103), tensor(375), tensor(4...</td>\n",
       "    </tr>\n",
       "    <tr>\n",
       "      <th>4</th>\n",
       "      <td>I take ship... ransom... nobody get hurt.</td>\n",
       "      <td>I'm nobody.</td>\n",
       "      <td>0</td>\n",
       "      <td>[tensor(1), tensor(44), tensor(193), tensor(13...</td>\n",
       "      <td>[tensor(1), tensor(44), tensor(475), tensor(32...</td>\n",
       "    </tr>\n",
       "  </tbody>\n",
       "</table>\n",
       "</div>"
      ],
      "text/plain": [
       "                                               line1  \\\n",
       "0  To protect the Savoy. You made a move on The T...   \n",
       "1  Upstream is the decommissioned Michigan Centra...   \n",
       "2  In 1932 , Cuno joined Wilhelm Keppler to advis...   \n",
       "3                                  I'm so, so sorry.   \n",
       "4          I take ship... ransom... nobody get hurt.   \n",
       "\n",
       "                                               line2  is_paraphrase  \\\n",
       "0  did you take a step on Tumblewee to protect th...              1   \n",
       "1  Upstream is the decommissioned Michigan Centra...              0   \n",
       "2  Wilhelm Keppler joined Cuno in 1932 in order t...              0   \n",
       "3                                        so far, so.              0   \n",
       "4                                        I'm nobody.              0   \n",
       "\n",
       "                                           line1_num  \\\n",
       "0  [tensor(1), tensor(7), tensor(1511), tensor(3)...   \n",
       "1  [tensor(1), tensor(14988), tensor(17), tensor(...   \n",
       "2  [tensor(1), tensor(9), tensor(6188), tensor(4)...   \n",
       "3  [tensor(1), tensor(44), tensor(475), tensor(10...   \n",
       "4  [tensor(1), tensor(44), tensor(193), tensor(13...   \n",
       "\n",
       "                                           line2_num  \n",
       "0  [tensor(1), tensor(122), tensor(84), tensor(19...  \n",
       "1  [tensor(1), tensor(14988), tensor(17), tensor(...  \n",
       "2  [tensor(1), tensor(11457), tensor(99585), tens...  \n",
       "3  [tensor(1), tensor(103), tensor(375), tensor(4...  \n",
       "4  [tensor(1), tensor(44), tensor(475), tensor(32...  "
      ]
     },
     "execution_count": 15,
     "metadata": {},
     "output_type": "execute_result"
    }
   ],
   "source": [
    "train_df.head()"
   ]
  },
  {
   "cell_type": "markdown",
   "metadata": {},
   "source": [
    "# Build Model and Train"
   ]
  },
  {
   "cell_type": "code",
   "execution_count": 16,
   "metadata": {},
   "outputs": [],
   "source": [
    "model = RNNClassifier(pretrained_emb=vocab.embedding)\n",
    "model = model.to(device)"
   ]
  },
  {
   "cell_type": "code",
   "execution_count": 17,
   "metadata": {},
   "outputs": [
    {
     "data": {
      "application/vnd.jupyter.widget-view+json": {
       "model_id": "20cacf4bd15f42f1b542571ef7a7477d",
       "version_major": 2,
       "version_minor": 0
      },
      "text/plain": [
       "HBox(children=(HTML(value='training'), FloatProgress(value=0.0, max=81510.0), HTML(value='')))"
      ]
     },
     "metadata": {},
     "output_type": "display_data"
    },
    {
     "name": "stderr",
     "output_type": "stream",
     "text": [
      "IOPub message rate exceeded.\n",
      "The notebook server will temporarily stop sending output\n",
      "to the client in order to avoid crashing it.\n",
      "To change this limit, set the config variable\n",
      "`--NotebookApp.iopub_msg_rate_limit`.\n",
      "\n",
      "Current values:\n",
      "NotebookApp.iopub_msg_rate_limit=1000.0 (msgs/sec)\n",
      "NotebookApp.rate_limit_window=3.0 (secs)\n",
      "\n",
      "IOPub message rate exceeded.\n",
      "The notebook server will temporarily stop sending output\n",
      "to the client in order to avoid crashing it.\n",
      "To change this limit, set the config variable\n",
      "`--NotebookApp.iopub_msg_rate_limit`.\n",
      "\n",
      "Current values:\n",
      "NotebookApp.iopub_msg_rate_limit=1000.0 (msgs/sec)\n",
      "NotebookApp.rate_limit_window=3.0 (secs)\n",
      "\n",
      "IOPub message rate exceeded.\n",
      "The notebook server will temporarily stop sending output\n",
      "to the client in order to avoid crashing it.\n",
      "To change this limit, set the config variable\n",
      "`--NotebookApp.iopub_msg_rate_limit`.\n",
      "\n",
      "Current values:\n",
      "NotebookApp.iopub_msg_rate_limit=1000.0 (msgs/sec)\n",
      "NotebookApp.rate_limit_window=3.0 (secs)\n",
      "\n",
      "IOPub message rate exceeded.\n",
      "The notebook server will temporarily stop sending output\n",
      "to the client in order to avoid crashing it.\n",
      "To change this limit, set the config variable\n",
      "`--NotebookApp.iopub_msg_rate_limit`.\n",
      "\n",
      "Current values:\n",
      "NotebookApp.iopub_msg_rate_limit=1000.0 (msgs/sec)\n",
      "NotebookApp.rate_limit_window=3.0 (secs)\n",
      "\n"
     ]
    },
    {
     "name": "stdout",
     "output_type": "stream",
     "text": [
      "\n"
     ]
    }
   ],
   "source": [
    "best_model, df = train(model, train_df, dev_df, device)"
   ]
  },
  {
   "cell_type": "code",
   "execution_count": 25,
   "metadata": {},
   "outputs": [
    {
     "data": {
      "text/plain": [
       "RNNClassifier(\n",
       "  (emb): Embedding(400004, 50)\n",
       "  (rnn): GRU(50, 128)\n",
       "  (fc1): Linear(in_features=256, out_features=128, bias=True)\n",
       "  (fc2): Linear(in_features=128, out_features=1, bias=True)\n",
       ")"
      ]
     },
     "execution_count": 25,
     "metadata": {},
     "output_type": "execute_result"
    }
   ],
   "source": [
    "loaded = RNNClassifier(pretrained_emb=vocab.embedding)\n",
    "loaded.load_state_dict(torch.load('output/best_model.pth'))\n",
    "loaded = loaded.to(device)\n",
    "loaded.eval()"
   ]
  },
  {
   "cell_type": "code",
   "execution_count": 22,
   "metadata": {},
   "outputs": [
    {
     "data": {
      "text/plain": [
       "<AxesSubplot:>"
      ]
     },
     "execution_count": 22,
     "metadata": {},
     "output_type": "execute_result"
    },
    {
     "data": {
      "image/png": "[encoded data removed]",
      "text/plain": [
       "<Figure size 432x288 with 1 Axes>"
      ]
     },
     "metadata": {
      "needs_background": "light"
     },
     "output_type": "display_data"
    }
   ],
   "source": [
    "df.dev_accu.plot()"
   ]
  },
  {
   "cell_type": "markdown",
   "metadata": {},
   "source": [
    "# Error Analysis"
   ]
  },
  {
   "cell_type": "code",
   "execution_count": 28,
   "metadata": {
    "scrolled": false
   },
   "outputs": [
    {
     "name": "stdout",
     "output_type": "stream",
     "text": [
      "devtest accuracy: 0.590308\n"
     ]
    }
   ],
   "source": [
    "preds = eval(loaded, devtest_df, device)\n",
    "print('devtest accuracy: {:4f}'.format(\n",
    "    accuracy_score(devtest_df.is_paraphrase, preds)))"
   ]
  },
  {
   "cell_type": "code",
   "execution_count": 34,
   "metadata": {},
   "outputs": [
    {
     "data": {
      "text/plain": [
       "Text(33.0, 0.5, 'True labels')"
      ]
     },
     "execution_count": 34,
     "metadata": {},
     "output_type": "execute_result"
    },
    {
     "data": {
      "image/png": "[encoded data removed]",
      "text/plain": [
       "<Figure size 432x288 with 2 Axes>"
      ]
     },
     "metadata": {
      "needs_background": "light"
     },
     "output_type": "display_data"
    }
   ],
   "source": [
    "conf_mat = confusion_matrix(devtest_df.is_paraphrase, preds)\n",
    "ax = sns.heatmap(conf_mat, annot=True, fmt='d', cmap='Blues')\n",
    "ax.set_xlabel('Predition')\n",
    "ax.set_ylabel('True labels')"
   ]
  },
  {
   "cell_type": "markdown",
   "metadata": {},
   "source": [
    "# Predict"
   ]
  },
  {
   "cell_type": "code",
   "execution_count": 41,
   "metadata": {},
   "outputs": [],
   "source": [
    "test_df = load_file('data/test_no_labels.tsv', skip_id=True, has_label=False)\n",
    "test_df['line1_num'] = test_df.line1.apply(vocab.numericalize)\n",
    "test_df['line2_num'] = test_df.line2.apply(vocab.numericalize)\n",
    "y_preds = eval(loaded, test_df, device)\n",
    "submission = pd.DataFrame({\n",
    "    'id': range(len(y_preds)),\n",
    "    'Category': y_preds\n",
    "})"
   ]
  },
  {
   "cell_type": "code",
   "execution_count": 42,
   "metadata": {},
   "outputs": [
    {
     "data": {
      "text/plain": [
       "1    2082\n",
       "0     918\n",
       "Name: Category, dtype: int64"
      ]
     },
     "execution_count": 42,
     "metadata": {},
     "output_type": "execute_result"
    }
   ],
   "source": [
    "submission.Category.value_counts()"
   ]
  },
  {
   "cell_type": "code",
   "execution_count": 43,
   "metadata": {},
   "outputs": [],
   "source": [
    "#submission.to_csv('output/submission-rnn.csv', index=False)"
   ]
  },
  {
   "cell_type": "code",
   "execution_count": 44,
   "metadata": {},
   "outputs": [],
   "source": [
    "test_df = load_file('data/heldout-hard/test.hard.tsv', has_label=False)\n",
    "test_df['line1_num'] = test_df.line1.apply(vocab.numericalize)\n",
    "test_df['line2_num'] = test_df.line2.apply(vocab.numericalize)\n",
    "y_preds = eval(loaded, test_df, device)\n",
    "submission = pd.DataFrame({\n",
    "    'id': range(len(y_preds)),\n",
    "    'Category': y_preds\n",
    "})"
   ]
  },
  {
   "cell_type": "code",
   "execution_count": 45,
   "metadata": {},
   "outputs": [
    {
     "data": {
      "text/plain": [
       "0    1534\n",
       "1    1466\n",
       "Name: Category, dtype: int64"
      ]
     },
     "execution_count": 45,
     "metadata": {},
     "output_type": "execute_result"
    }
   ],
   "source": [
    "submission.Category.value_counts()"
   ]
  },
  {
   "cell_type": "code",
   "execution_count": 46,
   "metadata": {},
   "outputs": [],
   "source": [
    "#submission.to_csv('output/submission-hard-rnn.csv', index=False)"
   ]
  },
  {
   "cell_type": "code",
   "execution_count": null,
   "metadata": {},
   "outputs": [],
   "source": []
  }
 ],
 "metadata": {
  "kernelspec": {
   "display_name": "py38",
   "language": "python",
   "name": "py38"
  }
 },
 "nbformat": 4,
 "nbformat_minor": 4
}
