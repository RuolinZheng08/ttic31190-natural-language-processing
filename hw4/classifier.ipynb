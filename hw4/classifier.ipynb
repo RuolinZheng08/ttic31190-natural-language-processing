{
 "cells": [
  {
   "cell_type": "markdown",
   "metadata": {},
   "source": [
    "# Load Util Files"
   ]
  },
  {
   "cell_type": "code",
   "execution_count": 1,
   "metadata": {},
   "outputs": [],
   "source": [
    "from copy import deepcopy\n",
    "from tqdm.notebook import tqdm\n",
    "import torch.optim as optim\n",
    "from sklearn.metrics import confusion_matrix, accuracy_score"
   ]
  },
  {
   "cell_type": "code",
   "execution_count": 2,
   "metadata": {},
   "outputs": [],
   "source": [
    "# %load dataset.py\n",
    "import re\n",
    "import pickle\n",
    "import numpy as np\n",
    "from collections import defaultdict\n",
    "\n",
    "from nltk.tokenize import word_tokenize\n",
    "\n",
    "import torch\n",
    "from torch.utils.data import DataLoader, Dataset\n",
    "from torch.nn.utils.rnn import pad_sequence\n",
    "\n",
    "UNK = '<unk>'\n",
    "PAD = '<pad>'\n",
    "SOS = '<s>' # start of sentence\n",
    "EOS = '</s>'\n",
    "\n",
    "BATCH_SIZE = 500\n",
    "\n",
    "class GloveVocabulary:\n",
    "    def __init__(self, glove_vocab_path, glove_emb_path):\n",
    "        self.idx_to_str = [PAD, SOS, EOS] # <unk> is in GloVe\n",
    "        self.start_idx = len(self.idx_to_str) # length at which real tokens starts\n",
    "        # load glove into self.idx_to_str and self.str_to_idx\n",
    "        with open(glove_vocab_path, 'rb') as f:\n",
    "            glove_vocab = pickle.load(f)\n",
    "        with open(glove_emb_path, 'rb') as f:\n",
    "            glove_emb = pickle.load(f)\n",
    "        self.idx_to_str += glove_vocab\n",
    "        self.str_to_idx = {s: idx for idx, s in enumerate(self.idx_to_str)}\n",
    "\n",
    "        # TODO: initialize emb for special tokens\n",
    "        # instead of random vector, use the mean of all glove vectors for special tokens\n",
    "        glove_emb = torch.tensor(glove_emb)\n",
    "        mean_vec = glove_emb.mean(dim=0, keepdim=True)\n",
    "        self.embedding = torch.cat(\n",
    "            [mean_vec, mean_vec, mean_vec, glove_emb], dim=0\n",
    "        )\n",
    "\n",
    "    def __len__(self):\n",
    "        return len(self.idx_to_str)\n",
    "\n",
    "    @staticmethod\n",
    "    def tokenize(line):\n",
    "        # TODO: try different tokenizers\n",
    "        return word_tokenize(line.lower())\n",
    "\n",
    "    def numericalize(self, line):\n",
    "        \"\"\"\n",
    "        Call this only after the vocab has been built\n",
    "        \"\"\"\n",
    "        tokens = self.tokenize(line)\n",
    "        ret = [self.str_to_idx[SOS]]\n",
    "        for token in tokens:\n",
    "            if token in self.str_to_idx:\n",
    "                ret.append(self.str_to_idx[token])\n",
    "            else:\n",
    "                ret.append(self.str_to_idx[UNK])\n",
    "        ret.append(self.str_to_idx[EOS])\n",
    "        return torch.LongTensor(ret)\n",
    "\n",
    "    def denumericalize(self, token_indices):\n",
    "        \"\"\"\n",
    "        Invert numericalize, returns a string\n",
    "        \"\"\"\n",
    "        # remove start and end token\n",
    "        ret = []\n",
    "        for idx in token_indices[1 : -1]:\n",
    "            token = self.idx_to_str[idx]\n",
    "            # break early when hitting <pad> token\n",
    "            if token == PAD:\n",
    "                break\n",
    "            else:\n",
    "                ret.append(token)\n",
    "        return ' '.join(ret)\n",
    "\n",
    "class TrainDataset(Dataset):\n",
    "    def __init__(self, train_path, glove_vocab_path, glove_emb_path, num_transforms=3):\n",
    "        \"\"\"\n",
    "        num_transforms: number of transforms to apply to the line to generate a negative sample\n",
    "        \"\"\"\n",
    "        self.num_transforms = num_transforms\n",
    "        self.first_column_lines = [] # lines in the first column\n",
    "        self.second_column_lines = []\n",
    "        with open(train_path, 'rt') as f:\n",
    "            for line in f:\n",
    "                # do minimal amount of preprocessing here, lowercasing is done in vocab\n",
    "                first, second = line.split('\\t')\n",
    "                self.first_column_lines.append(first)\n",
    "                self.second_column_lines.append(second)\n",
    "\n",
    "        self.vocab = GloveVocabulary(glove_vocab_path, glove_emb_path)\n",
    "\n",
    "    def __len__(self):\n",
    "        return len(self.first_column_lines)\n",
    "\n",
    "    def generate_negative_example(self, numericalized_line):\n",
    "        \"\"\"\n",
    "        numericalized_line: torch.LongTensor\n",
    "        \"\"\"\n",
    "        # randomly substitute in words after vocab.start_idx\n",
    "        # TODO: insertion, deletion, permutation\n",
    "        ret = numericalized_line.detach().clone()\n",
    "        # position in line to perturb\n",
    "        token_indices = np.random.choice(range(len(numericalized_line)),\n",
    "        self.num_transforms, replace=False)\n",
    "        # the last token is <unk>\n",
    "        vocab_indices = np.random.choice(range(self.vocab.start_idx, len(self.vocab) - 1),\n",
    "        self.num_transforms)\n",
    "        for tok_idx, vocab_idx in zip(token_indices, vocab_indices):\n",
    "            ret[tok_idx] = vocab_idx\n",
    "        return ret\n",
    "\n",
    "    def __getitem__(self, index):\n",
    "        \"\"\"\n",
    "        Return a triplet of numericalized lines\n",
    "        original, positive, and negative example\n",
    "        (line, paraphrased line, non-paraphrasal line)\n",
    "        \"\"\"\n",
    "        line = self.first_column_lines[index]\n",
    "        positive_line = self.second_column_lines[index]\n",
    "        # convert tokens to indices\n",
    "        numericalized_line = self.vocab.numericalize(line)\n",
    "        numericalized_positive = self.vocab.numericalize(positive_line)\n",
    "        # generate a negative numericalized example\n",
    "        numericalized_negattive = self.generate_negative_example(numericalized_line)\n",
    "\n",
    "        return numericalized_line, numericalized_positive, numericalized_negattive\n",
    "\n",
    "class PadCollate:\n",
    "    \"\"\"\n",
    "    Pad lines in the same batch to the same length\n",
    "    \"\"\"\n",
    "    def __init__(self, pad_idx):\n",
    "        \"\"\"\n",
    "        pad_idx\n",
    "        \"\"\"\n",
    "        self.pad_idx = pad_idx\n",
    "\n",
    "    def __call__(self, batch):\n",
    "        # use long tensor for embedding\n",
    "        lines = [item[0] for item in batch]\n",
    "        positives = [item[1] for item in batch]\n",
    "        negatives = [item[2] for item in batch]\n",
    "        lines = pad_sequence(lines, batch_first=False, padding_value=self.pad_idx)\n",
    "        positives = pad_sequence(positives, batch_first=False, padding_value=self.pad_idx)\n",
    "        negatives = pad_sequence(negatives, batch_first=False, padding_value=self.pad_idx)\n",
    "        return lines, positives, negatives\n",
    "\n",
    "def get_train_loader(train_path, glove_vocab_path, glove_emb_path):\n",
    "    dataset = TrainDataset(train_path, glove_vocab_path, glove_emb_path)\n",
    "    pad_idx = dataset.vocab.str_to_idx[PAD]\n",
    "    loader = DataLoader(dataset, batch_size=BATCH_SIZE, shuffle=False, pin_memory=True, collate_fn=PadCollate(pad_idx=pad_idx))\n",
    "    return loader\n",
    "\n",
    "def load_dev_devtest(vocab, path):\n",
    "    \"\"\"\n",
    "    calls vocab.numericalize\n",
    "    returns first_lines, second_lines, labels\n",
    "    \"\"\"\n",
    "    first_lines = []\n",
    "    second_lines = []\n",
    "    labels = []\n",
    "    with open(path, 'rt') as f:\n",
    "        for line in f:\n",
    "            chunks = line.strip().split('\\t')\n",
    "            first = vocab.numericalize(chunks[0])\n",
    "            second = vocab.numericalize(chunks[1])\n",
    "            label = int(chunks[2])\n",
    "            first_lines.append(first)\n",
    "            second_lines.append(second)\n",
    "            labels.append(label)\n",
    "    return first_lines, second_lines, labels\n",
    "\n",
    "def load_test(vocab, path):\n",
    "    \"\"\"\n",
    "    skip id column, calls vocab.numericalize\n",
    "    \"\"\"\n",
    "    first_lines, second_lines = [], []\n",
    "    with open(path, 'rt') as f:\n",
    "        for line in f:\n",
    "            chunks = line.strip().split('\\t')\n",
    "            first = vocab.numericalize(chunks[1])\n",
    "            second = vocab.numericalize(chunks[2])\n",
    "            first_lines.append(first)\n",
    "            second_lines.append(second)\n",
    "    return first_lines, second_lines\n"
   ]
  },
  {
   "cell_type": "code",
   "execution_count": 3,
   "metadata": {},
   "outputs": [],
   "source": [
    "# %load model.py\n",
    "import torch\n",
    "import torch.nn as nn\n",
    "\n",
    "EMB_DIM = 50\n",
    "\n",
    "class RNNClassifier(nn.Module):\n",
    "    def __init__(self, pretrained_emb=None, freeze_emb=False, vocab_size=None, emb_dim=EMB_DIM):\n",
    "        \"\"\"\n",
    "        vocab_size must be not None if no pretrained_emb is given\n",
    "        \"\"\"\n",
    "        super(RNNClassifier, self).__init__()\n",
    "        if pretrained_emb is None:\n",
    "            self.emb = nn.Embedding(vocab_size, emb_dim)\n",
    "            torch.nn.init.uniform_(self.emb.weight, -0.01, 0.01)\n",
    "        else:\n",
    "            self.emb = nn.Embedding.from_pretrained(pretrained_emb, freeze=freeze_emb)\n",
    "\n",
    "        rnn_input_dim = self.emb.weight.shape[1] # EMB_DIM\n",
    "        rnn_output_dim = 128\n",
    "        # TODO: bidirectional?\n",
    "        self.rnn = nn.GRU(rnn_input_dim, rnn_output_dim, batch_first=False)\n",
    "\n",
    "        # pass the concatenation of two RNN outputs to fully connected layers\n",
    "        fc_input_dim = rnn_output_dim * 2\n",
    "        fc_hidden_dim = 128\n",
    "        self.fc1 = nn.Linear(fc_input_dim, fc_hidden_dim)\n",
    "        self.fc2 = nn.Linear(fc_hidden_dim, 1) # output a scalar for class probability\n",
    "\n",
    "    def forward(self, x1, x2):\n",
    "        \"\"\"\n",
    "        x1: first sentence, x2: second setences\n",
    "        (seq_len, batch_size)\n",
    "        \"\"\"\n",
    "        x1 = self.emb(x1)\n",
    "        x2 = self.emb(x2)\n",
    "        hidden = None\n",
    "        for token in x1:\n",
    "            out1, hidden = self.rnn(token.unsqueeze(0), hidden)\n",
    "        # TODO: is it better to pass hidden=hidden, hidden=output, or hidden=None\n",
    "        # can do truncate or pad\n",
    "        hidden = None\n",
    "        for token in x2:\n",
    "            out2, hidden = self.rnn(token.unsqueeze(0), hidden)\n",
    "        fc_input = torch.cat([out1, out2], dim=-1).squeeze()\n",
    "        out = torch.tanh(self.fc1(fc_input))\n",
    "        # use sigmoid with BCELoss\n",
    "        out = torch.sigmoid(self.fc2(out))\n",
    "        return out\n"
   ]
  },
  {
   "cell_type": "code",
   "execution_count": 4,
   "metadata": {},
   "outputs": [],
   "source": [
    "def train(model, train_loader, dev_data, device, n_epochs=3):\n",
    "    loss_func = nn.BCELoss()\n",
    "    optimizer = optim.Adam(model.parameters(), lr=0.01)\n",
    "    # positive and negative labels\n",
    "    ones = torch.ones((BATCH_SIZE, 1)).to(device)\n",
    "    zeros = torch.zeros((BATCH_SIZE, 1)).to(device)\n",
    "    labels_flat = np.concatenate([np.ones(BATCH_SIZE, dtype=int),\n",
    "                                  np.zeros(BATCH_SIZE, dtype=int)])\n",
    "    # record training stats\n",
    "    best_model = None\n",
    "    best_dev_accu = 0\n",
    "    batch_losses = []\n",
    "    batch_accu_list = []\n",
    "    dev_accu_list = []\n",
    "    for epoch in tqdm(range(1, n_epochs + 1)):\n",
    "        progress_bar = tqdm(enumerate(loader))\n",
    "        for batch_idx, tup in progress_bar:\n",
    "            line, positive, negative = tup\n",
    "            line = line.to(device)\n",
    "            positive = positive.to(device)\n",
    "            negative = negative.to(device)\n",
    "            out_positive = model(line, positive)\n",
    "            out_negative = model(line, negative)\n",
    "\n",
    "            optimizer.zero_grad()\n",
    "            loss = loss_func(out_positive, ones)\n",
    "            loss += loss_func(out_negative, zeros)\n",
    "            loss.backward()\n",
    "            optimizer.step()\n",
    "            \n",
    "            # batch accuracy\n",
    "            preds = torch.cat([out_positive, out_negative]).cpu().flatten()\n",
    "            preds = np.where(preds > 0.5, 1, 0).astype(int)\n",
    "            batch_accu = accuracy_score(labels_flat, preds)\n",
    "            \n",
    "            # evaluate on dev every batch\n",
    "            model.eval()\n",
    "            with torch.no_grad():\n",
    "                dev_accu = eval(model, dev_data, device)\n",
    "            model.train()\n",
    "            \n",
    "            progress_bar.set_description(\n",
    "            'Epoch {} batch {}: batch_loss {:.4f}, batch_accu: {:.4f}, dev_accu: {:.4f}'\\\n",
    "              .format(epoch, batch_idx, loss.item(), batch_accu, dev_accu))\n",
    "            # save model\n",
    "            if dev_accu > best_dev_accu:\n",
    "                best_dev_accu = dev_accu\n",
    "                best_model = deepcopy(model)\n",
    "                torch.save(best_model.state_dict(), 'output/best_model.pth')\n",
    "            \n",
    "            # record stats\n",
    "            batch_losses.append(loss.item())\n",
    "            batch_accu_list.append(batch_accu)\n",
    "            dev_accu_list.append(dev_accu)\n",
    "            \n",
    "    loss_accu_df = pd.DataFrame({\n",
    "        'epoch': range(1, n_epochs + 1), \n",
    "        'loss': batch_losses,\n",
    "        'train_accu': batch_accu_list,\n",
    "        'dev_accu': dev_accu_list})\n",
    "        \n",
    "    return best_model, loss_accu_df"
   ]
  },
  {
   "cell_type": "code",
   "execution_count": 5,
   "metadata": {},
   "outputs": [],
   "source": [
    "def eval(model, data, device):\n",
    "    first_lines, second_lines, labels = data\n",
    "    preds = np.empty(len(first_lines))\n",
    "    for idx, tup in enumerate(zip(first_lines, second_lines)):\n",
    "        first, second = tup\n",
    "        first = first.to(device)\n",
    "        second = second.to(device)\n",
    "        # unsqueeze in batch_size\n",
    "        pred = model(first.unsqueeze(1), \n",
    "                     second.unsqueeze(1)).cpu().numpy()\n",
    "        preds[idx] = pred\n",
    "    preds = np.where(preds > 0.5, 1, 0)\n",
    "    accu = accuracy_score(labels, preds)\n",
    "    return accu"
   ]
  },
  {
   "cell_type": "code",
   "execution_count": 6,
   "metadata": {},
   "outputs": [
    {
     "data": {
      "text/plain": [
       "<torch._C.Generator at 0x7f0c4c0c7a70>"
      ]
     },
     "execution_count": 6,
     "metadata": {},
     "output_type": "execute_result"
    }
   ],
   "source": [
    "np.set_printoptions(precision=4)\n",
    "np.random.seed(0)\n",
    "torch.manual_seed(0)"
   ]
  },
  {
   "cell_type": "code",
   "execution_count": 7,
   "metadata": {},
   "outputs": [
    {
     "data": {
      "text/plain": [
       "device(type='cuda', index=0)"
      ]
     },
     "execution_count": 7,
     "metadata": {},
     "output_type": "execute_result"
    }
   ],
   "source": [
    "device = torch.device('cuda:0' if torch.cuda.is_available() else 'cpu')\n",
    "device"
   ]
  },
  {
   "cell_type": "markdown",
   "metadata": {},
   "source": [
    "# Load Train, Dev, DevTest"
   ]
  },
  {
   "cell_type": "code",
   "execution_count": 8,
   "metadata": {},
   "outputs": [],
   "source": [
    "loader = get_train_loader('data/train.tsv', 'data/glove_vocab.pkl', \n",
    "                          'data/glove_emb.pkl')"
   ]
  },
  {
   "cell_type": "code",
   "execution_count": 9,
   "metadata": {},
   "outputs": [],
   "source": [
    "vocab = loader.dataset.vocab"
   ]
  },
  {
   "cell_type": "code",
   "execution_count": 10,
   "metadata": {
    "scrolled": true
   },
   "outputs": [],
   "source": [
    "dev = load_dev_devtest(vocab, 'data/dev+devtest/dev.tsv')\n",
    "devtest = load_dev_devtest(vocab, 'data/dev+devtest/devtest.tsv')"
   ]
  },
  {
   "cell_type": "markdown",
   "metadata": {},
   "source": [
    "# Build Model and Train"
   ]
  },
  {
   "cell_type": "code",
   "execution_count": 11,
   "metadata": {},
   "outputs": [],
   "source": [
    "model = RNNClassifier(pretrained_emb=loader.dataset.vocab.embedding)\n",
    "model = model.to(device)"
   ]
  },
  {
   "cell_type": "markdown",
   "metadata": {},
   "source": [
    "## Train"
   ]
  },
  {
   "cell_type": "code",
   "execution_count": null,
   "metadata": {},
   "outputs": [
    {
     "data": {
      "application/vnd.jupyter.widget-view+json": {
       "model_id": "22ec49535a2e45fbbf0297295787d35d",
       "version_major": 2,
       "version_minor": 0
      },
      "text/plain": [
       "HBox(children=(HTML(value=''), FloatProgress(value=0.0, max=1.0), HTML(value='')))"
      ]
     },
     "metadata": {},
     "output_type": "display_data"
    },
    {
     "data": {
      "application/vnd.jupyter.widget-view+json": {
       "model_id": "b65c82668ab44221989da065e6d723e7",
       "version_major": 2,
       "version_minor": 0
      },
      "text/plain": [
       "HBox(children=(HTML(value=''), FloatProgress(value=1.0, bar_style='info', layout=Layout(width='20px'), max=1.0…"
      ]
     },
     "metadata": {},
     "output_type": "display_data"
    }
   ],
   "source": [
    "best_model, df = train(model, loader, dev, device, n_epochs=1)"
   ]
  },
  {
   "cell_type": "code",
   "execution_count": null,
   "metadata": {},
   "outputs": [],
   "source": [
    "torch.save(best_model.state_dict(), 'data/best_model.pth')"
   ]
  },
  {
   "cell_type": "code",
   "execution_count": null,
   "metadata": {},
   "outputs": [],
   "source": [
    "loaded = RNNClassifier(pretrained_emb=loader.dataset.vocab.embedding)\n",
    "loaded.load_state_dict(torch.load('data/best_model.pth'))\n",
    "loaded.eval()"
   ]
  },
  {
   "cell_type": "markdown",
   "metadata": {},
   "source": [
    "# Predict"
   ]
  },
  {
   "cell_type": "code",
   "execution_count": null,
   "metadata": {},
   "outputs": [],
   "source": [
    "eval(loaded, devtest, device)"
   ]
  },
  {
   "cell_type": "markdown",
   "metadata": {},
   "source": [
    "# Error Analysis"
   ]
  }
 ],
 "metadata": {
  "kernelspec": {
   "display_name": "py38",
   "language": "python",
   "name": "py38"
  },
  "language_info": {
   "codemirror_mode": {
    "name": "ipython",
    "version": 3
   },
   "file_extension": ".py",
   "mimetype": "text/x-python",
   "name": "python",
   "nbconvert_exporter": "python",
   "pygments_lexer": "ipython3",
   "version": "3.8.3"
  }
 },
 "nbformat": 4,
 "nbformat_minor": 4
}
