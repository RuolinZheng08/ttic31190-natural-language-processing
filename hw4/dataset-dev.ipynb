{
 "cells": [
  {
   "cell_type": "code",
   "execution_count": 6,
   "metadata": {},
   "outputs": [],
   "source": [
    "# %load dataset.py\n",
    "import re\n",
    "import pickle\n",
    "import numpy as np\n",
    "from collections import defaultdict\n",
    "\n",
    "from nltk.tokenize import word_tokenize\n",
    "\n",
    "import torch\n",
    "from torch.utils.data import DataLoader, Dataset\n",
    "from torch.nn.utils.rnn import pad_sequence\n",
    "\n",
    "UNK = '<unk>'\n",
    "PAD = '<pad>'\n",
    "SOS = '<s>' # start of sentence\n",
    "EOS = '</s>'\n",
    "\n",
    "class GloveVocabulary:\n",
    "    def __init__(self, glove_vocab_path, glove_emb_path):\n",
    "        self.idx_to_str = [PAD, SOS, EOS] # <unk> is in GloVe\n",
    "        self.start_idx = len(self.idx_to_str) # length at which real tokens starts\n",
    "        # load glove into self.idx_to_str and self.str_to_idx\n",
    "        with open(glove_vocab_path, 'rb') as f:\n",
    "            glove_vocab = pickle.load(f)\n",
    "        with open(glove_emb_path, 'rb') as f:\n",
    "            glove_emb = pickle.load(f)\n",
    "        self.idx_to_str += glove_vocab\n",
    "        self.str_to_idx = {s: idx for idx, s in enumerate(self.idx_to_str)}\n",
    "\n",
    "        # TODO: initialize emb for special tokens\n",
    "        # instead of random vector, use the mean of all glove vectors for special tokens\n",
    "        glove_emb = torch.tensor(glove_emb)\n",
    "        mean_vec = glove_emb.mean(dim=0, keepdim=True)\n",
    "        self.embedding = torch.cat(\n",
    "            [mean_vec, mean_vec, mean_vec, glove_emb], dim=0\n",
    "        )\n",
    "\n",
    "    def __len__(self):\n",
    "        return len(self.idx_to_str)\n",
    "\n",
    "    @staticmethod\n",
    "    def tokenize(line):\n",
    "        # TODO: try different tokenizers\n",
    "        return word_tokenize(line.lower())\n",
    "\n",
    "    def numericalize(self, line):\n",
    "        \"\"\"\n",
    "        Call this only after the vocab has been built\n",
    "        \"\"\"\n",
    "        tokens = self.tokenize(line)\n",
    "        ret = [self.str_to_idx[SOS]]\n",
    "        for token in tokens:\n",
    "            if token in self.str_to_idx:\n",
    "                ret.append(self.str_to_idx[token])\n",
    "            else:\n",
    "                ret.append(self.str_to_idx[UNK])\n",
    "        ret.append(self.str_to_idx[EOS])\n",
    "        return torch.LongTensor(ret)\n",
    "\n",
    "    def denumericalize(self, token_indices):\n",
    "        \"\"\"\n",
    "        Invert numericalize, returns a string\n",
    "        \"\"\"\n",
    "        # remove start and end token\n",
    "        ret = []\n",
    "        for idx in token_indices[1 : -1]:\n",
    "            token = self.idx_to_str[idx]\n",
    "            # break early when hitting <pad> token\n",
    "            if token == PAD:\n",
    "                break\n",
    "            else:\n",
    "                ret.append(token)\n",
    "        return ' '.join(ret)\n",
    "\n",
    "class TrainDataset(Dataset):\n",
    "    def __init__(self, train_path, glove_vocab_path, glove_emb_path, num_transforms=3):\n",
    "        \"\"\"\n",
    "        num_transforms: number of transforms to apply to the line to generate a negative sample\n",
    "        \"\"\"\n",
    "        self.num_transforms = num_transforms\n",
    "        self.first_column_lines = [] # lines in the first column\n",
    "        self.second_column_lines = []\n",
    "        with open(train_path, 'rt') as f:\n",
    "            for line in f:\n",
    "                # do minimal amount of preprocessing here, lowercasing is done in vocab\n",
    "                first, second = line.split('\\t')\n",
    "                self.first_column_lines.append(first)\n",
    "                self.second_column_lines.append(second)\n",
    "\n",
    "        self.vocab = GloveVocabulary(glove_vocab_path, glove_emb_path)\n",
    "\n",
    "    def __len__(self):\n",
    "        return len(self.first_column_lines)\n",
    "\n",
    "    def generate_negative_example(self, numericalized_line):\n",
    "        \"\"\"\n",
    "        numericalized_line: torch.LongTensor\n",
    "        \"\"\"\n",
    "        # randomly substitute in words after vocab.start_idx\n",
    "        # TODO: insertion, deletion, permutation\n",
    "        ret = numericalized_line.detach().clone()\n",
    "        # position in line to perturb\n",
    "        token_indices = np.random.choice(range(len(numericalized_line)),\n",
    "        self.num_transforms, replace=False)\n",
    "        # the last token is <unk>\n",
    "        vocab_indices = np.random.choice(range(self.vocab.start_idx, len(self.vocab) - 1),\n",
    "        self.num_transforms)\n",
    "        for tok_idx, vocab_idx in zip(token_indices, vocab_indices):\n",
    "            ret[tok_idx] = vocab_idx\n",
    "        return ret\n",
    "\n",
    "    def __getitem__(self, index):\n",
    "        \"\"\"\n",
    "        Return a triplet of numericalized lines\n",
    "        original, positive, and negative example\n",
    "        (line, paraphrased line, non-paraphrasal line)\n",
    "        \"\"\"\n",
    "        line = self.first_column_lines[index]\n",
    "        positive_line = self.second_column_lines[index]\n",
    "        # convert tokens to indices\n",
    "        numericalized_line = self.vocab.numericalize(line)\n",
    "        numericalized_positive = self.vocab.numericalize(positive_line)\n",
    "        # generate a negative numericalized example\n",
    "        numericalized_negattive = self.generate_negative_example(numericalized_line)\n",
    "\n",
    "        return numericalized_line, numericalized_positive, numericalized_negattive\n",
    "\n",
    "class PadCollate:\n",
    "    \"\"\"\n",
    "    Pad lines in the same batch to the same length\n",
    "    \"\"\"\n",
    "    def __init__(self, pad_idx):\n",
    "        \"\"\"\n",
    "        pad_idx\n",
    "        \"\"\"\n",
    "        self.pad_idx = pad_idx\n",
    "\n",
    "    def __call__(self, batch):\n",
    "        # use long tensor for embedding\n",
    "        lines = [item[0] for item in batch]\n",
    "        positives = [item[1] for item in batch]\n",
    "        negatives = [item[2] for item in batch]\n",
    "        lines = pad_sequence(lines, batch_first=False, padding_value=self.pad_idx)\n",
    "        positives = pad_sequence(positives, batch_first=False, padding_value=self.pad_idx)\n",
    "        negatives = pad_sequence(negatives, batch_first=False, padding_value=self.pad_idx)\n",
    "        return lines, positives, negatives\n",
    "\n",
    "def get_train_loader(train_path, glove_vocab_path, glove_emb_path):\n",
    "    dataset = TrainDataset(train_path, glove_vocab_path, glove_emb_path)\n",
    "    pad_idx = dataset.vocab.str_to_idx[PAD]\n",
    "    loader = DataLoader(dataset, batch_size=32, shuffle=False, pin_memory=True, collate_fn=PadCollate(pad_idx=pad_idx))\n",
    "    return loader\n"
   ]
  },
  {
   "cell_type": "code",
   "execution_count": 7,
   "metadata": {},
   "outputs": [],
   "source": [
    "train = TrainDataset('data/train.tsv', 'data/glove_vocab.pkl', \n",
    "                    'data/glove_emb.pkl')"
   ]
  },
  {
   "cell_type": "code",
   "execution_count": 8,
   "metadata": {},
   "outputs": [
    {
     "data": {
      "text/plain": [
       "(tensor([     1,     26,    790,     27,    437,      8, 400003,   4117,   1457,\n",
       "              5,      2]),\n",
       " tensor([     1, 400003,      8,   8782,      3,   4117,   1457,      5,      2]),\n",
       " tensor([     1,     26, 103825,     27, 169215,      8, 400003,   4117,   1457,\n",
       "              5, 366928]))"
      ]
     },
     "execution_count": 8,
     "metadata": {},
     "output_type": "execute_result"
    }
   ],
   "source": [
    "train[0]"
   ]
  },
  {
   "cell_type": "code",
   "execution_count": 9,
   "metadata": {},
   "outputs": [],
   "source": [
    "a, b, c = train[0]"
   ]
  },
  {
   "cell_type": "code",
   "execution_count": 10,
   "metadata": {},
   "outputs": [
    {
     "data": {
      "text/plain": [
       "'( woman ) ... and <unk> innocent blood .'"
      ]
     },
     "execution_count": 10,
     "metadata": {},
     "output_type": "execute_result"
    }
   ],
   "source": [
    "train.vocab.denumericalize(a)"
   ]
  },
  {
   "cell_type": "code",
   "execution_count": 11,
   "metadata": {},
   "outputs": [
    {
     "data": {
      "text/plain": [
       "'<unk> and condemn the innocent blood .'"
      ]
     },
     "execution_count": 11,
     "metadata": {},
     "output_type": "execute_result"
    }
   ],
   "source": [
    "train.vocab.denumericalize(b)"
   ]
  },
  {
   "cell_type": "code",
   "execution_count": 12,
   "metadata": {},
   "outputs": [
    {
     "data": {
      "text/plain": [
       "'( woman polythene ... and <unk> orgasmatron blood commendator'"
      ]
     },
     "execution_count": 12,
     "metadata": {},
     "output_type": "execute_result"
    }
   ],
   "source": [
    "train.vocab.denumericalize(c)"
   ]
  },
  {
   "cell_type": "code",
   "execution_count": 13,
   "metadata": {},
   "outputs": [
    {
     "data": {
      "text/plain": [
       "['<pad>', '<s>', '</s>', 'the', ',', '.', 'of', 'to', 'and', 'in']"
      ]
     },
     "execution_count": 13,
     "metadata": {},
     "output_type": "execute_result"
    }
   ],
   "source": [
    "train.vocab.idx_to_str[:10]"
   ]
  },
  {
   "cell_type": "code",
   "execution_count": 14,
   "metadata": {},
   "outputs": [
    {
     "data": {
      "text/plain": [
       "['(Woman)... and condemnthe innocent blood.',\n",
       " 'I\\'m getting alittle tired of this \"no\" thing.',\n",
       " '\"But that\\'ll take all our winter stocks.',\n",
       " 'Whoosh and all that.',\n",
       " 'You can be at ease too.',\n",
       " \"Soundlessly, Eleanor slipped around the table to Rita O'Neill.\",\n",
       " 'Nels stowed some of the paraphernalia away, making room in the rear seat.',\n",
       " 'Say I do this.',\n",
       " 'Now get outof this room right now.',\n",
       " \"I mean, if you're dancing for real, it comes from the most truthful part of your soul.\"]"
      ]
     },
     "execution_count": 14,
     "metadata": {},
     "output_type": "execute_result"
    }
   ],
   "source": [
    "train.first_column_lines[:10]"
   ]
  },
  {
   "cell_type": "code",
   "execution_count": 15,
   "metadata": {},
   "outputs": [
    {
     "data": {
      "text/plain": [
       "['(', 'woman', ')', '...', 'and', 'condemnthe', 'innocent', 'blood', '.']"
      ]
     },
     "execution_count": 15,
     "metadata": {},
     "output_type": "execute_result"
    }
   ],
   "source": [
    "train.vocab.tokenize(train.first_column_lines[0])"
   ]
  },
  {
   "cell_type": "code",
   "execution_count": null,
   "metadata": {},
   "outputs": [],
   "source": []
  },
  {
   "cell_type": "code",
   "execution_count": null,
   "metadata": {},
   "outputs": [],
   "source": []
  },
  {
   "cell_type": "code",
   "execution_count": null,
   "metadata": {},
   "outputs": [],
   "source": []
  },
  {
   "cell_type": "code",
   "execution_count": null,
   "metadata": {},
   "outputs": [],
   "source": [
    "loader = get_train_loader('data/train.tsv', 'data/glove_vocab.pkl', \n",
    "                    'data/glove_emb.pkl')"
   ]
  },
  {
   "cell_type": "code",
   "execution_count": 54,
   "metadata": {},
   "outputs": [
    {
     "ename": "ValueError",
     "evalue": "expected sequence of length 11 at dim 1 (got 14)",
     "output_type": "error",
     "traceback": [
      "\u001b[0;31m---------------------------------------------------------------------------\u001b[0m",
      "\u001b[0;31mValueError\u001b[0m                                Traceback (most recent call last)",
      "\u001b[0;32m<ipython-input-54-d38ebaaa333c>\u001b[0m in \u001b[0;36m<module>\u001b[0;34m\u001b[0m\n\u001b[0;32m----> 1\u001b[0;31m \u001b[0;32mfor\u001b[0m \u001b[0mx\u001b[0m\u001b[0;34m,\u001b[0m \u001b[0my\u001b[0m\u001b[0;34m,\u001b[0m \u001b[0mz\u001b[0m \u001b[0;32min\u001b[0m \u001b[0mloader\u001b[0m\u001b[0;34m:\u001b[0m\u001b[0;34m\u001b[0m\u001b[0;34m\u001b[0m\u001b[0m\n\u001b[0m\u001b[1;32m      2\u001b[0m     \u001b[0mprint\u001b[0m\u001b[0;34m(\u001b[0m\u001b[0mlen\u001b[0m\u001b[0;34m(\u001b[0m\u001b[0mx\u001b[0m\u001b[0;34m)\u001b[0m\u001b[0;34m,\u001b[0m \u001b[0mlen\u001b[0m\u001b[0;34m(\u001b[0m\u001b[0my\u001b[0m\u001b[0;34m)\u001b[0m\u001b[0;34m,\u001b[0m \u001b[0mlen\u001b[0m\u001b[0;34m(\u001b[0m\u001b[0mz\u001b[0m\u001b[0;34m)\u001b[0m\u001b[0;34m)\u001b[0m\u001b[0;34m\u001b[0m\u001b[0;34m\u001b[0m\u001b[0m\n\u001b[1;32m      3\u001b[0m     \u001b[0;32mbreak\u001b[0m\u001b[0;34m\u001b[0m\u001b[0;34m\u001b[0m\u001b[0m\n",
      "\u001b[0;32m/scratch/ruolinzheng/conda/envs/py38/lib/python3.8/site-packages/torch/utils/data/dataloader.py\u001b[0m in \u001b[0;36m__next__\u001b[0;34m(self)\u001b[0m\n\u001b[1;32m    361\u001b[0m \u001b[0;34m\u001b[0m\u001b[0m\n\u001b[1;32m    362\u001b[0m     \u001b[0;32mdef\u001b[0m \u001b[0m__next__\u001b[0m\u001b[0;34m(\u001b[0m\u001b[0mself\u001b[0m\u001b[0;34m)\u001b[0m\u001b[0;34m:\u001b[0m\u001b[0;34m\u001b[0m\u001b[0;34m\u001b[0m\u001b[0m\n\u001b[0;32m--> 363\u001b[0;31m         \u001b[0mdata\u001b[0m \u001b[0;34m=\u001b[0m \u001b[0mself\u001b[0m\u001b[0;34m.\u001b[0m\u001b[0m_next_data\u001b[0m\u001b[0;34m(\u001b[0m\u001b[0;34m)\u001b[0m\u001b[0;34m\u001b[0m\u001b[0;34m\u001b[0m\u001b[0m\n\u001b[0m\u001b[1;32m    364\u001b[0m         \u001b[0mself\u001b[0m\u001b[0;34m.\u001b[0m\u001b[0m_num_yielded\u001b[0m \u001b[0;34m+=\u001b[0m \u001b[0;36m1\u001b[0m\u001b[0;34m\u001b[0m\u001b[0;34m\u001b[0m\u001b[0m\n\u001b[1;32m    365\u001b[0m         \u001b[0;32mif\u001b[0m \u001b[0mself\u001b[0m\u001b[0;34m.\u001b[0m\u001b[0m_dataset_kind\u001b[0m \u001b[0;34m==\u001b[0m \u001b[0m_DatasetKind\u001b[0m\u001b[0;34m.\u001b[0m\u001b[0mIterable\u001b[0m \u001b[0;32mand\u001b[0m\u001b[0;31m \u001b[0m\u001b[0;31m\\\u001b[0m\u001b[0;34m\u001b[0m\u001b[0;34m\u001b[0m\u001b[0m\n",
      "\u001b[0;32m/scratch/ruolinzheng/conda/envs/py38/lib/python3.8/site-packages/torch/utils/data/dataloader.py\u001b[0m in \u001b[0;36m_next_data\u001b[0;34m(self)\u001b[0m\n\u001b[1;32m    401\u001b[0m     \u001b[0;32mdef\u001b[0m \u001b[0m_next_data\u001b[0m\u001b[0;34m(\u001b[0m\u001b[0mself\u001b[0m\u001b[0;34m)\u001b[0m\u001b[0;34m:\u001b[0m\u001b[0;34m\u001b[0m\u001b[0;34m\u001b[0m\u001b[0m\n\u001b[1;32m    402\u001b[0m         \u001b[0mindex\u001b[0m \u001b[0;34m=\u001b[0m \u001b[0mself\u001b[0m\u001b[0;34m.\u001b[0m\u001b[0m_next_index\u001b[0m\u001b[0;34m(\u001b[0m\u001b[0;34m)\u001b[0m  \u001b[0;31m# may raise StopIteration\u001b[0m\u001b[0;34m\u001b[0m\u001b[0;34m\u001b[0m\u001b[0m\n\u001b[0;32m--> 403\u001b[0;31m         \u001b[0mdata\u001b[0m \u001b[0;34m=\u001b[0m \u001b[0mself\u001b[0m\u001b[0;34m.\u001b[0m\u001b[0m_dataset_fetcher\u001b[0m\u001b[0;34m.\u001b[0m\u001b[0mfetch\u001b[0m\u001b[0;34m(\u001b[0m\u001b[0mindex\u001b[0m\u001b[0;34m)\u001b[0m  \u001b[0;31m# may raise StopIteration\u001b[0m\u001b[0;34m\u001b[0m\u001b[0;34m\u001b[0m\u001b[0m\n\u001b[0m\u001b[1;32m    404\u001b[0m         \u001b[0;32mif\u001b[0m \u001b[0mself\u001b[0m\u001b[0;34m.\u001b[0m\u001b[0m_pin_memory\u001b[0m\u001b[0;34m:\u001b[0m\u001b[0;34m\u001b[0m\u001b[0;34m\u001b[0m\u001b[0m\n\u001b[1;32m    405\u001b[0m             \u001b[0mdata\u001b[0m \u001b[0;34m=\u001b[0m \u001b[0m_utils\u001b[0m\u001b[0;34m.\u001b[0m\u001b[0mpin_memory\u001b[0m\u001b[0;34m.\u001b[0m\u001b[0mpin_memory\u001b[0m\u001b[0;34m(\u001b[0m\u001b[0mdata\u001b[0m\u001b[0;34m)\u001b[0m\u001b[0;34m\u001b[0m\u001b[0;34m\u001b[0m\u001b[0m\n",
      "\u001b[0;32m/scratch/ruolinzheng/conda/envs/py38/lib/python3.8/site-packages/torch/utils/data/_utils/fetch.py\u001b[0m in \u001b[0;36mfetch\u001b[0;34m(self, possibly_batched_index)\u001b[0m\n\u001b[1;32m     45\u001b[0m         \u001b[0;32melse\u001b[0m\u001b[0;34m:\u001b[0m\u001b[0;34m\u001b[0m\u001b[0;34m\u001b[0m\u001b[0m\n\u001b[1;32m     46\u001b[0m             \u001b[0mdata\u001b[0m \u001b[0;34m=\u001b[0m \u001b[0mself\u001b[0m\u001b[0;34m.\u001b[0m\u001b[0mdataset\u001b[0m\u001b[0;34m[\u001b[0m\u001b[0mpossibly_batched_index\u001b[0m\u001b[0;34m]\u001b[0m\u001b[0;34m\u001b[0m\u001b[0;34m\u001b[0m\u001b[0m\n\u001b[0;32m---> 47\u001b[0;31m         \u001b[0;32mreturn\u001b[0m \u001b[0mself\u001b[0m\u001b[0;34m.\u001b[0m\u001b[0mcollate_fn\u001b[0m\u001b[0;34m(\u001b[0m\u001b[0mdata\u001b[0m\u001b[0;34m)\u001b[0m\u001b[0;34m\u001b[0m\u001b[0;34m\u001b[0m\u001b[0m\n\u001b[0m",
      "\u001b[0;32m<ipython-input-43-b0425a74820a>\u001b[0m in \u001b[0;36m__call__\u001b[0;34m(self, batch)\u001b[0m\n\u001b[1;32m    135\u001b[0m     \u001b[0;32mdef\u001b[0m \u001b[0m__call__\u001b[0m\u001b[0;34m(\u001b[0m\u001b[0mself\u001b[0m\u001b[0;34m,\u001b[0m \u001b[0mbatch\u001b[0m\u001b[0;34m)\u001b[0m\u001b[0;34m:\u001b[0m\u001b[0;34m\u001b[0m\u001b[0;34m\u001b[0m\u001b[0m\n\u001b[1;32m    136\u001b[0m         \u001b[0;31m# use long tensor for embedding\u001b[0m\u001b[0;34m\u001b[0m\u001b[0;34m\u001b[0m\u001b[0;34m\u001b[0m\u001b[0m\n\u001b[0;32m--> 137\u001b[0;31m         \u001b[0mlines\u001b[0m \u001b[0;34m=\u001b[0m \u001b[0mtorch\u001b[0m\u001b[0;34m.\u001b[0m\u001b[0mLongTensor\u001b[0m\u001b[0;34m(\u001b[0m\u001b[0;34m[\u001b[0m\u001b[0mitem\u001b[0m\u001b[0;34m[\u001b[0m\u001b[0;36m0\u001b[0m\u001b[0;34m]\u001b[0m \u001b[0;32mfor\u001b[0m \u001b[0mitem\u001b[0m \u001b[0;32min\u001b[0m \u001b[0mbatch\u001b[0m\u001b[0;34m]\u001b[0m\u001b[0;34m)\u001b[0m\u001b[0;34m\u001b[0m\u001b[0;34m\u001b[0m\u001b[0m\n\u001b[0m\u001b[1;32m    138\u001b[0m         \u001b[0mpositives\u001b[0m \u001b[0;34m=\u001b[0m \u001b[0mtorch\u001b[0m\u001b[0;34m.\u001b[0m\u001b[0mLongTensor\u001b[0m\u001b[0;34m(\u001b[0m\u001b[0;34m[\u001b[0m\u001b[0mitem\u001b[0m\u001b[0;34m[\u001b[0m\u001b[0;36m1\u001b[0m\u001b[0;34m]\u001b[0m \u001b[0;32mfor\u001b[0m \u001b[0mitem\u001b[0m \u001b[0;32min\u001b[0m \u001b[0mbatch\u001b[0m\u001b[0;34m]\u001b[0m\u001b[0;34m)\u001b[0m\u001b[0;34m\u001b[0m\u001b[0;34m\u001b[0m\u001b[0m\n\u001b[1;32m    139\u001b[0m         \u001b[0mnegatives\u001b[0m \u001b[0;34m=\u001b[0m \u001b[0mtorch\u001b[0m\u001b[0;34m.\u001b[0m\u001b[0mLongTensor\u001b[0m\u001b[0;34m(\u001b[0m\u001b[0;34m[\u001b[0m\u001b[0mitem\u001b[0m\u001b[0;34m[\u001b[0m\u001b[0;36m2\u001b[0m\u001b[0;34m]\u001b[0m \u001b[0;32mfor\u001b[0m \u001b[0mitem\u001b[0m \u001b[0;32min\u001b[0m \u001b[0mbatch\u001b[0m\u001b[0;34m]\u001b[0m\u001b[0;34m)\u001b[0m\u001b[0;34m\u001b[0m\u001b[0;34m\u001b[0m\u001b[0m\n",
      "\u001b[0;31mValueError\u001b[0m: expected sequence of length 11 at dim 1 (got 14)"
     ]
    }
   ],
   "source": [
    "for x, y, z in loader:\n",
    "    print(x.shape, y.shape, z.shape)\n",
    "    break"
   ]
  },
  {
   "cell_type": "code",
   "execution_count": null,
   "metadata": {},
   "outputs": [],
   "source": []
  }
 ],
 "metadata": {
  "kernelspec": {
   "display_name": "py38",
   "language": "python",
   "name": "py38"
  },
  "language_info": {
   "codemirror_mode": {
    "name": "ipython",
    "version": 3
   },
   "file_extension": ".py",
   "mimetype": "text/x-python",
   "name": "python",
   "nbconvert_exporter": "python",
   "pygments_lexer": "ipython3",
   "version": "3.8.3"
  }
 },
 "nbformat": 4,
 "nbformat_minor": 4
}
