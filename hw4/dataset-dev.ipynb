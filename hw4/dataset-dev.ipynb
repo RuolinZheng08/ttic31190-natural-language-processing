{
 "cells": [
  {
   "cell_type": "code",
   "execution_count": 122,
   "metadata": {},
   "outputs": [],
   "source": [
    "# %load dataset.py\n",
    "# Reference: https://github.com/aladdinpersson/Machine-Learning-Collection/blob/master/ML/Pytorch/Basics/custom_dataset_txt/loader_customtext.py\n",
    "\n",
    "import re\n",
    "import numpy as np\n",
    "from collections import defaultdict\n",
    "\n",
    "import torch\n",
    "from torch.utils.data import DataLoader, Dataset\n",
    "\n",
    "class Vocabulary:\n",
    "    def __init__(self, freq_threshold):\n",
    "        self.freq_threshold = freq_threshold\n",
    "        self.idx_to_str = ['<PAD>', '<s>', '</s>', '<UNK>']\n",
    "        self.str_to_idx = {s: idx for idx, s in enumerate(self.idx_to_str)}\n",
    "        self.start_idx = len(self.idx_to_str) # length at which real tokens starts\n",
    "\n",
    "    def __len__(self):\n",
    "        return len(self.idx_to_str)\n",
    "\n",
    "    @staticmethod\n",
    "    def tokenize(line):\n",
    "        # TODO: try better tokenizers\n",
    "        return re.findall(r'\\w+', line.lower())\n",
    "\n",
    "    def build_vocab(self, lines):\n",
    "        # TODO: use GloVe\n",
    "        frequencies = defaultdict(int)\n",
    "        curr_idx = self.start_idx\n",
    "        for line in lines:\n",
    "            tokens = self.tokenize(line)\n",
    "            for token in tokens:\n",
    "                frequencies[token] += 1\n",
    "                if frequencies[token] == self.freq_threshold:\n",
    "                    self.idx_to_str.append(token)\n",
    "                    self.str_to_idx[token] = curr_idx\n",
    "                    curr_idx += 1\n",
    "\n",
    "    def numericalize(self, line):\n",
    "        \"\"\"\n",
    "        Call this only after the vocab has been built\n",
    "        \"\"\"\n",
    "        tokens = self.tokenize(line)\n",
    "        ret = [self.str_to_idx['<s>']]\n",
    "        for token in tokens:\n",
    "            if token in self.str_to_idx:\n",
    "                ret.append(self.str_to_idx[token])\n",
    "            else:\n",
    "                ret.append(self.str_to_idx['<UNK>'])\n",
    "        ret.append(self.str_to_idx['</s>'])\n",
    "        return ret\n",
    "\n",
    "    def denumericalize(self, token_indices):\n",
    "        \"\"\"\n",
    "        Invert numericalize, returns a string\n",
    "        \"\"\"\n",
    "        # remove start and end token\n",
    "        ret = []\n",
    "        for idx in token_indices[1 : -1]:\n",
    "            token = self.idx_to_str[idx]\n",
    "            # break early when hitting <PAD> token\n",
    "            if token == '<PAD>':\n",
    "                break\n",
    "            else:\n",
    "                ret.append(token)\n",
    "        return ' '.join(ret)\n",
    "\n",
    "class TrainDataset(Dataset):\n",
    "    def __init__(self, filename, freq_threshold=5, num_transforms=3):\n",
    "        \"\"\"\n",
    "        num_transforms: number of transforms to apply to the line to generate a negative sample\n",
    "        \"\"\"\n",
    "        self.num_transforms = num_transforms\n",
    "        self.first_column_lines = [] # lines in the first column\n",
    "        self.second_column_lines = []\n",
    "        with open(filename, 'rt') as f:\n",
    "            for line in f:\n",
    "                # do minimal amount of preprocessing here, lowercasing is done in vocab\n",
    "                first, second = line.split('\\t')\n",
    "                self.first_column_lines.append(first)\n",
    "                self.second_column_lines.append(second)\n",
    "\n",
    "        self.vocab = Vocabulary(freq_threshold)\n",
    "        self.vocab.build_vocab(self.first_column_lines + self.second_column_lines)\n",
    "\n",
    "    def __len__(self):\n",
    "        return len(self.first_column_lines)\n",
    "\n",
    "    def generate_negative_example(self, numericalized_line):\n",
    "        # randomly substitute in words after vocab.start_idx\n",
    "        # TODO: insertion, deletion, permutation\n",
    "        ret = numericalized_line.copy()\n",
    "        # position in line to perturb\n",
    "        token_indices = np.random.choice(range(len(numericalized_line)),\n",
    "        self.num_transforms, replace=False)\n",
    "        vocab_indices = np.random.choice(range(self.vocab.start_idx,\n",
    "        len(self.vocab)), self.num_transforms)\n",
    "        for tok_idx, vocab_idx in zip(token_indices, vocab_indices):\n",
    "            ret[tok_idx] = vocab_idx\n",
    "        return ret\n",
    "\n",
    "    def __getitem__(self, index):\n",
    "        \"\"\"\n",
    "        Return a triplet of numericalized lines\n",
    "        original, positive, and negative example\n",
    "        (line, paraphrased line, non-paraphrasal line)\n",
    "        \"\"\"\n",
    "        line = self.first_column_lines[index]\n",
    "        positive_line = self.second_column_lines[index]\n",
    "        # convert tokens to indices\n",
    "        numericalized_line = self.vocab.numericalize(line)\n",
    "        numericalized_positive = self.vocab.numericalize(positive_line)\n",
    "        # generate a negative numericalized example\n",
    "        numericalized_negattive = self.generate_negative_example(numericalized_line)\n",
    "\n",
    "        return numericalized_line, numericalized_positive, numericalized_negattive\n"
   ]
  },
  {
   "cell_type": "code",
   "execution_count": 123,
   "metadata": {},
   "outputs": [],
   "source": [
    "train = TrainDataset('data/train.tsv')"
   ]
  },
  {
   "cell_type": "code",
   "execution_count": 105,
   "metadata": {},
   "outputs": [
    {
     "data": {
      "text/plain": [
       "([1,\n",
       "  49,\n",
       "  37,\n",
       "  5,\n",
       "  18,\n",
       "  12,\n",
       "  4,\n",
       "  50,\n",
       "  10,\n",
       "  10,\n",
       "  10,\n",
       "  6,\n",
       "  12,\n",
       "  4,\n",
       "  14,\n",
       "  6,\n",
       "  21,\n",
       "  5,\n",
       "  4,\n",
       "  14,\n",
       "  8,\n",
       "  18,\n",
       "  4,\n",
       "  7,\n",
       "  13,\n",
       "  8,\n",
       "  6,\n",
       "  9,\n",
       "  4,\n",
       "  4,\n",
       "  5,\n",
       "  21,\n",
       "  8,\n",
       "  4,\n",
       "  7,\n",
       "  6,\n",
       "  27,\n",
       "  11,\n",
       "  5,\n",
       "  5,\n",
       "  14,\n",
       "  10,\n",
       "  2],\n",
       " [1,\n",
       "  10,\n",
       "  10,\n",
       "  6,\n",
       "  12,\n",
       "  4,\n",
       "  14,\n",
       "  6,\n",
       "  21,\n",
       "  5,\n",
       "  4,\n",
       "  14,\n",
       "  8,\n",
       "  18,\n",
       "  4,\n",
       "  6,\n",
       "  7,\n",
       "  13,\n",
       "  8,\n",
       "  6,\n",
       "  9,\n",
       "  4,\n",
       "  4,\n",
       "  5,\n",
       "  21,\n",
       "  8,\n",
       "  4,\n",
       "  7,\n",
       "  6,\n",
       "  27,\n",
       "  11,\n",
       "  5,\n",
       "  5,\n",
       "  14,\n",
       "  10,\n",
       "  499,\n",
       "  2],\n",
       " [1,\n",
       "  49,\n",
       "  226,\n",
       "  5,\n",
       "  18,\n",
       "  12,\n",
       "  73,\n",
       "  50,\n",
       "  10,\n",
       "  10,\n",
       "  10,\n",
       "  6,\n",
       "  12,\n",
       "  4,\n",
       "  14,\n",
       "  6,\n",
       "  21,\n",
       "  5,\n",
       "  4,\n",
       "  14,\n",
       "  8,\n",
       "  18,\n",
       "  4,\n",
       "  7,\n",
       "  13,\n",
       "  8,\n",
       "  6,\n",
       "  9,\n",
       "  4,\n",
       "  4,\n",
       "  5,\n",
       "  21,\n",
       "  8,\n",
       "  4,\n",
       "  7,\n",
       "  6,\n",
       "  432,\n",
       "  11,\n",
       "  5,\n",
       "  5,\n",
       "  14,\n",
       "  10,\n",
       "  2])"
      ]
     },
     "execution_count": 105,
     "metadata": {},
     "output_type": "execute_result"
    }
   ],
   "source": [
    "train[0]"
   ]
  },
  {
   "cell_type": "code",
   "execution_count": 124,
   "metadata": {},
   "outputs": [],
   "source": [
    "a, b, c = train[0]"
   ]
  },
  {
   "cell_type": "code",
   "execution_count": null,
   "metadata": {},
   "outputs": [],
   "source": [
    "a, b, c = train[0]"
   ]
  },
  {
   "cell_type": "code",
   "execution_count": 125,
   "metadata": {},
   "outputs": [
    {
     "data": {
      "text/plain": [
       "'woman and <UNK> innocent blood'"
      ]
     },
     "execution_count": 125,
     "metadata": {},
     "output_type": "execute_result"
    }
   ],
   "source": [
    "train.vocab.denumericalize(a)"
   ]
  },
  {
   "cell_type": "code",
   "execution_count": 126,
   "metadata": {},
   "outputs": [
    {
     "data": {
      "text/plain": [
       "'and condemn the innocent blood'"
      ]
     },
     "execution_count": 126,
     "metadata": {},
     "output_type": "execute_result"
    }
   ],
   "source": [
    "train.vocab.denumericalize(b)"
   ]
  },
  {
   "cell_type": "code",
   "execution_count": 127,
   "metadata": {},
   "outputs": [
    {
     "data": {
      "text/plain": [
       "'woman and komarran crank weightless'"
      ]
     },
     "execution_count": 127,
     "metadata": {},
     "output_type": "execute_result"
    }
   ],
   "source": [
    "train.vocab.denumericalize(c)"
   ]
  },
  {
   "cell_type": "code",
   "execution_count": 128,
   "metadata": {},
   "outputs": [
    {
     "data": {
      "text/plain": [
       "['<PAD>', '<s>', '</s>', '<UNK>', 'you', 'i', 'the', 'this', 'but', 'a']"
      ]
     },
     "execution_count": 128,
     "metadata": {},
     "output_type": "execute_result"
    }
   ],
   "source": [
    "train.vocab.idx_to_str[:10]"
   ]
  },
  {
   "cell_type": "code",
   "execution_count": 129,
   "metadata": {},
   "outputs": [
    {
     "data": {
      "text/plain": [
       "['(Woman)... and condemnthe innocent blood.',\n",
       " 'I\\'m getting alittle tired of this \"no\" thing.',\n",
       " '\"But that\\'ll take all our winter stocks.',\n",
       " 'Whoosh and all that.',\n",
       " 'You can be at ease too.',\n",
       " \"Soundlessly, Eleanor slipped around the table to Rita O'Neill.\",\n",
       " 'Nels stowed some of the paraphernalia away, making room in the rear seat.',\n",
       " 'Say I do this.',\n",
       " 'Now get outof this room right now.',\n",
       " \"I mean, if you're dancing for real, it comes from the most truthful part of your soul.\"]"
      ]
     },
     "execution_count": 129,
     "metadata": {},
     "output_type": "execute_result"
    }
   ],
   "source": [
    "train.first_column_lines[:10]"
   ]
  },
  {
   "cell_type": "code",
   "execution_count": 132,
   "metadata": {},
   "outputs": [
    {
     "data": {
      "text/plain": [
       "['woman', 'and', 'condemnthe', 'innocent', 'blood']"
      ]
     },
     "execution_count": 132,
     "metadata": {},
     "output_type": "execute_result"
    }
   ],
   "source": [
    "train.vocab.tokenize(train.first_column_lines[0])"
   ]
  },
  {
   "cell_type": "code",
   "execution_count": null,
   "metadata": {},
   "outputs": [],
   "source": []
  }
 ],
 "metadata": {
  "kernelspec": {
   "display_name": "py38",
   "language": "python",
   "name": "py38"
  },
  "language_info": {
   "codemirror_mode": {
    "name": "ipython",
    "version": 3
   },
   "file_extension": ".py",
   "mimetype": "text/x-python",
   "name": "python",
   "nbconvert_exporter": "python",
   "pygments_lexer": "ipython3",
   "version": "3.8.3"
  }
 },
 "nbformat": 4,
 "nbformat_minor": 4
}
