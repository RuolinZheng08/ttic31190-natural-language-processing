{
 "cells": [
  {
   "cell_type": "code",
   "execution_count": 24,
   "metadata": {},
   "outputs": [],
   "source": [
    "# %load dataset.py\n",
    "# Reference: https://github.com/aladdinpersson/Machine-Learning-Collection/blob/master/ML/Pytorch/Basics/custom_dataset_txt/loader_customtext.py\n",
    "\n",
    "import numpy as np\n",
    "from collections import defaultdict\n",
    "import torch\n",
    "from torch.utils.data import DataLoader, Dataset\n",
    "\n",
    "class Vocabulary:\n",
    "    def __init__(self, freq_threshold):\n",
    "        self.freq_threshold = freq_threshold\n",
    "        self.idx_to_str = ['<PAD>', '<s>', '</s>', '<UNK>']\n",
    "        self.str_to_idx = {s: idx for idx, s in enumerate(self.idx_to_str)}\n",
    "        self.start_idx = len(self.idx_to_str) # length at which real tokens starts\n",
    "\n",
    "    def __len__(self):\n",
    "        return len(self.idx_to_str)\n",
    "\n",
    "    @staticmethod\n",
    "    def tokenize(line):\n",
    "        # TODO: use spacy's tokenizer\n",
    "        return line.lower().split()\n",
    "\n",
    "    def build_vocab(self, lines):\n",
    "        frequencies = defaultdict(int)\n",
    "        curr_idx = self.start_idx\n",
    "        for line in lines:\n",
    "            tokens = self.tokenize(line)\n",
    "            for token in tokens:\n",
    "                frequencies[token] += 1\n",
    "            if frequencies[token] == self.freq_threshold:\n",
    "                self.idx_to_str.append(token)\n",
    "                self.str_to_idx[token] = curr_idx\n",
    "                curr_idx += 1\n",
    "\n",
    "    def numericalize(self, line):\n",
    "        \"\"\"\n",
    "        Call this only after the vocab has been built\n",
    "        \"\"\"\n",
    "        tokens = self.tokenize(line)\n",
    "        ret = [self.str_to_idx['<s>']]\n",
    "        for token in tokens:\n",
    "            if token in self.str_to_idx:\n",
    "                ret.append(self.str_to_idx[token])\n",
    "            else:\n",
    "                ret.append(self.str_to_idx['<UNK>'])\n",
    "        ret.append(self.str_to_idx['</s>'])\n",
    "        return ret\n",
    "\n",
    "    def denumericalize(self, token_indices):\n",
    "        \"\"\"\n",
    "        Invert numericalize, returns a string\n",
    "        \"\"\"\n",
    "        # remove start and end token\n",
    "        ret = []\n",
    "        for idx in token_indices[1 : -1]:\n",
    "            token = self.idx_to_str[idx]\n",
    "            # break early when hitting <PAD> token\n",
    "            if token == '<PAD>':\n",
    "                break\n",
    "            else:\n",
    "                ret.append(token)\n",
    "        return ' '.join(ret)\n",
    "\n",
    "class TrainDataset(Dataset):\n",
    "    def __init__(self, filename, freq_threshold=5, num_transforms=3):\n",
    "        \"\"\"\n",
    "        num_transforms: number of transforms to apply to the line to generate a negative sample\n",
    "        \"\"\"\n",
    "        self.num_transforms = num_transforms\n",
    "        self.first_column_lines = [] # lines in the first column\n",
    "        self.second_column_lines = []\n",
    "        with open(filename, 'rt') as f:\n",
    "            for line in f:\n",
    "                # do minimal amount of preprocessing here, lowercasing is done in vocab\n",
    "                first, second = line.split('\\t')\n",
    "                self.first_column_lines.append(first)\n",
    "                self.second_column_lines.append(second)\n",
    "\n",
    "        self.vocab = Vocabulary(freq_threshold)\n",
    "        self.vocab.build_vocab(self.first_column_lines + self.second_column_lines)\n",
    "\n",
    "    def __len__(self):\n",
    "        return len(self.first_column_lines)\n",
    "\n",
    "    def generate_negative_example(self, numericalized_line):\n",
    "        # randomly substitute in words after vocab.start_idx\n",
    "        # TODO: insertion, deletion, permutation\n",
    "        ret = numericalized_line.copy()\n",
    "        # position in line to perturb\n",
    "        token_indices = np.random.choice(range(len(numericalized_line)),\n",
    "        self.num_transforms, replace=False)\n",
    "        vocab_indices = np.random.choice(range(self.vocab.start_idx,\n",
    "        len(self.vocab)), self.num_transforms)\n",
    "        for tok_idx, vocab_idx in zip(token_indices, vocab_indices):\n",
    "            ret[tok_idx] = vocab_idx\n",
    "        return ret\n",
    "\n",
    "    def __getitem__(self, index):\n",
    "        \"\"\"\n",
    "        Return a triplet of numericalized lines\n",
    "        original, positive, and negative example\n",
    "        (line, paraphrased line, non-paraphrasal line)\n",
    "        \"\"\"\n",
    "        line = self.first_column_lines[index]\n",
    "        positive_line = self.second_column_lines[index]\n",
    "        # convert tokens to indices\n",
    "        numericalized_line = self.vocab.numericalize(line)\n",
    "        numericalized_positive = self.vocab.numericalize(positive_line)\n",
    "        # generate a negative numericalized example\n",
    "        numericalized_negattive = self.generate_negative_example(numericalized_line)\n",
    "\n",
    "        return numericalized_line, numericalized_positive, numericalized_negattive\n"
   ]
  },
  {
   "cell_type": "code",
   "execution_count": 25,
   "metadata": {},
   "outputs": [],
   "source": [
    "train = TrainDataset('data/train.tsv')"
   ]
  },
  {
   "cell_type": "code",
   "execution_count": 26,
   "metadata": {},
   "outputs": [
    {
     "data": {
      "text/plain": [
       "([1, 3, 3, 3, 3, 371, 2],\n",
       " [1, 3, 3, 3, 3, 3, 371, 2],\n",
       " [4373, 3, 3, 3, 13770, 371, 5157])"
      ]
     },
     "execution_count": 26,
     "metadata": {},
     "output_type": "execute_result"
    }
   ],
   "source": [
    "train[0]"
   ]
  },
  {
   "cell_type": "code",
   "execution_count": 27,
   "metadata": {},
   "outputs": [],
   "source": [
    "a, b, c = train[100]"
   ]
  },
  {
   "cell_type": "code",
   "execution_count": 28,
   "metadata": {},
   "outputs": [
    {
     "data": {
      "text/plain": [
       "'<UNK> <UNK> <UNK> <UNK> <UNK> <UNK> <UNK> <UNK> <UNK> partner.'"
      ]
     },
     "execution_count": 28,
     "metadata": {},
     "output_type": "execute_result"
    }
   ],
   "source": [
    "train.vocab.denumericalize(a)"
   ]
  },
  {
   "cell_type": "code",
   "execution_count": 29,
   "metadata": {},
   "outputs": [
    {
     "data": {
      "text/plain": [
       "'<UNK> <UNK> <UNK> <UNK> <UNK> <UNK> <UNK> address.'"
      ]
     },
     "execution_count": 29,
     "metadata": {},
     "output_type": "execute_result"
    }
   ],
   "source": [
    "train.vocab.denumericalize(b)"
   ]
  },
  {
   "cell_type": "code",
   "execution_count": 30,
   "metadata": {},
   "outputs": [
    {
     "data": {
      "text/plain": [
       "'buddy.\" purpose? <UNK> <UNK> <UNK> <UNK> <UNK> <UNK> <UNK> partner.'"
      ]
     },
     "execution_count": 30,
     "metadata": {},
     "output_type": "execute_result"
    }
   ],
   "source": [
    "train.vocab.denumericalize(c)"
   ]
  },
  {
   "cell_type": "code",
   "execution_count": 31,
   "metadata": {},
   "outputs": [
    {
     "data": {
      "text/plain": [
       "['<PAD>',\n",
       " '<s>',\n",
       " '</s>',\n",
       " '<UNK>',\n",
       " 'it.',\n",
       " 'me.',\n",
       " 'you.',\n",
       " 'him.',\n",
       " 'that.',\n",
       " 'now.']"
      ]
     },
     "execution_count": 31,
     "metadata": {},
     "output_type": "execute_result"
    }
   ],
   "source": [
    "train.vocab.idx_to_str[:10]"
   ]
  },
  {
   "cell_type": "code",
   "execution_count": null,
   "metadata": {},
   "outputs": [],
   "source": []
  }
 ],
 "metadata": {
  "kernelspec": {
   "display_name": "py38",
   "language": "python",
   "name": "py38"
  },
  "language_info": {
   "codemirror_mode": {
    "name": "ipython",
    "version": 3
   },
   "file_extension": ".py",
   "mimetype": "text/x-python",
   "name": "python",
   "nbconvert_exporter": "python",
   "pygments_lexer": "ipython3",
   "version": "3.8.3"
  }
 },
 "nbformat": 4,
 "nbformat_minor": 4
}
