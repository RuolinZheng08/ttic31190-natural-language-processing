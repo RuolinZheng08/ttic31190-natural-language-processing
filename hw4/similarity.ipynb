{
 "cells": [
  {
   "cell_type": "markdown",
   "metadata": {},
   "source": [
    "# Tune a combination of word similar features on Dev\n",
    "number of overlapping unigrams, edit distance"
   ]
  },
  {
   "cell_type": "code",
   "execution_count": 55,
   "metadata": {},
   "outputs": [],
   "source": [
    "import editdistance\n",
    "import numpy as np\n",
    "import pandas as pd\n",
    "\n",
    "from nltk.tokenize import word_tokenize\n",
    "from joblib import dump, load\n",
    "from sklearn.neural_network import MLPClassifier\n",
    "from sklearn.metrics import confusion_matrix, accuracy_score"
   ]
  },
  {
   "cell_type": "code",
   "execution_count": 71,
   "metadata": {},
   "outputs": [],
   "source": [
    "def load_dev_devtest(path):\n",
    "    \"\"\"\n",
    "    calls word_tokenize\n",
    "    returns first_lines, second_lines, labels\n",
    "    \"\"\"\n",
    "    first_lines = []\n",
    "    second_lines = []\n",
    "    labels = []\n",
    "    with open(path, 'rt') as f:\n",
    "        for line in f:\n",
    "            chunks = line.strip().split('\\t')\n",
    "            first = word_tokenize(chunks[0])\n",
    "            second = word_tokenize(chunks[1])\n",
    "            label = int(chunks[2])\n",
    "            first_lines.append(first)\n",
    "            second_lines.append(second)\n",
    "            labels.append(label)\n",
    "    return first_lines, second_lines, labels\n",
    "\n",
    "def load_test(path):\n",
    "    \"\"\"\n",
    "    skip id column, calls word_tokenize\n",
    "    \"\"\"\n",
    "    first_lines, second_lines = [], []\n",
    "    with open(path, 'rt') as f:\n",
    "        for line in f:\n",
    "            chunks = line.strip().split('\\t')\n",
    "            first = word_tokenize(chunks[1])\n",
    "            second = word_tokenize(chunks[2])\n",
    "            first_lines.append(first)\n",
    "            second_lines.append(second)\n",
    "    return first_lines, second_lines\n",
    "\n",
    "def load_test_hard(path):\n",
    "    \"\"\"\n",
    "    skip id column, calls word_tokenize\n",
    "    \"\"\"\n",
    "    first_lines, second_lines = [], []\n",
    "    with open(path, 'rt') as f:\n",
    "        for line in f:\n",
    "            chunks = line.strip().split('\\t')\n",
    "            first = word_tokenize(chunks[0])\n",
    "            second = word_tokenize(chunks[1])\n",
    "            first_lines.append(first)\n",
    "            second_lines.append(second)\n",
    "    return first_lines, second_lines"
   ]
  },
  {
   "cell_type": "code",
   "execution_count": 31,
   "metadata": {},
   "outputs": [],
   "source": [
    "def construct_features(first_lines, second_lines):\n",
    "    # number of overlapping unigrams, edit distance\n",
    "    features = np.empty((len(first_lines), 2))\n",
    "    for idx, tup in enumerate(zip(first_lines, second_lines)):\n",
    "        first, second = tup\n",
    "        num_unigrams = len(set(first).intersection(second))\n",
    "        edit_dist = editdistance.eval(first, second)\n",
    "        features[idx, 0] = num_unigrams\n",
    "        features[idx, 1] = edit_dist\n",
    "    return features"
   ]
  },
  {
   "cell_type": "code",
   "execution_count": 5,
   "metadata": {},
   "outputs": [],
   "source": [
    "dev = load_dev_devtest('data/dev+devtest/dev.tsv')"
   ]
  },
  {
   "cell_type": "code",
   "execution_count": 9,
   "metadata": {},
   "outputs": [
    {
     "data": {
      "text/plain": [
       "(['I', 'do', \"n't\", 'know', 'what', 'you', \"'re\", 'sayin', \"'\", '.'],\n",
       " ['I', 'do', \"n't\", 'know', 'what', 'you', \"'re\", 'talking', 'about', '.'])"
      ]
     },
     "execution_count": 9,
     "metadata": {},
     "output_type": "execute_result"
    }
   ],
   "source": [
    "dev[0][0], dev[1][0]"
   ]
  },
  {
   "cell_type": "code",
   "execution_count": 11,
   "metadata": {},
   "outputs": [
    {
     "data": {
      "text/plain": [
       "2"
      ]
     },
     "execution_count": 11,
     "metadata": {},
     "output_type": "execute_result"
    }
   ],
   "source": [
    "editdistance.eval(dev[0][0], dev[1][0])"
   ]
  },
  {
   "cell_type": "code",
   "execution_count": 14,
   "metadata": {},
   "outputs": [
    {
     "data": {
      "text/plain": [
       "{\"'re\", '.', 'I', 'do', 'know', \"n't\", 'what', 'you'}"
      ]
     },
     "execution_count": 14,
     "metadata": {},
     "output_type": "execute_result"
    }
   ],
   "source": [
    "set(dev[0][0]).intersection(set(dev[1][0]))"
   ]
  },
  {
   "cell_type": "code",
   "execution_count": 12,
   "metadata": {},
   "outputs": [
    {
     "data": {
      "text/plain": [
       "8"
      ]
     },
     "execution_count": 12,
     "metadata": {},
     "output_type": "execute_result"
    }
   ],
   "source": [
    "# count number of overlapping unigrams\n",
    "len(set(dev[0][0]).intersection(set(dev[1][0])))"
   ]
  },
  {
   "cell_type": "markdown",
   "metadata": {},
   "source": [
    "# MLP"
   ]
  },
  {
   "cell_type": "code",
   "execution_count": 32,
   "metadata": {},
   "outputs": [],
   "source": [
    "X = construct_features(dev[0], dev[1])\n",
    "y = dev[2]"
   ]
  },
  {
   "cell_type": "code",
   "execution_count": 39,
   "metadata": {
    "scrolled": false
   },
   "outputs": [
    {
     "data": {
      "text/plain": [
       "MLPClassifier(max_iter=1000)"
      ]
     },
     "execution_count": 39,
     "metadata": {},
     "output_type": "execute_result"
    }
   ],
   "source": [
    "model = MLPClassifier(max_iter=1000)\n",
    "model.fit(X, y)"
   ]
  },
  {
   "cell_type": "code",
   "execution_count": 40,
   "metadata": {},
   "outputs": [
    {
     "data": {
      "text/plain": [
       "0.8202933985330073"
      ]
     },
     "execution_count": 40,
     "metadata": {},
     "output_type": "execute_result"
    }
   ],
   "source": [
    "y_preds = model.predict(X)\n",
    "accuracy_score(y, y_preds)"
   ]
  },
  {
   "cell_type": "code",
   "execution_count": 41,
   "metadata": {},
   "outputs": [],
   "source": [
    "devtest = load_dev_devtest('data/dev+devtest/devtest.tsv')"
   ]
  },
  {
   "cell_type": "code",
   "execution_count": 42,
   "metadata": {},
   "outputs": [],
   "source": [
    "X_devtest = construct_features(devtest[0], devtest[1])\n",
    "y_devtest = devtest[2]"
   ]
  },
  {
   "cell_type": "code",
   "execution_count": 43,
   "metadata": {},
   "outputs": [],
   "source": [
    "y_preds = model.predict(X_devtest)"
   ]
  },
  {
   "cell_type": "code",
   "execution_count": 44,
   "metadata": {},
   "outputs": [
    {
     "data": {
      "text/plain": [
       "0.8"
      ]
     },
     "execution_count": 44,
     "metadata": {},
     "output_type": "execute_result"
    }
   ],
   "source": [
    "accuracy_score(y_preds, y_devtest)"
   ]
  },
  {
   "cell_type": "code",
   "execution_count": 52,
   "metadata": {},
   "outputs": [
    {
     "data": {
      "text/plain": [
       "['output/mlp.joblib']"
      ]
     },
     "execution_count": 52,
     "metadata": {},
     "output_type": "execute_result"
    }
   ],
   "source": [
    "# dump(model, 'output/mlp.joblib') "
   ]
  },
  {
   "cell_type": "code",
   "execution_count": 45,
   "metadata": {},
   "outputs": [],
   "source": [
    "test = load_test('data/test_no_labels.tsv')"
   ]
  },
  {
   "cell_type": "code",
   "execution_count": 48,
   "metadata": {},
   "outputs": [
    {
     "data": {
      "text/plain": [
       "(['I', 'love', 'everybody', '.'],\n",
       " ['I', 'love', 'you', 'and', 'I', 'love', 'you', '.'])"
      ]
     },
     "execution_count": 48,
     "metadata": {},
     "output_type": "execute_result"
    }
   ],
   "source": [
    "test[0][0], test[1][0]"
   ]
  },
  {
   "cell_type": "code",
   "execution_count": 49,
   "metadata": {},
   "outputs": [],
   "source": [
    "X_test = construct_features(test[0], test[1])"
   ]
  },
  {
   "cell_type": "code",
   "execution_count": 53,
   "metadata": {},
   "outputs": [],
   "source": [
    "y_preds = model.predict(X_test)"
   ]
  },
  {
   "cell_type": "code",
   "execution_count": 60,
   "metadata": {},
   "outputs": [],
   "source": [
    "submission = pd.DataFrame({\n",
    "    'id': range(len(y_preds)),\n",
    "    'Category': y_preds\n",
    "})"
   ]
  },
  {
   "cell_type": "code",
   "execution_count": 61,
   "metadata": {},
   "outputs": [
    {
     "data": {
      "text/html": [
       "<div>\n",
       "<style scoped>\n",
       "    .dataframe tbody tr th:only-of-type {\n",
       "        vertical-align: middle;\n",
       "    }\n",
       "\n",
       "    .dataframe tbody tr th {\n",
       "        vertical-align: top;\n",
       "    }\n",
       "\n",
       "    .dataframe thead th {\n",
       "        text-align: right;\n",
       "    }\n",
       "</style>\n",
       "<table border=\"1\" class=\"dataframe\">\n",
       "  <thead>\n",
       "    <tr style=\"text-align: right;\">\n",
       "      <th></th>\n",
       "      <th>id</th>\n",
       "      <th>Category</th>\n",
       "    </tr>\n",
       "  </thead>\n",
       "  <tbody>\n",
       "    <tr>\n",
       "      <th>0</th>\n",
       "      <td>0</td>\n",
       "      <td>0</td>\n",
       "    </tr>\n",
       "    <tr>\n",
       "      <th>1</th>\n",
       "      <td>1</td>\n",
       "      <td>1</td>\n",
       "    </tr>\n",
       "    <tr>\n",
       "      <th>2</th>\n",
       "      <td>2</td>\n",
       "      <td>0</td>\n",
       "    </tr>\n",
       "    <tr>\n",
       "      <th>3</th>\n",
       "      <td>3</td>\n",
       "      <td>0</td>\n",
       "    </tr>\n",
       "    <tr>\n",
       "      <th>4</th>\n",
       "      <td>4</td>\n",
       "      <td>1</td>\n",
       "    </tr>\n",
       "  </tbody>\n",
       "</table>\n",
       "</div>"
      ],
      "text/plain": [
       "   id  Category\n",
       "0   0         0\n",
       "1   1         1\n",
       "2   2         0\n",
       "3   3         0\n",
       "4   4         1"
      ]
     },
     "execution_count": 61,
     "metadata": {},
     "output_type": "execute_result"
    }
   ],
   "source": [
    "submission.head()"
   ]
  },
  {
   "cell_type": "code",
   "execution_count": 62,
   "metadata": {},
   "outputs": [],
   "source": [
    "# submission.to_csv('output/submission.csv', index=False)"
   ]
  },
  {
   "cell_type": "code",
   "execution_count": 63,
   "metadata": {},
   "outputs": [],
   "source": [
    "devhard = load_dev_devtest('data/heldout-hard/dev.hard.tsv')"
   ]
  },
  {
   "cell_type": "code",
   "execution_count": 65,
   "metadata": {},
   "outputs": [
    {
     "data": {
      "text/plain": [
       "0.671"
      ]
     },
     "execution_count": 65,
     "metadata": {},
     "output_type": "execute_result"
    }
   ],
   "source": [
    "X = construct_features(devhard[0], devhard[1])\n",
    "y = devhard[2]\n",
    "model = MLPClassifier(max_iter=1000)\n",
    "model.fit(X, y)\n",
    "y_preds = model.predict(X)\n",
    "accuracy_score(y, y_preds)"
   ]
  },
  {
   "cell_type": "code",
   "execution_count": 66,
   "metadata": {},
   "outputs": [
    {
     "data": {
      "text/plain": [
       "0.655"
      ]
     },
     "execution_count": 66,
     "metadata": {},
     "output_type": "execute_result"
    }
   ],
   "source": [
    "devtest = load_dev_devtest('data/heldout-hard/devtest.hard.tsv')\n",
    "X_devtest = construct_features(devtest[0], devtest[1])\n",
    "y_devtest = devtest[2]\n",
    "y_preds = model.predict(X_devtest)\n",
    "accuracy_score(y_preds, y_devtest)"
   ]
  },
  {
   "cell_type": "code",
   "execution_count": 69,
   "metadata": {},
   "outputs": [
    {
     "name": "stdout",
     "output_type": "stream",
     "text": [
      "The film is about Rafael , a Malayalam singer in new film industry .\tThis film is about Rafael , a new singer in the Malayalam film industry .\r\n",
      "Dave Tomar is the pseudonym of Ed Dante , a graduate of Rutgers , now a freelance author in Philadelphia .\tEd Dante is the pseudonym of Dave Tomar , a graduate of Rutgers , who now lives as a freelance writer in Philadelphia .\r\n",
      "A UK tour started in May 1983 , featuring live guitarist Robin George for additional performances .\tIn May 1983 , a UK tour with the additional guitarist Robin George started for live performances .\r\n",
      "Although the Rugby - Union in Slovenia was the main centre for sport in the former Yugoslavia - a lot of rugby was still being played in Croatia .\tAlthough rugby union in Slovenia was the main centre for the sport in the former Yugoslavia , there was still quite a bit of rugby played in Croatia .\r\n",
      "For several generations , the Barons de Longueuil have not lived in Canada , but in Scotland and France , and in the 1970s in Luzon , Philippines .\tThe Barons de Longueuil have not lived in Scotland for several generations , having lived in Canada and France and , in the 1970s , in Luzon , Philippines .\r\n",
      "Grant Connell and Glenn Michibata won the title , defeating Wayne Ferreira and Jim Grabb 6 -- 4 , 6 -- 3 in the final .\tGrant Connell and Glenn Michibata won the title , defeating Wayne Ferreira and Jim Grabb 6 : 4 , 6 : 3 in the finals .\r\n",
      "Li Jing took over when his father died in Li Bian in 943 .\tLi Jing took over when his father Li Bian died in 943 .\r\n",
      "On November 13 , 2016 , Deputy Dennis Wallace was murdered in Fox Grove Park near the City of Hughson by David Machado .\tOn 13 November 2016 , David Machado murdered Dennis Wallace in Fox Grove Park near the city of Hughson .\r\n",
      "He played with the band of Lionel Hampton and in 1946 he recorded with the band Billy Eckstine .\tHe recorded with the band of Billy Eckstine and in 1946 he played with Lionel Hampton .\r\n",
      "22 June 2012 Russian President Vladimir Putin 's decree appointed Titov under the president of Russia to protect the rights of entrepreneurs .\t22 June 2012 decree of the Russian President Titov appointed Vladimir Putin authorized under the President of Russia to protect the rights of entrepreneurs .\r\n"
     ]
    }
   ],
   "source": [
    "!head data/heldout-hard/test.hard.tsv"
   ]
  },
  {
   "cell_type": "code",
   "execution_count": 70,
   "metadata": {},
   "outputs": [],
   "source": [
    "with open('data/heldout-hard/test.hard.tsv', 'rt') as f:\n",
    "    for line in f:\n",
    "        assert(len(line.strip().split('\\t')) == 2)"
   ]
  },
  {
   "cell_type": "code",
   "execution_count": 72,
   "metadata": {},
   "outputs": [],
   "source": [
    "test = load_test_hard('data/heldout-hard/test.hard.tsv')\n",
    "X_test = construct_features(test[0], test[1])\n",
    "y_preds = model.predict(X_test)\n",
    "submission = pd.DataFrame({\n",
    "    'id': range(len(y_preds)),\n",
    "    'Category': y_preds\n",
    "})"
   ]
  },
  {
   "cell_type": "code",
   "execution_count": 73,
   "metadata": {},
   "outputs": [
    {
     "data": {
      "text/html": [
       "<div>\n",
       "<style scoped>\n",
       "    .dataframe tbody tr th:only-of-type {\n",
       "        vertical-align: middle;\n",
       "    }\n",
       "\n",
       "    .dataframe tbody tr th {\n",
       "        vertical-align: top;\n",
       "    }\n",
       "\n",
       "    .dataframe thead th {\n",
       "        text-align: right;\n",
       "    }\n",
       "</style>\n",
       "<table border=\"1\" class=\"dataframe\">\n",
       "  <thead>\n",
       "    <tr style=\"text-align: right;\">\n",
       "      <th></th>\n",
       "      <th>id</th>\n",
       "      <th>Category</th>\n",
       "    </tr>\n",
       "  </thead>\n",
       "  <tbody>\n",
       "    <tr>\n",
       "      <th>0</th>\n",
       "      <td>0</td>\n",
       "      <td>0</td>\n",
       "    </tr>\n",
       "    <tr>\n",
       "      <th>1</th>\n",
       "      <td>1</td>\n",
       "      <td>0</td>\n",
       "    </tr>\n",
       "    <tr>\n",
       "      <th>2</th>\n",
       "      <td>2</td>\n",
       "      <td>0</td>\n",
       "    </tr>\n",
       "    <tr>\n",
       "      <th>3</th>\n",
       "      <td>3</td>\n",
       "      <td>0</td>\n",
       "    </tr>\n",
       "    <tr>\n",
       "      <th>4</th>\n",
       "      <td>4</td>\n",
       "      <td>0</td>\n",
       "    </tr>\n",
       "  </tbody>\n",
       "</table>\n",
       "</div>"
      ],
      "text/plain": [
       "   id  Category\n",
       "0   0         0\n",
       "1   1         0\n",
       "2   2         0\n",
       "3   3         0\n",
       "4   4         0"
      ]
     },
     "execution_count": 73,
     "metadata": {},
     "output_type": "execute_result"
    }
   ],
   "source": [
    "submission.head()"
   ]
  },
  {
   "cell_type": "code",
   "execution_count": 74,
   "metadata": {},
   "outputs": [
    {
     "data": {
      "text/plain": [
       "0    2273\n",
       "1     727\n",
       "Name: Category, dtype: int64"
      ]
     },
     "execution_count": 74,
     "metadata": {},
     "output_type": "execute_result"
    }
   ],
   "source": [
    "submission.Category.value_counts()"
   ]
  },
  {
   "cell_type": "code",
   "execution_count": 75,
   "metadata": {},
   "outputs": [],
   "source": [
    "submission.to_csv('output/submission-hard.csv', index=False)"
   ]
  },
  {
   "cell_type": "code",
   "execution_count": 76,
   "metadata": {},
   "outputs": [
    {
     "data": {
      "text/plain": [
       "['output/mlp-hard.joblib']"
      ]
     },
     "execution_count": 76,
     "metadata": {},
     "output_type": "execute_result"
    }
   ],
   "source": [
    "dump(model, 'output/mlp-hard.joblib') "
   ]
  },
  {
   "cell_type": "code",
   "execution_count": null,
   "metadata": {},
   "outputs": [],
   "source": []
  }
 ],
 "metadata": {
  "kernelspec": {
   "display_name": "py38",
   "language": "python",
   "name": "py38"
  },
  "language_info": {
   "codemirror_mode": {
    "name": "ipython",
    "version": 3
   },
   "file_extension": ".py",
   "mimetype": "text/x-python",
   "name": "python",
   "nbconvert_exporter": "python",
   "pygments_lexer": "ipython3",
   "version": "3.8.3"
  }
 },
 "nbformat": 4,
 "nbformat_minor": 4
}
