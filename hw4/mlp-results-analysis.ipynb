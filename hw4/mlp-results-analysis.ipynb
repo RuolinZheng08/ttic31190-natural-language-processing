{
 "cells": [
  {
   "cell_type": "markdown",
   "metadata": {},
   "source": [
    "# After training analysis\n",
    "Create table and plots; reuse code from `mlp-classifier-experiments\n",
    "`"
   ]
  },
  {
   "cell_type": "code",
   "execution_count": 1,
   "metadata": {},
   "outputs": [],
   "source": [
    "import pickle\n",
    "\n",
    "import string\n",
    "import editdistance\n",
    "\n",
    "import numpy as np\n",
    "import pandas as pd\n",
    "import matplotlib.pyplot as plt\n",
    "import seaborn as sns\n",
    "\n",
    "import nltk\n",
    "from nltk.tokenize import word_tokenize\n",
    "\n",
    "from sklearn.model_selection import train_test_split\n",
    "from sklearn.neural_network import MLPClassifier\n",
    "from sklearn.metrics import confusion_matrix, accuracy_score"
   ]
  },
  {
   "cell_type": "code",
   "execution_count": 25,
   "metadata": {},
   "outputs": [],
   "source": [
    "sns.set_theme()\n",
    "sns.set_context('paper')\n",
    "plt.style.use('ggplot')"
   ]
  },
  {
   "cell_type": "code",
   "execution_count": 2,
   "metadata": {},
   "outputs": [],
   "source": [
    "punctuations = set(string.punctuation)\n",
    "stopwords = set(nltk.corpus.stopwords.words('english'))\n",
    "ps = nltk.PorterStemmer()"
   ]
  },
  {
   "cell_type": "code",
   "execution_count": 3,
   "metadata": {},
   "outputs": [],
   "source": [
    "def load_file(path, skip_id=False, has_label=True):\n",
    "    \"\"\"\n",
    "    has_label: also return label column if True\n",
    "    return [['hello world', 'hi'], ['hi World', 'hello']]\n",
    "    \"\"\"\n",
    "    first_lines = []\n",
    "    second_lines = []\n",
    "    if has_label:\n",
    "        labels = []\n",
    "    if skip_id:\n",
    "        start_col_idx = 1\n",
    "    else:\n",
    "        start_col_idx = 0\n",
    "    with open(path, 'rt') as f:\n",
    "        for line in f:\n",
    "            chunks = line.strip().split('\\t')\n",
    "            first = chunks[start_col_idx]\n",
    "            second = chunks[start_col_idx + 1]\n",
    "            first_lines.append(first)\n",
    "            second_lines.append(second)\n",
    "            \n",
    "            if has_label:\n",
    "                label = int(chunks[start_col_idx + 2])\n",
    "                labels.append(label)\n",
    "    if has_label:\n",
    "        ret = pd.DataFrame({\n",
    "            'line1': first_lines, \n",
    "            'line2': second_lines, \n",
    "            'is_paraphrase': labels\n",
    "        })\n",
    "    else:\n",
    "        ret = pd.DataFrame({\n",
    "            'line1': first_lines, \n",
    "            'line2': second_lines\n",
    "        })\n",
    "    return ret"
   ]
  },
  {
   "cell_type": "code",
   "execution_count": null,
   "metadata": {},
   "outputs": [],
   "source": [
    "def clean_text(text, remove_punkt=False, remove_stopwords=False, stem=False):\n",
    "    tokens = word_tokenize(text.lower())\n",
    "    if remove_punkt:\n",
    "        tokens = [tok for tok in tokens if not tok in punctuations]\n",
    "    if remove_stopwords:\n",
    "        tokens = [tok for tok in tokens if not tok in stopwords]\n",
    "    if stem:\n",
    "        tokens = [ps.stem(tok) for tok in tokens]\n",
    "    return tokens"
   ]
  },
  {
   "cell_type": "code",
   "execution_count": null,
   "metadata": {},
   "outputs": [],
   "source": [
    "def construct_features(first_lines, second_lines):\n",
    "    # number of unique overlapping unigrams, edit distance\n",
    "    features = np.empty((len(first_lines), 2))\n",
    "    for idx, tup in enumerate(zip(first_lines, second_lines)):\n",
    "        first, second = tup\n",
    "        num_unigrams = len(set(first).intersection(second))\n",
    "        edit_dist = editdistance.eval(first, second)\n",
    "        features[idx, 0] = num_unigrams\n",
    "        features[idx, 1] = edit_dist\n",
    "    return features"
   ]
  },
  {
   "cell_type": "code",
   "execution_count": 4,
   "metadata": {},
   "outputs": [],
   "source": [
    "dev = load_file('data/dev+devtest/dev.tsv')\n",
    "devtest = load_file('data/dev+devtest/devtest.tsv')\n",
    "test = load_file('data/test_no_labels.tsv', skip_id=True, has_label=False)\n",
    "dev_hard = load_file('data/heldout-hard/dev.hard.tsv')\n",
    "devtest_hard = load_file('data/heldout-hard/devtest.hard.tsv')\n",
    "test_hard = load_file('data/heldout-hard/test.hard.tsv', has_label=False)"
   ]
  },
  {
   "cell_type": "code",
   "execution_count": 5,
   "metadata": {},
   "outputs": [],
   "source": [
    "with open('output/mlp-experiments.pkl', 'rb') as f:\n",
    "    experiments = pickle.load(f)"
   ]
  },
  {
   "cell_type": "code",
   "execution_count": 6,
   "metadata": {},
   "outputs": [],
   "source": [
    "results = pd.read_csv('output/mlp-results.csv')"
   ]
  },
  {
   "cell_type": "markdown",
   "metadata": {},
   "source": [
    "# Accuracy tables and plots"
   ]
  },
  {
   "cell_type": "code",
   "execution_count": 10,
   "metadata": {
    "scrolled": true
   },
   "outputs": [
    {
     "data": {
      "text/html": [
       "<div>\n",
       "<style scoped>\n",
       "    .dataframe tbody tr th:only-of-type {\n",
       "        vertical-align: middle;\n",
       "    }\n",
       "\n",
       "    .dataframe tbody tr th {\n",
       "        vertical-align: top;\n",
       "    }\n",
       "\n",
       "    .dataframe thead th {\n",
       "        text-align: right;\n",
       "    }\n",
       "</style>\n",
       "<table border=\"1\" class=\"dataframe\">\n",
       "  <thead>\n",
       "    <tr style=\"text-align: right;\">\n",
       "      <th></th>\n",
       "      <th>config</th>\n",
       "      <th>dataset</th>\n",
       "      <th>train_accu</th>\n",
       "      <th>val_accu</th>\n",
       "    </tr>\n",
       "  </thead>\n",
       "  <tbody>\n",
       "    <tr>\n",
       "      <th>0</th>\n",
       "      <td>baseline</td>\n",
       "      <td>normal</td>\n",
       "      <td>0.841076</td>\n",
       "      <td>0.813665</td>\n",
       "    </tr>\n",
       "    <tr>\n",
       "      <th>1</th>\n",
       "      <td>baseline_hard</td>\n",
       "      <td>hard</td>\n",
       "      <td>0.725000</td>\n",
       "      <td>0.700000</td>\n",
       "    </tr>\n",
       "    <tr>\n",
       "      <th>2</th>\n",
       "      <td>tokenized</td>\n",
       "      <td>normal</td>\n",
       "      <td>0.844743</td>\n",
       "      <td>0.829814</td>\n",
       "    </tr>\n",
       "    <tr>\n",
       "      <th>3</th>\n",
       "      <td>tokenized_hard</td>\n",
       "      <td>hard</td>\n",
       "      <td>0.689000</td>\n",
       "      <td>0.668000</td>\n",
       "    </tr>\n",
       "    <tr>\n",
       "      <th>4</th>\n",
       "      <td>big</td>\n",
       "      <td>normal</td>\n",
       "      <td>0.842235</td>\n",
       "      <td>0.837438</td>\n",
       "    </tr>\n",
       "    <tr>\n",
       "      <th>5</th>\n",
       "      <td>big_hard</td>\n",
       "      <td>hard</td>\n",
       "      <td>0.681333</td>\n",
       "      <td>0.686000</td>\n",
       "    </tr>\n",
       "    <tr>\n",
       "      <th>6</th>\n",
       "      <td>combined</td>\n",
       "      <td>normal</td>\n",
       "      <td>0.690099</td>\n",
       "      <td>0.667770</td>\n",
       "    </tr>\n",
       "    <tr>\n",
       "      <th>7</th>\n",
       "      <td>combined_normal</td>\n",
       "      <td>normal</td>\n",
       "      <td>0.690099</td>\n",
       "      <td>0.812808</td>\n",
       "    </tr>\n",
       "    <tr>\n",
       "      <th>8</th>\n",
       "      <td>combined_hard</td>\n",
       "      <td>hard</td>\n",
       "      <td>0.690099</td>\n",
       "      <td>0.550000</td>\n",
       "    </tr>\n",
       "    <tr>\n",
       "      <th>9</th>\n",
       "      <td>no_punkt</td>\n",
       "      <td>normal</td>\n",
       "      <td>0.823336</td>\n",
       "      <td>0.852217</td>\n",
       "    </tr>\n",
       "    <tr>\n",
       "      <th>10</th>\n",
       "      <td>no_punkt_hard</td>\n",
       "      <td>hard</td>\n",
       "      <td>0.693333</td>\n",
       "      <td>0.706000</td>\n",
       "    </tr>\n",
       "    <tr>\n",
       "      <th>11</th>\n",
       "      <td>no_punkt_stopwords</td>\n",
       "      <td>normal</td>\n",
       "      <td>0.775678</td>\n",
       "      <td>0.812808</td>\n",
       "    </tr>\n",
       "    <tr>\n",
       "      <th>12</th>\n",
       "      <td>no_punkt_stopwords_hard</td>\n",
       "      <td>hard</td>\n",
       "      <td>0.712667</td>\n",
       "      <td>0.742000</td>\n",
       "    </tr>\n",
       "    <tr>\n",
       "      <th>13</th>\n",
       "      <td>no_punkt_stem</td>\n",
       "      <td>normal</td>\n",
       "      <td>0.833196</td>\n",
       "      <td>0.859606</td>\n",
       "    </tr>\n",
       "    <tr>\n",
       "      <th>14</th>\n",
       "      <td>no_punkt_stopwords_stem</td>\n",
       "      <td>normal</td>\n",
       "      <td>0.794577</td>\n",
       "      <td>0.817734</td>\n",
       "    </tr>\n",
       "    <tr>\n",
       "      <th>15</th>\n",
       "      <td>no_punkt_stopwords_stem_hard</td>\n",
       "      <td>hard</td>\n",
       "      <td>0.712000</td>\n",
       "      <td>0.742000</td>\n",
       "    </tr>\n",
       "    <tr>\n",
       "      <th>16</th>\n",
       "      <td>no_punkt_stem_hard</td>\n",
       "      <td>hard</td>\n",
       "      <td>0.698000</td>\n",
       "      <td>0.710000</td>\n",
       "    </tr>\n",
       "  </tbody>\n",
       "</table>\n",
       "</div>"
      ],
      "text/plain": [
       "                          config dataset  train_accu  val_accu\n",
       "0                       baseline  normal    0.841076  0.813665\n",
       "1                  baseline_hard    hard    0.725000  0.700000\n",
       "2                      tokenized  normal    0.844743  0.829814\n",
       "3                 tokenized_hard    hard    0.689000  0.668000\n",
       "4                            big  normal    0.842235  0.837438\n",
       "5                       big_hard    hard    0.681333  0.686000\n",
       "6                       combined  normal    0.690099  0.667770\n",
       "7                combined_normal  normal    0.690099  0.812808\n",
       "8                  combined_hard    hard    0.690099  0.550000\n",
       "9                       no_punkt  normal    0.823336  0.852217\n",
       "10                 no_punkt_hard    hard    0.693333  0.706000\n",
       "11            no_punkt_stopwords  normal    0.775678  0.812808\n",
       "12       no_punkt_stopwords_hard    hard    0.712667  0.742000\n",
       "13                 no_punkt_stem  normal    0.833196  0.859606\n",
       "14       no_punkt_stopwords_stem  normal    0.794577  0.817734\n",
       "15  no_punkt_stopwords_stem_hard    hard    0.712000  0.742000\n",
       "16            no_punkt_stem_hard    hard    0.698000  0.710000"
      ]
     },
     "execution_count": 10,
     "metadata": {},
     "output_type": "execute_result"
    }
   ],
   "source": [
    "results"
   ]
  },
  {
   "cell_type": "code",
   "execution_count": 17,
   "metadata": {},
   "outputs": [],
   "source": [
    "df = results.melt(id_vars=['config', 'dataset'], value_vars=['train_accu', 'val_accu'])"
   ]
  },
  {
   "cell_type": "code",
   "execution_count": 18,
   "metadata": {
    "scrolled": false
   },
   "outputs": [
    {
     "data": {
      "text/html": [
       "<div>\n",
       "<style scoped>\n",
       "    .dataframe tbody tr th:only-of-type {\n",
       "        vertical-align: middle;\n",
       "    }\n",
       "\n",
       "    .dataframe tbody tr th {\n",
       "        vertical-align: top;\n",
       "    }\n",
       "\n",
       "    .dataframe thead th {\n",
       "        text-align: right;\n",
       "    }\n",
       "</style>\n",
       "<table border=\"1\" class=\"dataframe\">\n",
       "  <thead>\n",
       "    <tr style=\"text-align: right;\">\n",
       "      <th></th>\n",
       "      <th>config</th>\n",
       "      <th>dataset</th>\n",
       "      <th>variable</th>\n",
       "      <th>value</th>\n",
       "    </tr>\n",
       "  </thead>\n",
       "  <tbody>\n",
       "    <tr>\n",
       "      <th>0</th>\n",
       "      <td>baseline</td>\n",
       "      <td>normal</td>\n",
       "      <td>train_accu</td>\n",
       "      <td>0.841076</td>\n",
       "    </tr>\n",
       "    <tr>\n",
       "      <th>1</th>\n",
       "      <td>baseline_hard</td>\n",
       "      <td>hard</td>\n",
       "      <td>train_accu</td>\n",
       "      <td>0.725000</td>\n",
       "    </tr>\n",
       "    <tr>\n",
       "      <th>2</th>\n",
       "      <td>tokenized</td>\n",
       "      <td>normal</td>\n",
       "      <td>train_accu</td>\n",
       "      <td>0.844743</td>\n",
       "    </tr>\n",
       "    <tr>\n",
       "      <th>3</th>\n",
       "      <td>tokenized_hard</td>\n",
       "      <td>hard</td>\n",
       "      <td>train_accu</td>\n",
       "      <td>0.689000</td>\n",
       "    </tr>\n",
       "    <tr>\n",
       "      <th>4</th>\n",
       "      <td>big</td>\n",
       "      <td>normal</td>\n",
       "      <td>train_accu</td>\n",
       "      <td>0.842235</td>\n",
       "    </tr>\n",
       "  </tbody>\n",
       "</table>\n",
       "</div>"
      ],
      "text/plain": [
       "           config dataset    variable     value\n",
       "0        baseline  normal  train_accu  0.841076\n",
       "1   baseline_hard    hard  train_accu  0.725000\n",
       "2       tokenized  normal  train_accu  0.844743\n",
       "3  tokenized_hard    hard  train_accu  0.689000\n",
       "4             big  normal  train_accu  0.842235"
      ]
     },
     "execution_count": 18,
     "metadata": {},
     "output_type": "execute_result"
    }
   ],
   "source": [
    "df.head()"
   ]
  },
  {
   "cell_type": "code",
   "execution_count": 28,
   "metadata": {},
   "outputs": [
    {
     "data": {
      "text/plain": [
       "<AxesSubplot:xlabel='variable', ylabel='value'>"
      ]
     },
     "execution_count": 28,
     "metadata": {},
     "output_type": "execute_result"
    },
    {
     "data": {
      "image/png": "[encoded data removed]",
      "text/plain": [
       "<Figure size 432x288 with 1 Axes>"
      ]
     },
     "metadata": {},
     "output_type": "display_data"
    }
   ],
   "source": [
    "sns.stripplot(data=df, x='variable', y='value', hue='dataset', jitter=False)"
   ]
  },
  {
   "cell_type": "markdown",
   "metadata": {},
   "source": [
    "# Text cleaning on example sentences"
   ]
  },
  {
   "cell_type": "code",
   "execution_count": null,
   "metadata": {},
   "outputs": [],
   "source": []
  },
  {
   "cell_type": "markdown",
   "metadata": {},
   "source": [
    "# Feature visualization\n",
    "\n",
    "Violin plots: `tokenized, tokenized-rmv-punkt`, `hue=difficulty`"
   ]
  },
  {
   "cell_type": "code",
   "execution_count": null,
   "metadata": {},
   "outputs": [],
   "source": []
  },
  {
   "cell_type": "code",
   "execution_count": null,
   "metadata": {},
   "outputs": [],
   "source": []
  },
  {
   "cell_type": "markdown",
   "metadata": {},
   "source": [
    "# Error analysis"
   ]
  },
  {
   "cell_type": "code",
   "execution_count": null,
   "metadata": {},
   "outputs": [],
   "source": []
  }
 ],
 "metadata": {
  "kernelspec": {
   "display_name": "py38",
   "language": "python",
   "name": "py38"
  },
  "language_info": {
   "codemirror_mode": {
    "name": "ipython",
    "version": 3
   },
   "file_extension": ".py",
   "mimetype": "text/x-python",
   "name": "python",
   "nbconvert_exporter": "python",
   "pygments_lexer": "ipython3",
   "version": "3.8.3"
  }
 },
 "nbformat": 4,
 "nbformat_minor": 4
}
