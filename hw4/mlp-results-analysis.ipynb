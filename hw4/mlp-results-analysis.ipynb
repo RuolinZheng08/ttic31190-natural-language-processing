{
 "cells": [
  {
   "cell_type": "markdown",
   "metadata": {},
   "source": [
    "# After training analysis\n",
    "Create table and plots; reuse code from `mlp-classifier-experiments\n",
    "`"
   ]
  },
  {
   "cell_type": "code",
   "execution_count": 63,
   "metadata": {},
   "outputs": [],
   "source": [
    "import pickle\n",
    "\n",
    "import string\n",
    "import editdistance\n",
    "\n",
    "import numpy as np\n",
    "import pandas as pd\n",
    "import matplotlib.pyplot as plt\n",
    "import seaborn as sns\n",
    "\n",
    "import nltk\n",
    "from nltk.tokenize import word_tokenize\n",
    "\n",
    "from sklearn.model_selection import train_test_split\n",
    "from sklearn.neural_network import MLPClassifier\n",
    "from sklearn.metrics import confusion_matrix, accuracy_score"
   ]
  },
  {
   "cell_type": "code",
   "execution_count": 116,
   "metadata": {},
   "outputs": [],
   "source": [
    "sns.set_theme()\n",
    "sns.set_context('paper', font_scale=1.4)\n",
    "plt.style.use('ggplot')\n",
    "pd.set_option('precision', 4)"
   ]
  },
  {
   "cell_type": "code",
   "execution_count": 65,
   "metadata": {},
   "outputs": [],
   "source": [
    "punctuations = set(string.punctuation)\n",
    "stopwords = set(nltk.corpus.stopwords.words('english'))\n",
    "ps = nltk.PorterStemmer()"
   ]
  },
  {
   "cell_type": "code",
   "execution_count": 66,
   "metadata": {},
   "outputs": [],
   "source": [
    "def load_file(path, skip_id=False, has_label=True):\n",
    "    \"\"\"\n",
    "    has_label: also return label column if True\n",
    "    return [['hello world', 'hi'], ['hi World', 'hello']]\n",
    "    \"\"\"\n",
    "    first_lines = []\n",
    "    second_lines = []\n",
    "    if has_label:\n",
    "        labels = []\n",
    "    if skip_id:\n",
    "        start_col_idx = 1\n",
    "    else:\n",
    "        start_col_idx = 0\n",
    "    with open(path, 'rt') as f:\n",
    "        for line in f:\n",
    "            chunks = line.strip().split('\\t')\n",
    "            first = chunks[start_col_idx]\n",
    "            second = chunks[start_col_idx + 1]\n",
    "            first_lines.append(first)\n",
    "            second_lines.append(second)\n",
    "            \n",
    "            if has_label:\n",
    "                label = int(chunks[start_col_idx + 2])\n",
    "                labels.append(label)\n",
    "    if has_label:\n",
    "        ret = pd.DataFrame({\n",
    "            'line1': first_lines, \n",
    "            'line2': second_lines, \n",
    "            'is_paraphrase': labels\n",
    "        })\n",
    "    else:\n",
    "        ret = pd.DataFrame({\n",
    "            'line1': first_lines, \n",
    "            'line2': second_lines\n",
    "        })\n",
    "    return ret"
   ]
  },
  {
   "cell_type": "code",
   "execution_count": 67,
   "metadata": {},
   "outputs": [],
   "source": [
    "def clean_text(text, remove_punkt=False, remove_stopwords=False, stem=False):\n",
    "    tokens = word_tokenize(text.lower())\n",
    "    if remove_punkt:\n",
    "        tokens = [tok for tok in tokens if not tok in punctuations]\n",
    "    if remove_stopwords:\n",
    "        tokens = [tok for tok in tokens if not tok in stopwords]\n",
    "    if stem:\n",
    "        tokens = [ps.stem(tok) for tok in tokens]\n",
    "    return tokens"
   ]
  },
  {
   "cell_type": "code",
   "execution_count": 68,
   "metadata": {},
   "outputs": [],
   "source": [
    "def construct_features(first_lines, second_lines):\n",
    "    # number of unique overlapping unigrams, edit distance\n",
    "    features = np.empty((len(first_lines), 2))\n",
    "    for idx, tup in enumerate(zip(first_lines, second_lines)):\n",
    "        first, second = tup\n",
    "        num_unigrams = len(set(first).intersection(second))\n",
    "        edit_dist = editdistance.eval(first, second)\n",
    "        features[idx, 0] = num_unigrams\n",
    "        features[idx, 1] = edit_dist\n",
    "    return features"
   ]
  },
  {
   "cell_type": "code",
   "execution_count": 4,
   "metadata": {},
   "outputs": [],
   "source": [
    "dev = load_file('data/dev+devtest/dev.tsv')\n",
    "devtest = load_file('data/dev+devtest/devtest.tsv')\n",
    "test = load_file('data/test_no_labels.tsv', skip_id=True, has_label=False)\n",
    "dev_hard = load_file('data/heldout-hard/dev.hard.tsv')\n",
    "devtest_hard = load_file('data/heldout-hard/devtest.hard.tsv')\n",
    "test_hard = load_file('data/heldout-hard/test.hard.tsv', has_label=False)"
   ]
  },
  {
   "cell_type": "code",
   "execution_count": 109,
   "metadata": {},
   "outputs": [
    {
     "data": {
      "text/plain": [
       "(818, 805, 3000, 1000, 1000, 3000)"
      ]
     },
     "execution_count": 109,
     "metadata": {},
     "output_type": "execute_result"
    }
   ],
   "source": [
    "len(dev), len(devtest), len(test), len(dev_hard), len(devtest_hard), len(test_hard)"
   ]
  },
  {
   "cell_type": "code",
   "execution_count": 5,
   "metadata": {},
   "outputs": [],
   "source": [
    "with open('output/mlp-experiments.pkl', 'rb') as f:\n",
    "    experiments = pickle.load(f)"
   ]
  },
  {
   "cell_type": "code",
   "execution_count": 6,
   "metadata": {},
   "outputs": [],
   "source": [
    "results = pd.read_csv('output/mlp-results.csv')"
   ]
  },
  {
   "cell_type": "markdown",
   "metadata": {},
   "source": [
    "# Accuracy tables and plots"
   ]
  },
  {
   "cell_type": "code",
   "execution_count": 34,
   "metadata": {
    "scrolled": true
   },
   "outputs": [],
   "source": [
    "results.sort_values(by=['dataset', 'train_accu', 'val_accu'],\n",
    "                    ascending=[False, True, True],\n",
    "                    inplace=True)"
   ]
  },
  {
   "cell_type": "code",
   "execution_count": 40,
   "metadata": {
    "scrolled": true
   },
   "outputs": [
    {
     "data": {
      "text/html": [
       "<div>\n",
       "<style scoped>\n",
       "    .dataframe tbody tr th:only-of-type {\n",
       "        vertical-align: middle;\n",
       "    }\n",
       "\n",
       "    .dataframe tbody tr th {\n",
       "        vertical-align: top;\n",
       "    }\n",
       "\n",
       "    .dataframe thead th {\n",
       "        text-align: right;\n",
       "    }\n",
       "</style>\n",
       "<table border=\"1\" class=\"dataframe\">\n",
       "  <thead>\n",
       "    <tr style=\"text-align: right;\">\n",
       "      <th></th>\n",
       "      <th>config</th>\n",
       "      <th>dataset</th>\n",
       "      <th>train_accu</th>\n",
       "      <th>val_accu</th>\n",
       "    </tr>\n",
       "  </thead>\n",
       "  <tbody>\n",
       "    <tr>\n",
       "      <th>6</th>\n",
       "      <td>combined</td>\n",
       "      <td>normal</td>\n",
       "      <td>0.6901</td>\n",
       "      <td>0.6678</td>\n",
       "    </tr>\n",
       "    <tr>\n",
       "      <th>7</th>\n",
       "      <td>combined_normal</td>\n",
       "      <td>normal</td>\n",
       "      <td>0.6901</td>\n",
       "      <td>0.8128</td>\n",
       "    </tr>\n",
       "    <tr>\n",
       "      <th>11</th>\n",
       "      <td>no_punkt_stopwords</td>\n",
       "      <td>normal</td>\n",
       "      <td>0.7757</td>\n",
       "      <td>0.8128</td>\n",
       "    </tr>\n",
       "    <tr>\n",
       "      <th>14</th>\n",
       "      <td>no_punkt_stopwords_stem</td>\n",
       "      <td>normal</td>\n",
       "      <td>0.7946</td>\n",
       "      <td>0.8177</td>\n",
       "    </tr>\n",
       "    <tr>\n",
       "      <th>9</th>\n",
       "      <td>no_punkt</td>\n",
       "      <td>normal</td>\n",
       "      <td>0.8233</td>\n",
       "      <td>0.8522</td>\n",
       "    </tr>\n",
       "  </tbody>\n",
       "</table>\n",
       "</div>"
      ],
      "text/plain": [
       "                     config dataset  train_accu  val_accu\n",
       "6                  combined  normal      0.6901    0.6678\n",
       "7           combined_normal  normal      0.6901    0.8128\n",
       "11       no_punkt_stopwords  normal      0.7757    0.8128\n",
       "14  no_punkt_stopwords_stem  normal      0.7946    0.8177\n",
       "9                  no_punkt  normal      0.8233    0.8522"
      ]
     },
     "execution_count": 40,
     "metadata": {},
     "output_type": "execute_result"
    }
   ],
   "source": [
    "results.head()"
   ]
  },
  {
   "cell_type": "code",
   "execution_count": 31,
   "metadata": {},
   "outputs": [],
   "source": [
    "df = results.melt(id_vars=['config', 'dataset'], \n",
    "                  value_vars=['train_accu', 'val_accu'])"
   ]
  },
  {
   "cell_type": "code",
   "execution_count": 30,
   "metadata": {
    "scrolled": false
   },
   "outputs": [
    {
     "data": {
      "text/html": [
       "<div>\n",
       "<style scoped>\n",
       "    .dataframe tbody tr th:only-of-type {\n",
       "        vertical-align: middle;\n",
       "    }\n",
       "\n",
       "    .dataframe tbody tr th {\n",
       "        vertical-align: top;\n",
       "    }\n",
       "\n",
       "    .dataframe thead th {\n",
       "        text-align: right;\n",
       "    }\n",
       "</style>\n",
       "<table border=\"1\" class=\"dataframe\">\n",
       "  <thead>\n",
       "    <tr style=\"text-align: right;\">\n",
       "      <th></th>\n",
       "      <th>config</th>\n",
       "      <th>dataset</th>\n",
       "      <th>variable</th>\n",
       "      <th>value</th>\n",
       "    </tr>\n",
       "  </thead>\n",
       "  <tbody>\n",
       "    <tr>\n",
       "      <th>0</th>\n",
       "      <td>baseline</td>\n",
       "      <td>normal</td>\n",
       "      <td>train_accu</td>\n",
       "      <td>0.841076</td>\n",
       "    </tr>\n",
       "    <tr>\n",
       "      <th>1</th>\n",
       "      <td>baseline_hard</td>\n",
       "      <td>hard</td>\n",
       "      <td>train_accu</td>\n",
       "      <td>0.725000</td>\n",
       "    </tr>\n",
       "    <tr>\n",
       "      <th>2</th>\n",
       "      <td>tokenized</td>\n",
       "      <td>normal</td>\n",
       "      <td>train_accu</td>\n",
       "      <td>0.844743</td>\n",
       "    </tr>\n",
       "    <tr>\n",
       "      <th>3</th>\n",
       "      <td>tokenized_hard</td>\n",
       "      <td>hard</td>\n",
       "      <td>train_accu</td>\n",
       "      <td>0.689000</td>\n",
       "    </tr>\n",
       "    <tr>\n",
       "      <th>4</th>\n",
       "      <td>big</td>\n",
       "      <td>normal</td>\n",
       "      <td>train_accu</td>\n",
       "      <td>0.842235</td>\n",
       "    </tr>\n",
       "  </tbody>\n",
       "</table>\n",
       "</div>"
      ],
      "text/plain": [
       "           config dataset    variable     value\n",
       "0        baseline  normal  train_accu  0.841076\n",
       "1   baseline_hard    hard  train_accu  0.725000\n",
       "2       tokenized  normal  train_accu  0.844743\n",
       "3  tokenized_hard    hard  train_accu  0.689000\n",
       "4             big  normal  train_accu  0.842235"
      ]
     },
     "execution_count": 30,
     "metadata": {},
     "output_type": "execute_result"
    }
   ],
   "source": [
    "df.head()"
   ]
  },
  {
   "cell_type": "code",
   "execution_count": 117,
   "metadata": {},
   "outputs": [
    {
     "data": {
      "text/plain": [
       "<AxesSubplot:xlabel='variable', ylabel='value'>"
      ]
     },
     "execution_count": 117,
     "metadata": {},
     "output_type": "execute_result"
    },
    {
     "data": {
      "image/png": "[encoded data removed]",
      "text/plain": [
       "<Figure size 432x288 with 1 Axes>"
      ]
     },
     "metadata": {},
     "output_type": "display_data"
    }
   ],
   "source": [
    "sns.stripplot(data=df, x='variable', y='value', hue='dataset', jitter=False)"
   ]
  },
  {
   "cell_type": "markdown",
   "metadata": {},
   "source": [
    "# Text cleaning on example sentences"
   ]
  },
  {
   "cell_type": "code",
   "execution_count": 105,
   "metadata": {
    "scrolled": true
   },
   "outputs": [
    {
     "name": "stdout",
     "output_type": "stream",
     "text": [
      "Steam can also be used , and does not need to be pumped .\n",
      "['steam', 'can', 'also', 'be', 'used', ',', 'and', 'does', 'not', 'need', 'to', 'be', 'pumped', '.']\n",
      "['steam', 'can', 'also', 'be', 'used', 'and', 'does', 'not', 'need', 'to', 'be', 'pumped']\n",
      "['steam', 'also', 'used', ',', 'need', 'pumped', '.']\n",
      "['steam', 'can', 'also', 'be', 'use', ',', 'and', 'doe', 'not', 'need', 'to', 'be', 'pump', '.']\n",
      "\n",
      "Steam can also be pumped and need not be used .\n",
      "['steam', 'can', 'also', 'be', 'pumped', 'and', 'need', 'not', 'be', 'used', '.']\n",
      "['steam', 'can', 'also', 'be', 'pumped', 'and', 'need', 'not', 'be', 'used']\n",
      "['steam', 'also', 'pumped', 'need', 'used', '.']\n",
      "['steam', 'can', 'also', 'be', 'pump', 'and', 'need', 'not', 'be', 'use', '.']\n"
     ]
    }
   ],
   "source": [
    "drop_idx = []\n",
    "for _ in range(20):\n",
    "    idx = devtest_hard.drop(drop_idx).line1.apply(len).idxmin()\n",
    "    drop_idx.append(idx)\n",
    "line1 = devtest_hard.line1[idx]\n",
    "print(line1)\n",
    "print(clean_text(line1))\n",
    "print(clean_text(line1, remove_punkt=True))\n",
    "print(clean_text(line1, remove_stopwords=True))\n",
    "print(clean_text(line1, stem=True), end='\\n\\n')\n",
    "line2 = devtest_hard.line2[idx]\n",
    "print(line2)\n",
    "print(clean_text(line2))\n",
    "print(clean_text(line2, remove_punkt=True))\n",
    "print(clean_text(line2, remove_stopwords=True))\n",
    "print(clean_text(line2, stem=True))"
   ]
  },
  {
   "cell_type": "code",
   "execution_count": 108,
   "metadata": {},
   "outputs": [
    {
     "data": {
      "text/plain": [
       "0"
      ]
     },
     "execution_count": 108,
     "metadata": {},
     "output_type": "execute_result"
    }
   ],
   "source": [
    "devtest_hard.is_paraphrase[idx]"
   ]
  },
  {
   "cell_type": "code",
   "execution_count": 107,
   "metadata": {},
   "outputs": [
    {
     "name": "stdout",
     "output_type": "stream",
     "text": [
      "6\n",
      "5\n",
      "3\n",
      "6\n"
     ]
    }
   ],
   "source": [
    "print(editdistance.eval(clean_text(line1), clean_text(line2)))\n",
    "print(editdistance.eval(\n",
    "    clean_text(line1, remove_punkt=True),\n",
    "    clean_text(line2, remove_punkt=True)\n",
    "))\n",
    "print(editdistance.eval(\n",
    "    clean_text(line1, remove_stopwords=True),\n",
    "    clean_text(line2, remove_stopwords=True)\n",
    "))\n",
    "print(editdistance.eval(\n",
    "    clean_text(line1, stem=True),\n",
    "    clean_text(line2, stem=True)\n",
    "))"
   ]
  },
  {
   "cell_type": "markdown",
   "metadata": {},
   "source": [
    "# Feature visualization\n",
    "\n",
    "Violin plots: `tokenized, tokenized-rmv-punkt`, `hue=difficulty`"
   ]
  },
  {
   "cell_type": "code",
   "execution_count": null,
   "metadata": {},
   "outputs": [],
   "source": []
  },
  {
   "cell_type": "code",
   "execution_count": 122,
   "metadata": {},
   "outputs": [],
   "source": [
    "# scatter w/ color label\n",
    "kws = None\n",
    "# kws = {'remove_punkt': True, 'remove_stopwords': True}\n",
    "X = construct_features(dev.line1.apply(clean_text, kws), \n",
    "                       dev.line2.apply(clean_text, kws))\n",
    "dev_df = pd.DataFrame({\n",
    "    'unigrams': X[:, 0],\n",
    "    'edit_dist': X[:, 1],\n",
    "    'labels': dev.is_paraphrase\n",
    "})"
   ]
  },
  {
   "cell_type": "code",
   "execution_count": 124,
   "metadata": {},
   "outputs": [
    {
     "data": {
      "text/plain": [
       "<AxesSubplot:xlabel='unigrams', ylabel='edit_dist'>"
      ]
     },
     "execution_count": 124,
     "metadata": {},
     "output_type": "execute_result"
    },
    {
     "data": {
      "image/png": "[encoded data removed]",
      "text/plain": [
       "<Figure size 432x288 with 1 Axes>"
      ]
     },
     "metadata": {},
     "output_type": "display_data"
    }
   ],
   "source": [
    "sns.scatterplot(data=dev_df, x='unigrams', y='edit_dist', hue='labels')"
   ]
  },
  {
   "cell_type": "code",
   "execution_count": 125,
   "metadata": {},
   "outputs": [
    {
     "data": {
      "text/plain": [
       "<AxesSubplot:xlabel='unigrams', ylabel='edit_dist'>"
      ]
     },
     "execution_count": 125,
     "metadata": {},
     "output_type": "execute_result"
    },
    {
     "data": {
      "image/png": "[encoded data removed]",
      "text/plain": [
       "<Figure size 432x288 with 1 Axes>"
      ]
     },
     "metadata": {},
     "output_type": "display_data"
    }
   ],
   "source": [
    "kws = None\n",
    "# kws = {'remove_punkt': True, 'remove_stopwords': True}\n",
    "X = construct_features(dev_hard.line1.apply(clean_text, kws), \n",
    "                       dev_hard.line2.apply(clean_text, kws))\n",
    "dev_hard_df = pd.DataFrame({\n",
    "    'unigrams': X[:, 0],\n",
    "    'edit_dist': X[:, 1],\n",
    "    'labels': dev_hard.is_paraphrase\n",
    "})\n",
    "sns.scatterplot(data=dev_hard_df, x='unigrams', y='edit_dist', hue='labels')"
   ]
  },
  {
   "cell_type": "code",
   "execution_count": 128,
   "metadata": {
    "scrolled": true
   },
   "outputs": [
    {
     "data": {
      "text/html": [
       "<div>\n",
       "<style scoped>\n",
       "    .dataframe tbody tr th:only-of-type {\n",
       "        vertical-align: middle;\n",
       "    }\n",
       "\n",
       "    .dataframe tbody tr th {\n",
       "        vertical-align: top;\n",
       "    }\n",
       "\n",
       "    .dataframe thead th {\n",
       "        text-align: right;\n",
       "    }\n",
       "</style>\n",
       "<table border=\"1\" class=\"dataframe\">\n",
       "  <thead>\n",
       "    <tr style=\"text-align: right;\">\n",
       "      <th></th>\n",
       "      <th>unigrams</th>\n",
       "      <th>edit_dist</th>\n",
       "      <th>labels</th>\n",
       "    </tr>\n",
       "  </thead>\n",
       "  <tbody>\n",
       "    <tr>\n",
       "      <th>unigrams</th>\n",
       "      <td>1.0000</td>\n",
       "      <td>0.2877</td>\n",
       "      <td>0.4417</td>\n",
       "    </tr>\n",
       "    <tr>\n",
       "      <th>edit_dist</th>\n",
       "      <td>0.2877</td>\n",
       "      <td>1.0000</td>\n",
       "      <td>-0.2765</td>\n",
       "    </tr>\n",
       "    <tr>\n",
       "      <th>labels</th>\n",
       "      <td>0.4417</td>\n",
       "      <td>-0.2765</td>\n",
       "      <td>1.0000</td>\n",
       "    </tr>\n",
       "  </tbody>\n",
       "</table>\n",
       "</div>"
      ],
      "text/plain": [
       "           unigrams  edit_dist  labels\n",
       "unigrams     1.0000     0.2877  0.4417\n",
       "edit_dist    0.2877     1.0000 -0.2765\n",
       "labels       0.4417    -0.2765  1.0000"
      ]
     },
     "metadata": {},
     "output_type": "display_data"
    },
    {
     "data": {
      "text/html": [
       "<div>\n",
       "<style scoped>\n",
       "    .dataframe tbody tr th:only-of-type {\n",
       "        vertical-align: middle;\n",
       "    }\n",
       "\n",
       "    .dataframe tbody tr th {\n",
       "        vertical-align: top;\n",
       "    }\n",
       "\n",
       "    .dataframe thead th {\n",
       "        text-align: right;\n",
       "    }\n",
       "</style>\n",
       "<table border=\"1\" class=\"dataframe\">\n",
       "  <thead>\n",
       "    <tr style=\"text-align: right;\">\n",
       "      <th></th>\n",
       "      <th>unigrams</th>\n",
       "      <th>edit_dist</th>\n",
       "      <th>labels</th>\n",
       "    </tr>\n",
       "  </thead>\n",
       "  <tbody>\n",
       "    <tr>\n",
       "      <th>unigrams</th>\n",
       "      <td>1.0000</td>\n",
       "      <td>0.2335</td>\n",
       "      <td>-0.0429</td>\n",
       "    </tr>\n",
       "    <tr>\n",
       "      <th>edit_dist</th>\n",
       "      <td>0.2335</td>\n",
       "      <td>1.0000</td>\n",
       "      <td>-0.2896</td>\n",
       "    </tr>\n",
       "    <tr>\n",
       "      <th>labels</th>\n",
       "      <td>-0.0429</td>\n",
       "      <td>-0.2896</td>\n",
       "      <td>1.0000</td>\n",
       "    </tr>\n",
       "  </tbody>\n",
       "</table>\n",
       "</div>"
      ],
      "text/plain": [
       "           unigrams  edit_dist  labels\n",
       "unigrams     1.0000     0.2335 -0.0429\n",
       "edit_dist    0.2335     1.0000 -0.2896\n",
       "labels      -0.0429    -0.2896  1.0000"
      ]
     },
     "metadata": {},
     "output_type": "display_data"
    }
   ],
   "source": [
    "display(dev_df.corr())\n",
    "display(dev_hard_df.corr())"
   ]
  },
  {
   "cell_type": "markdown",
   "metadata": {},
   "source": [
    "# Error analysis"
   ]
  },
  {
   "cell_type": "code",
   "execution_count": null,
   "metadata": {},
   "outputs": [],
   "source": []
  },
  {
   "cell_type": "code",
   "execution_count": 119,
   "metadata": {},
   "outputs": [
    {
     "data": {
      "text/plain": [
       "<AxesSubplot:>"
      ]
     },
     "execution_count": 119,
     "metadata": {},
     "output_type": "execute_result"
    },
    {
     "data": {
      "image/png": "[encoded data removed]",
      "text/plain": [
       "<Figure size 432x288 with 1 Axes>"
      ]
     },
     "metadata": {},
     "output_type": "display_data"
    }
   ],
   "source": [
    "rnn_df = pd.read_csv('output/rnn_training.csv')\n",
    "rnn_df.dev_accu.plot(legend=True)"
   ]
  },
  {
   "cell_type": "code",
   "execution_count": null,
   "metadata": {},
   "outputs": [],
   "source": []
  }
 ],
 "metadata": {
  "kernelspec": {
   "display_name": "py38",
   "language": "python",
   "name": "py38"
  },
  "language_info": {
   "codemirror_mode": {
    "name": "ipython",
    "version": 3
   },
   "file_extension": ".py",
   "mimetype": "text/x-python",
   "name": "python",
   "nbconvert_exporter": "python",
   "pygments_lexer": "ipython3",
   "version": "3.8.3"
  }
 },
 "nbformat": 4,
 "nbformat_minor": 4
}
