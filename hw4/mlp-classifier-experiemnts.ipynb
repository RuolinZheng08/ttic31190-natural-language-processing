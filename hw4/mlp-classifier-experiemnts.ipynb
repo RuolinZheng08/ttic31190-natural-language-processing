{
 "cells": [
  {
   "cell_type": "markdown",
   "metadata": {},
   "source": [
    "# Experiments\n",
    "\n",
    "TODO: Use 5-fold cross validation.\n",
    "\n",
    "## Dataset\n",
    "- `dev` only\n",
    "- `dev` and part of `devtest` using `train_test_split`\n",
    "- use same model for `normal` and `hard`, i.e. concat `dev` and `dev-hard`\n",
    "\n",
    "## Text cleaning\n",
    "- just `word_tokenize`\n",
    "- remove punctuations\n",
    "- remove stop words\n",
    "- use Porter stemmer\n",
    "\n",
    "## Feature engineering\n",
    "\n",
    "- number of unique overlapping unigrams\n",
    "- number of overlapping unigrams (probably not much difference)\n",
    "\n",
    "Always use edit distance\n",
    "\n",
    "### Misc\n",
    "- Compute feature correlation\n",
    "- Visualize feature distribution as well as a scatter plot of the 2D features."
   ]
  },
  {
   "cell_type": "code",
   "execution_count": 1,
   "metadata": {},
   "outputs": [],
   "source": [
    "import string\n",
    "import editdistance\n",
    "\n",
    "import numpy as np\n",
    "import pandas as pd\n",
    "import matplotlib.pyplot as plt\n",
    "import seaborn as sns\n",
    "\n",
    "import nltk\n",
    "from nltk.tokenize import word_tokenize\n",
    "\n",
    "from joblib import dump, load\n",
    "from sklearn.model_selection import train_test_split\n",
    "from sklearn.neural_network import MLPClassifier\n",
    "from sklearn.metrics import confusion_matrix, accuracy_score"
   ]
  },
  {
   "cell_type": "code",
   "execution_count": 2,
   "metadata": {},
   "outputs": [],
   "source": [
    "punctuations = set(string.punctuation)\n",
    "stopwords = set(nltk.corpus.stopwords.words('english'))\n",
    "ps = nltk.PorterStemmer()"
   ]
  },
  {
   "cell_type": "code",
   "execution_count": 3,
   "metadata": {},
   "outputs": [],
   "source": [
    "def load_file(path, skip_id=False, has_label=True):\n",
    "    \"\"\"\n",
    "    has_label: also return label column if True\n",
    "    return [['hello world', 'hi'], ['hi World', 'hello']]\n",
    "    \"\"\"\n",
    "    first_lines = []\n",
    "    second_lines = []\n",
    "    if has_label:\n",
    "        labels = []\n",
    "    if skip_id:\n",
    "        start_col_idx = 1\n",
    "    else:\n",
    "        start_col_idx = 0\n",
    "    with open(path, 'rt') as f:\n",
    "        for line in f:\n",
    "            chunks = line.strip().split('\\t')\n",
    "            first = chunks[start_col_idx]\n",
    "            second = chunks[start_col_idx + 1]\n",
    "            first_lines.append(first)\n",
    "            second_lines.append(second)\n",
    "            \n",
    "            if has_label:\n",
    "                label = int(chunks[start_col_idx + 2])\n",
    "                labels.append(label)\n",
    "    if has_label:\n",
    "        ret = pd.DataFrame({\n",
    "            'line1': first_lines, \n",
    "            'line2': second_lines, \n",
    "            'is_paraphrase': labels\n",
    "        })\n",
    "    else:\n",
    "        ret = pd.DataFrame({\n",
    "            'line1': first_lines, \n",
    "            'line2': second_lines\n",
    "        })\n",
    "    return ret"
   ]
  },
  {
   "cell_type": "code",
   "execution_count": 41,
   "metadata": {},
   "outputs": [],
   "source": [
    "def clean_text(text, remove_punkt=False, remove_stopwords=False, stem=False):\n",
    "    tokens = word_tokenize(text.lower())\n",
    "    if remove_punkt:\n",
    "        tokens = [tok for tok in tokens if not tok in punctuations]\n",
    "    if remove_stopwords:\n",
    "        tokens = [tok for tok in tokens if not tok in stopwords]\n",
    "    if stem:\n",
    "        tokens = [ps.stem(tok) for tok in tokens]\n",
    "    return tokens"
   ]
  },
  {
   "cell_type": "code",
   "execution_count": 5,
   "metadata": {},
   "outputs": [],
   "source": [
    "def construct_features(first_lines, second_lines):\n",
    "    # number of unique overlapping unigrams, edit distance\n",
    "    features = np.empty((len(first_lines), 2))\n",
    "    for idx, tup in enumerate(zip(first_lines, second_lines)):\n",
    "        first, second = tup\n",
    "        num_unigrams = len(set(first).intersection(second))\n",
    "        edit_dist = editdistance.eval(first, second)\n",
    "        features[idx, 0] = num_unigrams\n",
    "        features[idx, 1] = edit_dist\n",
    "    return features"
   ]
  },
  {
   "cell_type": "code",
   "execution_count": 6,
   "metadata": {},
   "outputs": [],
   "source": [
    "def model_pipeline(X, y, X_val, y_val):\n",
    "    \"\"\"\n",
    "    X, y: train; X_val, y_val: validation\n",
    "    \"\"\"\n",
    "    model = MLPClassifier(max_iter=1000, random_state=0)\n",
    "    model.fit(X, y)\n",
    "    y_pred = model.predict(X)\n",
    "    train_accu = accuracy_score(y, y_pred)\n",
    "    print('Train accuray: {:4f}'.format(train_accu))\n",
    "    y_val_pred = model.predict(X_val)\n",
    "    val_accu = accuracy_score(y_val, y_val_pred)\n",
    "    print('Validation accuracy: {:4f}'.format(val_accu))\n",
    "    # construct confusion matrix on validation set\n",
    "    conf_mat = confusion_matrix(y_val, y_val_pred)\n",
    "    ax = sns.heatmap(conf_mat, annot=True, fmt='d', cmap='Blues')\n",
    "    ax.set_xlabel('Prediction')\n",
    "    ax.set_ylabel('True labels')\n",
    "    \n",
    "    ret = {\n",
    "        'model': model,\n",
    "        'train_accu': train_accu,\n",
    "        'val_accu': val_accu,\n",
    "        'conf_mat': ax\n",
    "    }\n",
    "    return ret"
   ]
  },
  {
   "cell_type": "code",
   "execution_count": 39,
   "metadata": {},
   "outputs": [],
   "source": [
    "def run_experiment(train_df, val_df, call_clean_text=True, clean_text_kws=None):\n",
    "    if call_clean_text:\n",
    "        X = construct_features(train_df.line1.apply(clean_text, **clean_text_kws), \n",
    "                               train_df.line2.apply(clean_text, **clean_text_kws))\n",
    "        X_val = construct_features(val_df.line1.apply(clean_text, **clean_text_kws),\n",
    "                                   val_df.line2.apply(clean_text, **clean_text_kws))\n",
    "    else:\n",
    "        X = construct_features(train_df.line1, train_df.line2)\n",
    "        X_val = construct_features(val_df.line1, val_df.line2)\n",
    "        \n",
    "    y = train_df.is_paraphrase\n",
    "    y_val = val_df.is_paraphrase\n",
    "    ret = model_pipeline(X, y, X_val, y_val)\n",
    "    return ret"
   ]
  },
  {
   "cell_type": "markdown",
   "metadata": {},
   "source": [
    "# Load data"
   ]
  },
  {
   "cell_type": "code",
   "execution_count": 8,
   "metadata": {},
   "outputs": [],
   "source": [
    "dev = load_file('data/dev+devtest/dev.tsv')\n",
    "devtest = load_file('data/dev+devtest/devtest.tsv')\n",
    "test = load_file('data/test_no_labels.tsv', skip_id=True, has_label=False)\n",
    "dev_hard = load_file('data/heldout-hard/dev.hard.tsv')\n",
    "devtest_hard = load_file('data/heldout-hard/devtest.hard.tsv')\n",
    "test_hard = load_file('data/heldout-hard/test.hard.tsv', has_label=False)"
   ]
  },
  {
   "cell_type": "code",
   "execution_count": 9,
   "metadata": {},
   "outputs": [
    {
     "data": {
      "text/html": [
       "<div>\n",
       "<style scoped>\n",
       "    .dataframe tbody tr th:only-of-type {\n",
       "        vertical-align: middle;\n",
       "    }\n",
       "\n",
       "    .dataframe tbody tr th {\n",
       "        vertical-align: top;\n",
       "    }\n",
       "\n",
       "    .dataframe thead th {\n",
       "        text-align: right;\n",
       "    }\n",
       "</style>\n",
       "<table border=\"1\" class=\"dataframe\">\n",
       "  <thead>\n",
       "    <tr style=\"text-align: right;\">\n",
       "      <th></th>\n",
       "      <th>line1</th>\n",
       "      <th>line2</th>\n",
       "      <th>is_paraphrase</th>\n",
       "    </tr>\n",
       "  </thead>\n",
       "  <tbody>\n",
       "    <tr>\n",
       "      <th>0</th>\n",
       "      <td>I don't know what you're sayin'.</td>\n",
       "      <td>I don't know what you're talking about.</td>\n",
       "      <td>1</td>\n",
       "    </tr>\n",
       "    <tr>\n",
       "      <th>1</th>\n",
       "      <td>They're on the next flight home.</td>\n",
       "      <td>he's going home next flight.</td>\n",
       "      <td>1</td>\n",
       "    </tr>\n",
       "    <tr>\n",
       "      <th>2</th>\n",
       "      <td>Such stories.</td>\n",
       "      <td>the stories.</td>\n",
       "      <td>1</td>\n",
       "    </tr>\n",
       "    <tr>\n",
       "      <th>3</th>\n",
       "      <td>On your left!</td>\n",
       "      <td>in the left!</td>\n",
       "      <td>1</td>\n",
       "    </tr>\n",
       "    <tr>\n",
       "      <th>4</th>\n",
       "      <td>I don't think it's actually a good idea...</td>\n",
       "      <td>I don't think it's a good idea.</td>\n",
       "      <td>1</td>\n",
       "    </tr>\n",
       "  </tbody>\n",
       "</table>\n",
       "</div>"
      ],
      "text/plain": [
       "                                        line1  \\\n",
       "0            I don't know what you're sayin'.   \n",
       "1            They're on the next flight home.   \n",
       "2                               Such stories.   \n",
       "3                               On your left!   \n",
       "4  I don't think it's actually a good idea...   \n",
       "\n",
       "                                     line2  is_paraphrase  \n",
       "0  I don't know what you're talking about.              1  \n",
       "1             he's going home next flight.              1  \n",
       "2                             the stories.              1  \n",
       "3                             in the left!              1  \n",
       "4          I don't think it's a good idea.              1  "
      ]
     },
     "execution_count": 9,
     "metadata": {},
     "output_type": "execute_result"
    }
   ],
   "source": [
    "dev.head()"
   ]
  },
  {
   "cell_type": "code",
   "execution_count": 12,
   "metadata": {},
   "outputs": [],
   "source": [
    "experiments = {}"
   ]
  },
  {
   "cell_type": "markdown",
   "metadata": {},
   "source": [
    "# Baseline\n",
    "- Use dev only, train different models for normal and hard\n",
    "- Test on devtest\n",
    "- No text cleaning, which means the string are parsed character by character"
   ]
  },
  {
   "cell_type": "code",
   "execution_count": 13,
   "metadata": {},
   "outputs": [
    {
     "name": "stdout",
     "output_type": "stream",
     "text": [
      "Train accuray: 0.841076\n",
      "Validation accuracy: 0.813665\n"
     ]
    },
    {
     "data": {
      "image/png": "[encoded data removed]",
      "text/plain": [
       "<Figure size 432x288 with 2 Axes>"
      ]
     },
     "metadata": {
      "needs_background": "light"
     },
     "output_type": "display_data"
    }
   ],
   "source": [
    "# normal\n",
    "ret = run_experiment(dev, devtest, call_clean_text=False)\n",
    "experiments['baseline'] = ret"
   ]
  },
  {
   "cell_type": "code",
   "execution_count": 14,
   "metadata": {
    "scrolled": true
   },
   "outputs": [
    {
     "name": "stdout",
     "output_type": "stream",
     "text": [
      "Train accuray: 0.725000\n",
      "Validation accuracy: 0.700000\n"
     ]
    },
    {
     "data": {
      "image/png": "[encoded data removed]",
      "text/plain": [
       "<Figure size 432x288 with 2 Axes>"
      ]
     },
     "metadata": {
      "needs_background": "light"
     },
     "output_type": "display_data"
    }
   ],
   "source": [
    "# hard\n",
    "ret = run_experiment(dev_hard, devtest_hard, call_clean_text=False)\n",
    "experiments['baseline_hard'] = ret"
   ]
  },
  {
   "cell_type": "markdown",
   "metadata": {},
   "source": [
    "# With tokenization"
   ]
  },
  {
   "cell_type": "code",
   "execution_count": 15,
   "metadata": {},
   "outputs": [
    {
     "name": "stdout",
     "output_type": "stream",
     "text": [
      "Train accuray: 0.844743\n",
      "Validation accuracy: 0.829814\n"
     ]
    },
    {
     "data": {
      "image/png": "[encoded data removed]",
      "text/plain": [
       "<Figure size 432x288 with 2 Axes>"
      ]
     },
     "metadata": {
      "needs_background": "light"
     },
     "output_type": "display_data"
    }
   ],
   "source": [
    "# normal\n",
    "ret = run_experiment(dev, devtest, call_clean_text=True)\n",
    "experiments['tokenized'] = ret"
   ]
  },
  {
   "cell_type": "code",
   "execution_count": 16,
   "metadata": {},
   "outputs": [
    {
     "name": "stdout",
     "output_type": "stream",
     "text": [
      "Train accuray: 0.689000\n",
      "Validation accuracy: 0.668000\n"
     ]
    },
    {
     "data": {
      "image/png": "[encoded data removed]",
      "text/plain": [
       "<Figure size 432x288 with 2 Axes>"
      ]
     },
     "metadata": {
      "needs_background": "light"
     },
     "output_type": "display_data"
    }
   ],
   "source": [
    "# hard\n",
    "ret = run_experiment(dev_hard, devtest_hard, call_clean_text=True)\n",
    "experiments['tokenized_hard'] = ret"
   ]
  },
  {
   "cell_type": "markdown",
   "metadata": {},
   "source": [
    "Concat and `train_test_split` dev and devtest for more training data. From the result it looks like bigger datasets are better."
   ]
  },
  {
   "cell_type": "code",
   "execution_count": 18,
   "metadata": {},
   "outputs": [],
   "source": [
    "normal = pd.concat([dev, devtest])\n",
    "hard = pd.concat([dev_hard, devtest_hard])\n",
    "dev_big, devtest_small = train_test_split(normal, random_state=0)\n",
    "dev_hard_big, devtest_hard_small = train_test_split(hard, random_state=0)"
   ]
  },
  {
   "cell_type": "code",
   "execution_count": 19,
   "metadata": {},
   "outputs": [
    {
     "name": "stdout",
     "output_type": "stream",
     "text": [
      "1000 1500\n"
     ]
    },
    {
     "data": {
      "text/html": [
       "<div>\n",
       "<style scoped>\n",
       "    .dataframe tbody tr th:only-of-type {\n",
       "        vertical-align: middle;\n",
       "    }\n",
       "\n",
       "    .dataframe tbody tr th {\n",
       "        vertical-align: top;\n",
       "    }\n",
       "\n",
       "    .dataframe thead th {\n",
       "        text-align: right;\n",
       "    }\n",
       "</style>\n",
       "<table border=\"1\" class=\"dataframe\">\n",
       "  <thead>\n",
       "    <tr style=\"text-align: right;\">\n",
       "      <th></th>\n",
       "      <th>line1</th>\n",
       "      <th>line2</th>\n",
       "      <th>is_paraphrase</th>\n",
       "    </tr>\n",
       "  </thead>\n",
       "  <tbody>\n",
       "    <tr>\n",
       "      <th>45</th>\n",
       "      <td>A proposed Mahadayi River ( Mandovi River ) wa...</td>\n",
       "      <td>A proposed Mahadayi River ( Mandovi River ) wa...</td>\n",
       "      <td>1</td>\n",
       "    </tr>\n",
       "    <tr>\n",
       "      <th>937</th>\n",
       "      <td>Rıza Maksut İşman ( 1915 in Istanbul -- Decemb...</td>\n",
       "      <td>Rıza Maksut İşman ( 1915 in İzmir -- December ...</td>\n",
       "      <td>0</td>\n",
       "    </tr>\n",
       "    <tr>\n",
       "      <th>658</th>\n",
       "      <td>A Peri whose power is in her hair appears in E...</td>\n",
       "      <td>A Peri whose force appears in her hair is in E...</td>\n",
       "      <td>0</td>\n",
       "    </tr>\n",
       "    <tr>\n",
       "      <th>529</th>\n",
       "      <td>This made him the first 994nd grader to play f...</td>\n",
       "      <td>This made him the 994th first grader to play f...</td>\n",
       "      <td>0</td>\n",
       "    </tr>\n",
       "    <tr>\n",
       "      <th>895</th>\n",
       "      <td>The first or `` narrow '' system consists of r...</td>\n",
       "      <td>The first or `` red '' system consists of narr...</td>\n",
       "      <td>0</td>\n",
       "    </tr>\n",
       "  </tbody>\n",
       "</table>\n",
       "</div>"
      ],
      "text/plain": [
       "                                                 line1  \\\n",
       "45   A proposed Mahadayi River ( Mandovi River ) wa...   \n",
       "937  Rıza Maksut İşman ( 1915 in Istanbul -- Decemb...   \n",
       "658  A Peri whose power is in her hair appears in E...   \n",
       "529  This made him the first 994nd grader to play f...   \n",
       "895  The first or `` narrow '' system consists of r...   \n",
       "\n",
       "                                                 line2  is_paraphrase  \n",
       "45   A proposed Mahadayi River ( Mandovi River ) wa...              1  \n",
       "937  Rıza Maksut İşman ( 1915 in İzmir -- December ...              0  \n",
       "658  A Peri whose force appears in her hair is in E...              0  \n",
       "529  This made him the 994th first grader to play f...              0  \n",
       "895  The first or `` red '' system consists of narr...              0  "
      ]
     },
     "execution_count": 19,
     "metadata": {},
     "output_type": "execute_result"
    }
   ],
   "source": [
    "print(len(dev_hard), len(dev_hard_big))\n",
    "dev_hard_big.head()"
   ]
  },
  {
   "cell_type": "code",
   "execution_count": 21,
   "metadata": {},
   "outputs": [
    {
     "name": "stdout",
     "output_type": "stream",
     "text": [
      "Train accuray: 0.842235\n",
      "Validation accuracy: 0.837438\n"
     ]
    },
    {
     "data": {
      "image/png": "[encoded data removed]",
      "text/plain": [
       "<Figure size 432x288 with 2 Axes>"
      ]
     },
     "metadata": {
      "needs_background": "light"
     },
     "output_type": "display_data"
    }
   ],
   "source": [
    "# normal\n",
    "ret = run_experiment(dev_big, devtest_small, call_clean_text=True)\n",
    "experiments['big'] = ret"
   ]
  },
  {
   "cell_type": "code",
   "execution_count": 23,
   "metadata": {},
   "outputs": [
    {
     "name": "stdout",
     "output_type": "stream",
     "text": [
      "Train accuray: 0.681333\n",
      "Validation accuracy: 0.686000\n"
     ]
    },
    {
     "data": {
      "image/png": "[encoded data removed]",
      "text/plain": [
       "<Figure size 432x288 with 2 Axes>"
      ]
     },
     "metadata": {
      "needs_background": "light"
     },
     "output_type": "display_data"
    }
   ],
   "source": [
    "# hard\n",
    "ret = run_experiment(dev_hard_big, devtest_hard_small, call_clean_text=True)\n",
    "experiments['big_hard'] = ret"
   ]
  },
  {
   "cell_type": "markdown",
   "metadata": {},
   "source": [
    "Train a single model for both normal and hard by concatenating all data. The results were actually worse, which might mean that the normal and hard version are very different."
   ]
  },
  {
   "cell_type": "code",
   "execution_count": 24,
   "metadata": {},
   "outputs": [
    {
     "name": "stdout",
     "output_type": "stream",
     "text": [
      "Train accuray: 0.690099\n",
      "Validation accuracy: 0.667770\n"
     ]
    },
    {
     "data": {
      "image/png": "[encoded data removed]",
      "text/plain": [
       "<Figure size 432x288 with 2 Axes>"
      ]
     },
     "metadata": {
      "needs_background": "light"
     },
     "output_type": "display_data"
    }
   ],
   "source": [
    "ret = run_experiment(\n",
    "    pd.concat([dev_big, dev_hard_big]), \n",
    "    pd.concat([devtest_small, devtest_hard_small]), \n",
    "    call_clean_text=True)\n",
    "experiments['combined'] = ret"
   ]
  },
  {
   "cell_type": "code",
   "execution_count": 30,
   "metadata": {},
   "outputs": [
    {
     "name": "stdout",
     "output_type": "stream",
     "text": [
      "Train accuray: 0.690099\n",
      "Validation accuracy: 0.812808\n"
     ]
    },
    {
     "data": {
      "image/png": "[encoded data removed]",
      "text/plain": [
       "<Figure size 432x288 with 2 Axes>"
      ]
     },
     "metadata": {
      "needs_background": "light"
     },
     "output_type": "display_data"
    }
   ],
   "source": [
    "# evaluate performance separately\n",
    "# the model has never seen devtest_small or devtest_hard_small\n",
    "# okay to call run_experiment here since I set training to be deterministic\n",
    "ret = run_experiment(\n",
    "    pd.concat([dev_big, dev_hard_big]), \n",
    "    devtest_small,\n",
    "    call_clean_text=True)\n",
    "experiments['combined_normal'] = ret"
   ]
  },
  {
   "cell_type": "code",
   "execution_count": 31,
   "metadata": {},
   "outputs": [
    {
     "name": "stdout",
     "output_type": "stream",
     "text": [
      "Train accuray: 0.690099\n",
      "Validation accuracy: 0.550000\n"
     ]
    },
    {
     "data": {
      "image/png": "[encoded data removed]",
      "text/plain": [
       "<Figure size 432x288 with 2 Axes>"
      ]
     },
     "metadata": {
      "needs_background": "light"
     },
     "output_type": "display_data"
    }
   ],
   "source": [
    "ret = run_experiment(\n",
    "    pd.concat([dev_big, dev_hard_big]), \n",
    "    devtest_hard_small,\n",
    "    call_clean_text=True)\n",
    "experiments['combined_hard'] = ret"
   ]
  },
  {
   "cell_type": "markdown",
   "metadata": {},
   "source": [
    "# Text cleaning\n",
    "- Remove punctuations\n",
    "- Remove stopwords\n",
    "- Stem\n",
    "\n",
    "Use the bigger sets."
   ]
  },
  {
   "cell_type": "code",
   "execution_count": 42,
   "metadata": {},
   "outputs": [
    {
     "name": "stdout",
     "output_type": "stream",
     "text": [
      "Train accuray: 0.823336\n",
      "Validation accuracy: 0.852217\n"
     ]
    },
    {
     "data": {
      "image/png": "[encoded data removed]",
      "text/plain": [
       "<Figure size 432x288 with 2 Axes>"
      ]
     },
     "metadata": {
      "needs_background": "light"
     },
     "output_type": "display_data"
    }
   ],
   "source": [
    "# normal\n",
    "ret = run_experiment(dev_big, devtest_small, call_clean_text=True, \n",
    "                    clean_text_kws={'remove_punkt': True})\n",
    "experiments['no_punkt'] = ret"
   ]
  },
  {
   "cell_type": "code",
   "execution_count": 33,
   "metadata": {},
   "outputs": [
    {
     "name": "stdout",
     "output_type": "stream",
     "text": [
      "Train accuray: 0.681333\n",
      "Validation accuracy: 0.686000\n"
     ]
    },
    {
     "data": {
      "image/png": "[encoded data removed]",
      "text/plain": [
       "<Figure size 432x288 with 2 Axes>"
      ]
     },
     "metadata": {
      "needs_background": "light"
     },
     "output_type": "display_data"
    }
   ],
   "source": [
    "# hard\n",
    "ret = run_experiment(dev_hard_big, devtest_hard_small, call_clean_text=True, \n",
    "                    clean_text_kws={'remove_punkt': True})\n",
    "experiments['no_punkt_hard'] = ret"
   ]
  },
  {
   "cell_type": "code",
   "execution_count": 35,
   "metadata": {},
   "outputs": [
    {
     "name": "stdout",
     "output_type": "stream",
     "text": [
      "Train accuray: 0.842235\n",
      "Validation accuracy: 0.837438\n"
     ]
    },
    {
     "data": {
      "image/png": "[encoded data removed]",
      "text/plain": [
       "<Figure size 432x288 with 2 Axes>"
      ]
     },
     "metadata": {
      "needs_background": "light"
     },
     "output_type": "display_data"
    }
   ],
   "source": [
    "# normal\n",
    "ret = run_experiment(dev_big, devtest_small, call_clean_text=True, \n",
    "                    clean_text_kws={'remove_punkt': True, \n",
    "                                    'remove_stopwords': True})\n",
    "experiments['no_punkt_stopwords'] = ret"
   ]
  },
  {
   "cell_type": "code",
   "execution_count": 36,
   "metadata": {},
   "outputs": [
    {
     "name": "stdout",
     "output_type": "stream",
     "text": [
      "Train accuray: 0.842235\n",
      "Validation accuracy: 0.837438\n"
     ]
    },
    {
     "data": {
      "image/png": "[encoded data removed]",
      "text/plain": [
       "<Figure size 432x288 with 2 Axes>"
      ]
     },
     "metadata": {
      "needs_background": "light"
     },
     "output_type": "display_data"
    }
   ],
   "source": [
    "# normal\n",
    "ret = run_experiment(dev_big, devtest_small, call_clean_text=True, \n",
    "                    clean_text_kws={'remove_punkt': True, \n",
    "                                    'remove_stopwords': True,\n",
    "                                    'stem': True\n",
    "                                   })\n",
    "experiments['stem'] = ret"
   ]
  },
  {
   "cell_type": "markdown",
   "metadata": {},
   "source": [
    "# Feature visualization"
   ]
  },
  {
   "cell_type": "code",
   "execution_count": null,
   "metadata": {},
   "outputs": [],
   "source": []
  },
  {
   "cell_type": "markdown",
   "metadata": {},
   "source": [
    "# Submission"
   ]
  },
  {
   "cell_type": "code",
   "execution_count": 12,
   "metadata": {},
   "outputs": [],
   "source": [
    "submission = pd.DataFrame({\n",
    "    'id': range(len(y_pred)),\n",
    "    'Category': y_pred\n",
    "})"
   ]
  },
  {
   "cell_type": "code",
   "execution_count": 13,
   "metadata": {},
   "outputs": [],
   "source": [
    "# submission.to_csv('output/submission.csv', index=False)"
   ]
  },
  {
   "cell_type": "code",
   "execution_count": 17,
   "metadata": {},
   "outputs": [],
   "source": [
    "# dump(model, 'output/mlp-hard.joblib') "
   ]
  }
 ],
 "metadata": {
  "kernelspec": {
   "display_name": "py38",
   "language": "python",
   "name": "py38"
  },
  "language_info": {
   "codemirror_mode": {
    "name": "ipython",
    "version": 3
   },
   "file_extension": ".py",
   "mimetype": "text/x-python",
   "name": "python",
   "nbconvert_exporter": "python",
   "pygments_lexer": "ipython3",
   "version": "3.8.3"
  }
 },
 "nbformat": 4,
 "nbformat_minor": 4
}
