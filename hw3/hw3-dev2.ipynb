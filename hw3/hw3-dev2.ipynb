{
 "cells": [
  {
   "cell_type": "code",
   "execution_count": 1,
   "metadata": {},
   "outputs": [],
   "source": [
    "import re\n",
    "from copy import deepcopy\n",
    "\n",
    "import numpy as np\n",
    "import pandas as pd\n",
    "import matplotlib.pyplot as plt\n",
    "import seaborn as sns\n",
    "\n",
    "from sklearn.preprocessing import LabelEncoder\n",
    "from sklearn.metrics import confusion_matrix, accuracy_score\n",
    "\n",
    "import torch\n",
    "import torch.nn as nn\n",
    "import torch.optim as optim\n",
    "import torch.nn.functional as F"
   ]
  },
  {
   "cell_type": "code",
   "execution_count": 2,
   "metadata": {},
   "outputs": [
    {
     "data": {
      "text/plain": [
       "<torch._C.Generator at 0x7fe21969d930>"
      ]
     },
     "execution_count": 2,
     "metadata": {},
     "output_type": "execute_result"
    }
   ],
   "source": [
    "np.set_printoptions(precision=4)\n",
    "np.random.seed(0)\n",
    "torch.manual_seed(0)"
   ]
  },
  {
   "cell_type": "code",
   "execution_count": 3,
   "metadata": {},
   "outputs": [],
   "source": [
    "DATADIR = 'data/'"
   ]
  },
  {
   "cell_type": "code",
   "execution_count": 4,
   "metadata": {},
   "outputs": [],
   "source": [
    "def read_corpus(file):\n",
    "    \"\"\"\n",
    "    returns:\n",
    "        lines: [['hello', 'world'], ...]\n",
    "        labels: [[!], [N], ...]\n",
    "        vocab\n",
    "    \"\"\"\n",
    "    with open(file, 'rt') as f:\n",
    "        text = f.read()\n",
    "    lines = text.split('\\n\\n')\n",
    "    ret_lines = []\n",
    "    labels = []\n",
    "    vocab = set()\n",
    "    for line in lines:\n",
    "        if not line: \n",
    "            continue\n",
    "        curr_line = []\n",
    "        for token_label_str in line.split('\\n'):\n",
    "            if not token_label_str: \n",
    "                continue\n",
    "            token, label = token_label_str.split('\\t')\n",
    "            vocab.add(token)\n",
    "            labels.append(label)\n",
    "            curr_line.append(token)\n",
    "        ret_lines.append(curr_line)\n",
    "    return ret_lines, labels, vocab"
   ]
  },
  {
   "cell_type": "code",
   "execution_count": 5,
   "metadata": {},
   "outputs": [],
   "source": [
    "def encode_lines(lines, word2idx_map, window_size):\n",
    "    \"\"\"\n",
    "    returns X: len(lines) x (2 * window_size + 1)\n",
    "    \"\"\"\n",
    "    def encode_line(line, word2idx_map, window_size):\n",
    "        num_repr = [] # numerical representation\n",
    "        for word in line:\n",
    "            num = word2idx_map.get(word, word2idx_map['UUUNKKK'])\n",
    "            num_repr.append(num)\n",
    "        # pad with start and end tokens\n",
    "        start = [word2idx_map['<s>']] * window_size\n",
    "        end = [word2idx_map['</s>']] * window_size\n",
    "        padded = start + num_repr + end\n",
    "        \n",
    "        ret = []\n",
    "        for i in range(window_size, len(padded) - window_size):\n",
    "            windowed = padded[i - window_size : i + window_size + 1]\n",
    "            ret.append(windowed)\n",
    "            \n",
    "        return ret\n",
    "    \n",
    "    res = []\n",
    "    for line in lines:\n",
    "        res.extend(encode_line(line, word2idx_map, window_size))\n",
    "    return torch.tensor(res)"
   ]
  },
  {
   "cell_type": "code",
   "execution_count": 6,
   "metadata": {},
   "outputs": [],
   "source": [
    "def construct_features(lines, features):\n",
    "    \"\"\"\n",
    "    features: a set of characters to look for in each token\n",
    "    also append to the end:\n",
    "        - a count feature for digits\n",
    "        - a count feature for the length of the entire token\n",
    "    returns X: len(lines) x num_features\n",
    "    \"\"\"\n",
    "    res = []\n",
    "    for line in lines:\n",
    "        for word in line:\n",
    "            word_features = []\n",
    "            char_set = set(word)\n",
    "            for feature in features:\n",
    "                val = 1 if feature in char_set else 0\n",
    "                word_features.append(val)\n",
    "\n",
    "            word_features.append(len(re.findall(r'\\d', word))) # digit feature\n",
    "            word_features.append(len(word)) # count feature\n",
    "        \n",
    "            res.append(word_features)\n",
    "    return torch.tensor(res)"
   ]
  },
  {
   "cell_type": "markdown",
   "metadata": {},
   "source": [
    "# Network"
   ]
  },
  {
   "cell_type": "code",
   "execution_count": 7,
   "metadata": {},
   "outputs": [],
   "source": [
    "class FeedForwardTagger(nn.Module):\n",
    "    \n",
    "    def __init__(self, vocab_size, window_size, output_dim,\n",
    "                 emb_dim=50, pretrained_emb=None, freeze=False,\n",
    "                num_extra_features=0):\n",
    "        super(FeedForwardTagger, self).__init__()\n",
    "        if pretrained_emb:\n",
    "            self.emb = nn.Embedding.from_pretrained(pretrain_emb)\n",
    "        else:\n",
    "            self.emb = nn.Embedding(vocab_size, emb_dim)\n",
    "            torch.nn.init.uniform_(self.emb.weight, -0.01, 0.01)\n",
    "        \n",
    "        input_dim = (2 * window_size + 1) * emb_dim + num_extra_features\n",
    "        \n",
    "        self.num_feat = num_extra_features\n",
    "        self.fc1 = nn.Linear(input_dim, 128)\n",
    "        self.fc2 = nn.Linear(128, output_dim)\n",
    "    \n",
    "    def forward(self, inputs):\n",
    "        if self.num_feat != 0:\n",
    "            # embed up to num_extra_features\n",
    "            embeds = self.emb(inputs[:, :-self.num_feat]).view((inputs.shape[0], -1))\n",
    "            # concat emb w/ extra features\n",
    "            x = torch.cat((embeds, inputs[:, -self.num_feat:]), dim=1)\n",
    "        else:\n",
    "            x = embeds = self.emb(inputs).view((inputs.shape[0], -1))\n",
    "            \n",
    "        out = torch.tanh(self.fc1(x))\n",
    "        out = self.fc2(out)\n",
    "        log_probs = F.log_softmax(out, dim=1)\n",
    "        return log_probs"
   ]
  },
  {
   "cell_type": "code",
   "execution_count": 8,
   "metadata": {},
   "outputs": [],
   "source": [
    "def train_util(model, X_train, Y_train, X_dev, Y_dev, n_epochs, lr, \n",
    "              batch_size):\n",
    "    \"\"\"\n",
    "    returns: best_model, losses, train_accu_list, dev_accu_list\n",
    "    \"\"\"\n",
    "    loss_func = nn.CrossEntropyLoss()\n",
    "    optimizer = optim.SGD(model.parameters(), lr=lr)\n",
    "    \n",
    "    best_model = None\n",
    "    best_dev_accu = 0\n",
    "    losses = []\n",
    "    train_accu_list, dev_accu_list = [], []\n",
    "    for epoch in range(n_epochs):\n",
    "        epoch_loss = 0\n",
    "        \n",
    "        for i in range(0, X_train.shape[0], batch_size):\n",
    "            optimizer.zero_grad()\n",
    "            log_probs = model(X_train[i : i + batch_size])\n",
    "            loss = loss_func(log_probs, Y_train[i : i + batch_size])\n",
    "            loss.backward()\n",
    "            optimizer.step()\n",
    "            epoch_loss += loss.item()\n",
    "        \n",
    "        train_preds = torch.argmax(model(X_train), dim=1)\n",
    "        train_accu = accuracy_score(Y_train, train_preds)\n",
    "        # evaluate on dev\n",
    "        dev_preds = torch.argmax(model(X_dev), dim=1)\n",
    "        dev_accu = accuracy_score(Y_dev, dev_preds)\n",
    "        \n",
    "        # early stopping, save the model if it has improved on dev\n",
    "        if dev_accu > best_dev_accu:\n",
    "            best_dev_accu = dev_accu\n",
    "            best_model = deepcopy(model)\n",
    "        \n",
    "        print('Epoch {}: train_loss {:.4f}, train_accu: {:.4f}, dev_accu: {:.4f}'\\\n",
    "              .format(epoch, epoch_loss, train_accu, dev_accu))\n",
    "        losses.append(epoch_loss)\n",
    "        train_accu_list.append(train_accu)\n",
    "        dev_accu_list.append(dev_accu)\n",
    "        \n",
    "    loss_accu_df = pd.DataFrame({\n",
    "        'epoch': range(n_epochs), \n",
    "        'loss': losses,\n",
    "        'train_accu': train_accu_list,\n",
    "        'dev_accu': dev_accu_list})\n",
    "        \n",
    "    return best_model, loss_accu_df"
   ]
  },
  {
   "cell_type": "markdown",
   "metadata": {},
   "source": [
    "# Plotting Utils"
   ]
  },
  {
   "cell_type": "code",
   "execution_count": 9,
   "metadata": {},
   "outputs": [],
   "source": [
    "def plot_loss_accu(loss_accu_df_list, window_list):\n",
    "    \"\"\"\n",
    "    input: two lists of the same length, loss_accu_df, window\n",
    "    \"\"\"\n",
    "    dfs = []\n",
    "    for df, w in zip(loss_accu_df_list, window_list):\n",
    "        df1 = df.melt(\n",
    "            'epoch', value_vars=['loss']).assign(window=w, plot='loss')\n",
    "        df2 = df.melt(\n",
    "            'epoch', value_vars=['train_accu', 'dev_accu']).assign(window=w, plot='accu')\n",
    "        dfs.extend([df1, df2])\n",
    "    plot_df = pd.concat(dfs)\n",
    "\n",
    "    g = sns.FacetGrid(data=plot_df, row='plot', col='window', \n",
    "                      hue='variable', sharey=False)\n",
    "    g.map_dataframe(sns.lineplot, x='epoch', y='value')\n",
    "    g.add_legend()\n",
    "\n",
    "def plot_confusion_matrix(matrix, labels, title):\n",
    "    plt.figure(figsize=(10, 6))\n",
    "    ax = sns.heatmap(matrix, xticklabels=labels, yticklabels=labels, \n",
    "                     annot=True, fmt='d', cmap='Blues')\n",
    "    ax.set_xlabel('Predictions')\n",
    "    ax.set_ylabel('True labels')\n",
    "    ax.set_title(title)"
   ]
  },
  {
   "cell_type": "markdown",
   "metadata": {},
   "source": [
    "# Load Data"
   ]
  },
  {
   "cell_type": "code",
   "execution_count": 10,
   "metadata": {},
   "outputs": [],
   "source": [
    "train, train_labels, train_vocab = read_corpus(DATADIR + 'twpos-train.tsv')\n",
    "dev, dev_labels, dev_vocab = read_corpus(DATADIR + 'twpos-dev.tsv')\n",
    "devtest, devtest_labels, devtest_vocab = read_corpus(DATADIR + 'twpos-devtest.tsv')"
   ]
  },
  {
   "cell_type": "code",
   "execution_count": 11,
   "metadata": {},
   "outputs": [],
   "source": [
    "all_labels = np.unique(train_labels)\n",
    "all_labels_devtest = np.unique(devtest_labels) # devtest labels\n",
    "\n",
    "label_encoder = LabelEncoder()\n",
    "label_encoder.fit(all_labels)\n",
    "Y_train = label_encoder.transform(train_labels)\n",
    "Y_dev = label_encoder.transform(dev_labels)\n",
    "Y_devtest = label_encoder.transform(devtest_labels)\n",
    "Y_train = torch.tensor(Y_train, dtype=torch.long)\n",
    "Y_dev = torch.tensor(Y_dev, dtype=torch.long)\n",
    "Y_devtest = torch.tensor(Y_devtest, dtype=torch.long)"
   ]
  },
  {
   "cell_type": "code",
   "execution_count": 12,
   "metadata": {},
   "outputs": [],
   "source": [
    "# devtest labels\n",
    "all_labels_devtest = np.unique(devtest_labels)"
   ]
  },
  {
   "cell_type": "code",
   "execution_count": 13,
   "metadata": {},
   "outputs": [],
   "source": [
    "vocab = train_vocab.copy()\n",
    "vocab.update(dev_vocab)\n",
    "vocab.update(devtest_vocab)"
   ]
  },
  {
   "cell_type": "markdown",
   "metadata": {},
   "source": [
    "# 1. Baseline w/ Randomly Initialized Embeddings"
   ]
  },
  {
   "cell_type": "code",
   "execution_count": 14,
   "metadata": {},
   "outputs": [],
   "source": [
    "# construct maps for randomly initialized embs\n",
    "idx2word_rand = sorted(vocab)\n",
    "idx2word_rand += ['<s>', '</s>', 'UUUNKKK']\n",
    "word2idx_rand = {word: idx for idx, word in enumerate(idx2word_rand)}"
   ]
  },
  {
   "cell_type": "markdown",
   "metadata": {},
   "source": [
    "## Encode Train, Dev, DevTest"
   ]
  },
  {
   "cell_type": "code",
   "execution_count": 15,
   "metadata": {},
   "outputs": [],
   "source": [
    "# w = 0\n",
    "X_train_w0 = encode_lines(train, word2idx_rand, window_size=0)\n",
    "X_dev_w0 = encode_lines(dev, word2idx_rand, window_size=0)\n",
    "X_devtest_w0 = encode_lines(devtest, word2idx_rand, window_size=0)"
   ]
  },
  {
   "cell_type": "code",
   "execution_count": 16,
   "metadata": {},
   "outputs": [],
   "source": [
    "# w = 1\n",
    "X_train_w1 = encode_lines(train, word2idx_rand, window_size=1)\n",
    "X_dev_w1 = encode_lines(dev, word2idx_rand, window_size=1)\n",
    "X_devtest_w1 = encode_lines(devtest, word2idx_rand, window_size=1)"
   ]
  },
  {
   "cell_type": "markdown",
   "metadata": {},
   "source": [
    "## Train Model"
   ]
  },
  {
   "cell_type": "markdown",
   "metadata": {},
   "source": [
    "### w = 0"
   ]
  },
  {
   "cell_type": "code",
   "execution_count": 17,
   "metadata": {
    "scrolled": true
   },
   "outputs": [
    {
     "name": "stdout",
     "output_type": "stream",
     "text": [
      "Epoch 0: train_loss 49.3802, train_accu: 0.1652, dev_accu: 0.1541\n",
      "Epoch 1: train_loss 42.1918, train_accu: 0.4285, dev_accu: 0.4207\n",
      "Epoch 2: train_loss 32.1496, train_accu: 0.5423, dev_accu: 0.5354\n",
      "Epoch 3: train_loss 26.3757, train_accu: 0.6097, dev_accu: 0.5988\n",
      "Epoch 4: train_loss 23.1270, train_accu: 0.6576, dev_accu: 0.6403\n",
      "Epoch 5: train_loss 20.3001, train_accu: 0.6721, dev_accu: 0.6536\n",
      "Epoch 6: train_loss 17.7295, train_accu: 0.7035, dev_accu: 0.6793\n",
      "Epoch 7: train_loss 15.6525, train_accu: 0.7626, dev_accu: 0.7106\n",
      "Epoch 8: train_loss 13.7601, train_accu: 0.8196, dev_accu: 0.7256\n",
      "Epoch 9: train_loss 12.0061, train_accu: 0.8340, dev_accu: 0.7353\n",
      "Epoch 10: train_loss 10.6053, train_accu: 0.8451, dev_accu: 0.7351\n",
      "Epoch 11: train_loss 9.4055, train_accu: 0.8631, dev_accu: 0.7474\n",
      "Epoch 12: train_loss 8.4387, train_accu: 0.8782, dev_accu: 0.7519\n",
      "Epoch 13: train_loss 7.6493, train_accu: 0.8923, dev_accu: 0.7602\n",
      "Epoch 14: train_loss 6.9922, train_accu: 0.8968, dev_accu: 0.7631\n",
      "Epoch 15: train_loss 6.4886, train_accu: 0.9001, dev_accu: 0.7666\n",
      "Epoch 16: train_loss 6.1093, train_accu: 0.9095, dev_accu: 0.7673\n",
      "Epoch 17: train_loss 5.7836, train_accu: 0.9126, dev_accu: 0.7702\n",
      "Epoch 18: train_loss 5.5078, train_accu: 0.9207, dev_accu: 0.7712\n",
      "Epoch 19: train_loss 5.3644, train_accu: 0.9226, dev_accu: 0.7739\n",
      "Epoch 20: train_loss 5.1458, train_accu: 0.9228, dev_accu: 0.7737\n",
      "Epoch 21: train_loss 4.9744, train_accu: 0.9226, dev_accu: 0.7706\n",
      "Epoch 22: train_loss 4.8942, train_accu: 0.9231, dev_accu: 0.7745\n",
      "Epoch 23: train_loss 4.7473, train_accu: 0.9253, dev_accu: 0.7739\n",
      "Epoch 24: train_loss 4.6860, train_accu: 0.9228, dev_accu: 0.7747\n"
     ]
    }
   ],
   "source": [
    "model_w0 = FeedForwardTagger(vocab_size=len(word2idx_rand), \n",
    "                          window_size=0,\n",
    "                          output_dim=len(all_labels))\n",
    "best_model_w0, df_w0 = train_util(model_w0, X_train_w0, Y_train, X_dev_w0, Y_dev, \n",
    "                                  n_epochs=25, lr=2, batch_size=1000)"
   ]
  },
  {
   "cell_type": "code",
   "execution_count": 18,
   "metadata": {},
   "outputs": [
    {
     "name": "stdout",
     "output_type": "stream",
     "text": [
      "devtest_accu: 0.7883\n"
     ]
    }
   ],
   "source": [
    "# evaluate on devtest\n",
    "devtest_preds = torch.argmax(best_model_w0(X_devtest_w0), dim=1)\n",
    "devtest_accu = accuracy_score(Y_devtest, devtest_preds)\n",
    "conf_matrix_w0 = confusion_matrix(Y_devtest, devtest_preds)\n",
    "print('devtest_accu: {:.4f}'.format(devtest_accu))"
   ]
  },
  {
   "cell_type": "markdown",
   "metadata": {},
   "source": [
    "### w = 1"
   ]
  },
  {
   "cell_type": "code",
   "execution_count": 19,
   "metadata": {},
   "outputs": [
    {
     "name": "stdout",
     "output_type": "stream",
     "text": [
      "Epoch 0: train_loss 49.9499, train_accu: 0.1172, dev_accu: 0.1037\n",
      "Epoch 1: train_loss 44.8702, train_accu: 0.2278, dev_accu: 0.2226\n",
      "Epoch 2: train_loss 34.8385, train_accu: 0.5602, dev_accu: 0.5457\n",
      "Epoch 3: train_loss 25.7112, train_accu: 0.6178, dev_accu: 0.6086\n",
      "Epoch 4: train_loss 21.3319, train_accu: 0.6613, dev_accu: 0.6451\n",
      "Epoch 5: train_loss 18.2763, train_accu: 0.7041, dev_accu: 0.6804\n",
      "Epoch 6: train_loss 15.7911, train_accu: 0.7351, dev_accu: 0.7009\n",
      "Epoch 7: train_loss 13.8275, train_accu: 0.7707, dev_accu: 0.7231\n",
      "Epoch 8: train_loss 12.1296, train_accu: 0.8060, dev_accu: 0.7405\n",
      "Epoch 9: train_loss 10.6213, train_accu: 0.8375, dev_accu: 0.7571\n",
      "Epoch 10: train_loss 9.2967, train_accu: 0.8641, dev_accu: 0.7687\n",
      "Epoch 11: train_loss 8.1518, train_accu: 0.8816, dev_accu: 0.7781\n",
      "Epoch 12: train_loss 7.1844, train_accu: 0.8945, dev_accu: 0.7826\n",
      "Epoch 13: train_loss 6.3795, train_accu: 0.9054, dev_accu: 0.7866\n",
      "Epoch 14: train_loss 5.7129, train_accu: 0.9133, dev_accu: 0.7911\n",
      "Epoch 15: train_loss 5.1475, train_accu: 0.9197, dev_accu: 0.7971\n",
      "Epoch 16: train_loss 4.6678, train_accu: 0.9276, dev_accu: 0.7986\n",
      "Epoch 17: train_loss 4.2564, train_accu: 0.9341, dev_accu: 0.8009\n",
      "Epoch 18: train_loss 3.9011, train_accu: 0.9409, dev_accu: 0.8025\n",
      "Epoch 19: train_loss 3.5907, train_accu: 0.9459, dev_accu: 0.8032\n",
      "Epoch 20: train_loss 3.3155, train_accu: 0.9505, dev_accu: 0.8046\n",
      "Epoch 21: train_loss 3.0679, train_accu: 0.9540, dev_accu: 0.8054\n",
      "Epoch 22: train_loss 2.8435, train_accu: 0.9580, dev_accu: 0.8056\n",
      "Epoch 23: train_loss 2.6395, train_accu: 0.9646, dev_accu: 0.8081\n",
      "Epoch 24: train_loss 2.4536, train_accu: 0.9701, dev_accu: 0.8141\n"
     ]
    }
   ],
   "source": [
    "model_w1 = FeedForwardTagger(vocab_size=len(word2idx_rand), \n",
    "                          window_size=1,\n",
    "                          output_dim=len(all_labels))\n",
    "best_model_w1, df_w1 = train_util(model_w1, X_train_w1, Y_train, X_dev_w1, Y_dev, \n",
    "                                  n_epochs=25, lr=2, batch_size=1000)"
   ]
  },
  {
   "cell_type": "code",
   "execution_count": 20,
   "metadata": {
    "scrolled": true
   },
   "outputs": [
    {
     "name": "stdout",
     "output_type": "stream",
     "text": [
      "devtest_accu: 0.8258\n"
     ]
    }
   ],
   "source": [
    "devtest_preds = torch.argmax(best_model_w1(X_devtest_w1), dim=1)\n",
    "devtest_accu = accuracy_score(Y_devtest, devtest_preds)\n",
    "conf_matrix_w1 = confusion_matrix(Y_devtest, devtest_preds)\n",
    "print('devtest_accu: {:.4f}'.format(devtest_accu))"
   ]
  },
  {
   "cell_type": "markdown",
   "metadata": {},
   "source": [
    "## Plot losses and accuracy, and confusion matrix"
   ]
  },
  {
   "cell_type": "code",
   "execution_count": 21,
   "metadata": {},
   "outputs": [
    {
     "data": {
      "image/png": "[encoded data removed]",
      "text/plain": [
       "<Figure size 519.875x432 with 4 Axes>"
      ]
     },
     "metadata": {
      "needs_background": "light"
     },
     "output_type": "display_data"
    }
   ],
   "source": [
    "plot_loss_accu([df_w0, df_w1], window_list=[0, 1])"
   ]
  },
  {
   "cell_type": "code",
   "execution_count": 22,
   "metadata": {},
   "outputs": [
    {
     "data": {
      "image/png": "[encoded data removed]",
      "text/plain": [
       "<Figure size 720x432 with 2 Axes>"
      ]
     },
     "metadata": {
      "needs_background": "light"
     },
     "output_type": "display_data"
    }
   ],
   "source": [
    "plot_confusion_matrix(conf_matrix_w0, all_labels_devtest, 'w=0')"
   ]
  },
  {
   "cell_type": "code",
   "execution_count": 23,
   "metadata": {},
   "outputs": [
    {
     "data": {
      "image/png": "[encoded data removed]",
      "text/plain": [
       "<Figure size 720x432 with 2 Axes>"
      ]
     },
     "metadata": {
      "needs_background": "light"
     },
     "output_type": "display_data"
    }
   ],
   "source": [
    "plot_confusion_matrix(conf_matrix_w0, all_labels_devtest, 'w=1')"
   ]
  },
  {
   "cell_type": "markdown",
   "metadata": {},
   "source": [
    "# 2. Feature Engineering\n",
    "In addition to the following binary features, I also added a count feature for digits and a count feature for the length of the entire token."
   ]
  },
  {
   "cell_type": "code",
   "execution_count": 24,
   "metadata": {},
   "outputs": [],
   "source": [
    "FEATURES = ['#', '%', \"'\", '/', ':', '’']"
   ]
  },
  {
   "cell_type": "code",
   "execution_count": 25,
   "metadata": {},
   "outputs": [],
   "source": [
    "X_train_features = construct_features(train, FEATURES)\n",
    "X_dev_features = construct_features(dev, FEATURES)\n",
    "X_devtest_features = construct_features(devtest, FEATURES)"
   ]
  },
  {
   "cell_type": "code",
   "execution_count": 26,
   "metadata": {},
   "outputs": [],
   "source": [
    "NUM_FEATURES = X_train_features.shape[1]"
   ]
  },
  {
   "cell_type": "code",
   "execution_count": 27,
   "metadata": {},
   "outputs": [],
   "source": [
    "X_train_w0_feat = torch.cat((X_train_w0, X_train_features), dim=1)\n",
    "X_dev_w0_feat = torch.cat((X_dev_w0, X_dev_features), dim=1)\n",
    "X_devtest_w0_feat = torch.cat((X_devtest_w0, X_devtest_features), dim=1)"
   ]
  },
  {
   "cell_type": "code",
   "execution_count": 28,
   "metadata": {},
   "outputs": [],
   "source": [
    "X_train_w1_feat = torch.cat((X_train_w1, X_train_features), dim=1)\n",
    "X_dev_w1_feat = torch.cat((X_dev_w1, X_dev_features), dim=1)\n",
    "X_devtest_w1_feat = torch.cat((X_devtest_w1, X_devtest_features), dim=1)"
   ]
  },
  {
   "cell_type": "markdown",
   "metadata": {},
   "source": [
    "### W=0"
   ]
  },
  {
   "cell_type": "code",
   "execution_count": 33,
   "metadata": {},
   "outputs": [
    {
     "name": "stdout",
     "output_type": "stream",
     "text": [
      "Epoch 0: train_loss 55.9053, train_accu: 0.1680, dev_accu: 0.1713\n",
      "Epoch 1: train_loss 52.6714, train_accu: 0.1682, dev_accu: 0.1717\n",
      "Epoch 2: train_loss 51.0381, train_accu: 0.1719, dev_accu: 0.1761\n",
      "Epoch 3: train_loss 50.1106, train_accu: 0.1755, dev_accu: 0.1751\n",
      "Epoch 4: train_loss 49.4684, train_accu: 0.1783, dev_accu: 0.1786\n",
      "Epoch 5: train_loss 48.9694, train_accu: 0.1783, dev_accu: 0.1784\n",
      "Epoch 6: train_loss 48.5571, train_accu: 0.1783, dev_accu: 0.1784\n",
      "Epoch 7: train_loss 48.2021, train_accu: 0.1783, dev_accu: 0.1784\n",
      "Epoch 8: train_loss 47.8866, train_accu: 0.1783, dev_accu: 0.1784\n",
      "Epoch 9: train_loss 47.5992, train_accu: 0.1776, dev_accu: 0.1786\n",
      "Epoch 10: train_loss 47.3321, train_accu: 0.1865, dev_accu: 0.1875\n",
      "Epoch 11: train_loss 47.0801, train_accu: 0.1862, dev_accu: 0.1863\n",
      "Epoch 12: train_loss 46.8395, train_accu: 0.2454, dev_accu: 0.2392\n",
      "Epoch 13: train_loss 46.6077, train_accu: 0.2676, dev_accu: 0.2607\n",
      "Epoch 14: train_loss 46.3830, train_accu: 0.2676, dev_accu: 0.2607\n",
      "Epoch 15: train_loss 46.1642, train_accu: 0.2675, dev_accu: 0.2607\n",
      "Epoch 16: train_loss 45.9504, train_accu: 0.2675, dev_accu: 0.2607\n",
      "Epoch 17: train_loss 45.7410, train_accu: 0.2675, dev_accu: 0.2607\n",
      "Epoch 18: train_loss 45.5356, train_accu: 0.2675, dev_accu: 0.2605\n",
      "Epoch 19: train_loss 45.3339, train_accu: 0.2675, dev_accu: 0.2605\n",
      "Epoch 20: train_loss 45.1356, train_accu: 0.2675, dev_accu: 0.2605\n",
      "Epoch 21: train_loss 44.9407, train_accu: 0.2674, dev_accu: 0.2605\n",
      "Epoch 22: train_loss 44.7490, train_accu: 0.2673, dev_accu: 0.2603\n",
      "Epoch 23: train_loss 44.5606, train_accu: 0.2680, dev_accu: 0.2607\n",
      "Epoch 24: train_loss 44.3753, train_accu: 0.2680, dev_accu: 0.2609\n"
     ]
    }
   ],
   "source": [
    "model_w0_feat = FeedForwardTagger(vocab_size=len(word2idx_rand), \n",
    "                                  window_size=0, \n",
    "                                  output_dim=len(all_labels),\n",
    "                                 num_extra_features=NUM_FEATURES)\n",
    "best_model_w0_feat, df_w0_feat = \\\n",
    "train_util(model_w0_feat, X_train_w0_feat, Y_train, X_dev_w0_feat, Y_dev, \n",
    "                                  n_epochs=25, lr=0.02, batch_size=1000)"
   ]
  },
  {
   "cell_type": "code",
   "execution_count": null,
   "metadata": {},
   "outputs": [],
   "source": [
    "devtest_preds = torch.argmax(best_model_w1(X_devtest_w1), dim=1)\n",
    "devtest_accu = accuracy_score(Y_devtest, devtest_preds)\n",
    "conf_matrix_w1 = confusion_matrix(Y_devtest, devtest_preds)\n",
    "print('devtest_accu: {:.4f}'.format(devtest_accu))"
   ]
  },
  {
   "cell_type": "markdown",
   "metadata": {},
   "source": [
    "# 3. Pretrained Embeddings"
   ]
  },
  {
   "cell_type": "code",
   "execution_count": 30,
   "metadata": {},
   "outputs": [],
   "source": [
    "# construct maps for pretrained word embs"
   ]
  },
  {
   "cell_type": "markdown",
   "metadata": {},
   "source": [
    "# 4. Architecture Engineering\n",
    "## w = 2"
   ]
  },
  {
   "cell_type": "code",
   "execution_count": 31,
   "metadata": {},
   "outputs": [],
   "source": [
    "# w = 2\n",
    "X_train_w2 = encode_lines(train, word2idx_rand, window_size=2)\n",
    "X_dev_w2 = encode_lines(dev, word2idx_rand, window_size=2)\n",
    "X_devtest_w2 = encode_lines(devtest, word2idx_rand, window_size=2)"
   ]
  }
 ],
 "metadata": {
  "kernelspec": {
   "display_name": "py38",
   "language": "python",
   "name": "py38"
  },
  "language_info": {
   "codemirror_mode": {
    "name": "ipython",
    "version": 3
   },
   "file_extension": ".py",
   "mimetype": "text/x-python",
   "name": "python",
   "nbconvert_exporter": "python",
   "pygments_lexer": "ipython3",
   "version": "3.8.5"
  }
 },
 "nbformat": 4,
 "nbformat_minor": 4
}
